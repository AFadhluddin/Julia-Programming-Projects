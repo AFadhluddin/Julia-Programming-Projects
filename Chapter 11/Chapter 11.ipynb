{
  "cells": [
    {
      "cell_type": "code",
      "source": [
        "using Test"
      ],
      "outputs": [],
      "execution_count": 1,
      "metadata": {}
    },
    {
      "cell_type": "code",
      "source": [
        "@test 1 == 1"
      ],
      "outputs": [
        {
          "output_type": "execute_result",
          "execution_count": 2,
          "data": {
            "text/plain": [
              "\u001b[32m\u001b[1mTest Passed\u001b[22m\u001b[39m"
            ]
          },
          "metadata": {}
        }
      ],
      "execution_count": 2,
      "metadata": {
        "collapsed": false,
        "outputHidden": false,
        "inputHidden": false
      }
    },
    {
      "cell_type": "code",
      "source": [
        "@test 'A' == 'a'"
      ],
      "outputs": [
        {
          "output_type": "stream",
          "name": "stdout",
          "text": [
            "\u001b[91m\u001b[1mTest Failed\u001b[22m\u001b[39m at \u001b[39m\u001b[1mIn[3]:1\u001b[22m\n",
            "  Expression: 'A' == 'a'\n",
            "   Evaluated: 'A' == 'a'\n"
          ]
        },
        {
          "output_type": "error",
          "ename": "Test.FallbackTestSetException",
          "evalue": "There was an error during testing",
          "traceback": [
            "There was an error during testing",
            "",
            "Stacktrace:",
            " [1] record(::Test.FallbackTestSet, ::Test.Fail) at /Users/osx/buildbot/slave/package_osx64/build/usr/share/julia/stdlib/v1.0/Test/src/Test.jl:707",
            " [2] do_test(::Test.Returned, ::Expr) at /Users/osx/buildbot/slave/package_osx64/build/usr/share/julia/stdlib/v1.0/Test/src/Test.jl:496",
            " [3] top-level scope at In[3]:1"
          ]
        }
      ],
      "execution_count": 3,
      "metadata": {
        "collapsed": false,
        "outputHidden": false,
        "inputHidden": false
      }
    },
    {
      "cell_type": "code",
      "source": [
        "@testset \"Example\" begin\n",
        "    @test :a == :a\n",
        "    @test 'x' == 'y'\n",
        "end"
      ],
      "outputs": [
        {
          "output_type": "stream",
          "name": "stdout",
          "text": [
            "\u001b[37mExample: \u001b[39m\u001b[91m\u001b[1mTest Failed\u001b[22m\u001b[39m at \u001b[39m\u001b[1mIn[4]:3\u001b[22m\n",
            "  Expression: 'x' == 'y'\n",
            "   Evaluated: 'x' == 'y'\n",
            "Stacktrace:\n",
            " [1] \u001b[1mmacro expansion\u001b[22m at \u001b[1m./In[4]:3\u001b[22m [inlined]\n",
            " [2] \u001b[1mmacro expansion\u001b[22m at \u001b[1m/Users/osx/buildbot/slave/package_osx64/build/usr/share/julia/stdlib/v1.0/Test/src/Test.jl:1083\u001b[22m [inlined]\n",
            " [3] top-level scope at \u001b[1m./In[4]:2\u001b[22m\n",
            "\u001b[37m\u001b[1mTest Summary: | \u001b[22m\u001b[39m\u001b[32m\u001b[1mPass  \u001b[22m\u001b[39m\u001b[91m\u001b[1mFail  \u001b[22m\u001b[39m\u001b[36m\u001b[1mTotal\u001b[22m\u001b[39m\n",
            "Example       | \u001b[32m   1  \u001b[39m\u001b[91m   1  \u001b[39m\u001b[36m    2\u001b[39m\n"
          ]
        },
        {
          "output_type": "error",
          "ename": "TestSetException",
          "evalue": "Some tests did not pass: 1 passed, 1 failed, 0 errored, 0 broken.",
          "traceback": [
            "Some tests did not pass: 1 passed, 1 failed, 0 errored, 0 broken.",
            "",
            "Stacktrace:",
            " [1] finish(::Test.DefaultTestSet) at /Users/osx/buildbot/slave/package_osx64/build/usr/share/julia/stdlib/v1.0/Test/src/Test.jl:847",
            " [2] top-level scope at /Users/osx/buildbot/slave/package_osx64/build/usr/share/julia/stdlib/v1.0/Test/src/Test.jl:1090"
          ]
        }
      ],
      "execution_count": 4,
      "metadata": {
        "collapsed": false,
        "outputHidden": false,
        "inputHidden": false
      }
    },
    {
      "cell_type": "code",
      "source": [
        "@testset \"Example\" begin\n",
        "    error(\"Oh no!\")\n",
        "end"
      ],
      "outputs": [
        {
          "output_type": "stream",
          "name": "stdout",
          "text": [
            "\u001b[37mExample: \u001b[39m\u001b[91m\u001b[1mError During Test\u001b[22m\u001b[39m at \u001b[39m\u001b[1mIn[5]:1\u001b[22m\n",
            "  Got exception outside of a @test\n",
            "  Oh no!\n",
            "  Stacktrace:\n",
            "   [1] error(::String) at ./error.jl:33\n",
            "   [2] macro expansion at ./In[5]:2 [inlined]\n",
            "   [3] macro expansion at /Users/osx/buildbot/slave/package_osx64/build/usr/share/julia/stdlib/v1.0/Test/src/Test.jl:1083 [inlined]\n",
            "   [4] top-level scope at ./In[5]:2\n",
            "   [5] eval at ./boot.jl:319 [inlined]\n",
            "   [6] softscope_include_string(::Module, ::String, ::String) at /Users/adrian/.julia/packages/SoftGlobalScope/ujmiK/src/SoftGlobalScope.jl:206\n",
            "   [7] execute_request(::ZMQ.Socket, ::IJulia.Msg) at /Users/adrian/.julia/packages/IJulia/DL02A/src/execute_request.jl:65\n",
            "   [8] #invokelatest#1 at ./essentials.jl:697 [inlined]\n",
            "   [9] invokelatest at ./essentials.jl:696 [inlined]\n",
            "   [10] eventloop(::ZMQ.Socket) at /Users/adrian/.julia/packages/IJulia/DL02A/src/eventloop.jl:8\n",
            "   [11] (::getfield(IJulia, Symbol(\"##12#15\")))() at ./task.jl:259\n",
            "\u001b[37m\u001b[1mTest Summary: | \u001b[22m\u001b[39m\u001b[91m\u001b[1mError  \u001b[22m\u001b[39m\u001b[36m\u001b[1mTotal\u001b[22m\u001b[39m\n",
            "Example       | \u001b[91m    1  \u001b[39m\u001b[36m    1\u001b[39m\n"
          ]
        },
        {
          "output_type": "error",
          "ename": "TestSetException",
          "evalue": "Some tests did not pass: 0 passed, 0 failed, 1 errored, 0 broken.",
          "traceback": [
            "Some tests did not pass: 0 passed, 0 failed, 1 errored, 0 broken.",
            "",
            "Stacktrace:",
            " [1] finish(::Test.DefaultTestSet) at /Users/osx/buildbot/slave/package_osx64/build/usr/share/julia/stdlib/v1.0/Test/src/Test.jl:847",
            " [2] macro expansion at /Users/osx/buildbot/slave/package_osx64/build/usr/share/julia/stdlib/v1.0/Test/src/Test.jl:1092 [inlined]",
            " [3] top-level scope at ./In[5]:2"
          ]
        }
      ],
      "execution_count": 5,
      "metadata": {
        "collapsed": false,
        "outputHidden": false,
        "inputHidden": false
      }
    },
    {
      "cell_type": "code",
      "source": [
        "using Pkg\n",
        "pkg\"add BenchmarkTools\"\n",
        "using BenchmarkTools"
      ],
      "outputs": [
        {
          "output_type": "stream",
          "name": "stdout",
          "text": [
            "\u001b[32m\u001b[1m  Updating\u001b[22m\u001b[39m registry at `~/.julia/registries/General`\n",
            "\u001b[32m\u001b[1m  Updating\u001b[22m\u001b[39m git-repo `https://github.com/JuliaRegistries/General.git`\n",
            "\u001b[2K\u001b[?25h\u001b[32m\u001b[1m Resolving\u001b[22m\u001b[39m package versions...===============>]  100.0 %.0 %\n",
            "\u001b[32m\u001b[1m  Updating\u001b[22m\u001b[39m `~/.julia/environments/v1.0/Project.toml`\n",
            "\u001b[90m [no changes]\u001b[39m\n",
            "\u001b[32m\u001b[1m  Updating\u001b[22m\u001b[39m `~/.julia/environments/v1.0/Manifest.toml`\n",
            "\u001b[90m [no changes]\u001b[39m\n"
          ]
        }
      ],
      "execution_count": 7,
      "metadata": {
        "collapsed": false,
        "outputHidden": false,
        "inputHidden": false
      }
    },
    {
      "cell_type": "code",
      "source": [
        "function f1()\n",
        "    x = 0\n",
        "\n",
        "    for i in 1:10\n",
        "        x += sin(i)\n",
        "    end\n",
        "       \t\n",
        "    x\n",
        "end"
      ],
      "outputs": [
        {
          "output_type": "execute_result",
          "execution_count": 8,
          "data": {
            "text/plain": [
              "f1 (generic function with 1 method)"
            ]
          },
          "metadata": {}
        }
      ],
      "execution_count": 8,
      "metadata": {
        "collapsed": false,
        "outputHidden": false,
        "inputHidden": false
      }
    },
    {
      "cell_type": "code",
      "source": [
        "@code_warntype f1()"
      ],
      "outputs": [
        {
          "output_type": "stream",
          "name": "stdout",
          "text": [
            "Body\u001b[91m\u001b[1m::Union{Float64, Int64}\u001b[22m\u001b[39m\n",
            "\u001b[90m\u001b[63G│╻╷╷   Colon\u001b[1G\u001b[39m\u001b[90m4 \u001b[39m1 ──       (Base.ifelse)(true, 10, 0)\n",
            "\u001b[90m\u001b[63G││╻╷╷   isempty\u001b[1G\u001b[39m\u001b[90m  \u001b[39m│    %2  = (Base.slt_int)(10, 1)\u001b[36m::Bool\u001b[39m\n",
            "\u001b[90m\u001b[63G││    \u001b[1G\u001b[39m\u001b[90m  \u001b[39m└───       goto #3 if not %2\n",
            "\u001b[90m\u001b[63G││    \u001b[1G\u001b[39m\u001b[90m  \u001b[39m2 ──       goto #4\n",
            "\u001b[90m\u001b[63G││    \u001b[1G\u001b[39m\u001b[90m  \u001b[39m3 ──       goto #4\n",
            "\u001b[90m\u001b[63G│     \u001b[1G\u001b[39m\u001b[90m  \u001b[39m4 ┄─ %6  = φ (#2 => true, #3 => false)\u001b[36m::Bool\u001b[39m\n",
            "\u001b[90m\u001b[63G│     \u001b[1G\u001b[39m\u001b[90m  \u001b[39m│    %7  = φ (#3 => 1)\u001b[36m::Int64\u001b[39m\n",
            "\u001b[90m\u001b[63G│     \u001b[1G\u001b[39m\u001b[90m  \u001b[39m│    %8  = φ (#3 => 1)\u001b[36m::Int64\u001b[39m\n",
            "\u001b[90m\u001b[63G│     \u001b[1G\u001b[39m\u001b[90m  \u001b[39m│    %9  = (Base.not_int)(%6)\u001b[36m::Bool\u001b[39m\n",
            "\u001b[90m\u001b[63G│     \u001b[1G\u001b[39m\u001b[90m  \u001b[39m└───       goto #15 if not %9\n",
            "\u001b[90m\u001b[63G│     \u001b[1G\u001b[39m\u001b[90m  \u001b[39m5 ┄─ %11 = φ (#4 => 0, #14 => %29)\u001b[91m\u001b[1m::Union{Float64, Int64}\u001b[22m\u001b[39m\n",
            "\u001b[90m\u001b[63G│     \u001b[1G\u001b[39m\u001b[90m  \u001b[39m│    %12 = φ (#4 => %7, #14 => %35)\u001b[36m::Int64\u001b[39m\n",
            "\u001b[90m\u001b[63G│     \u001b[1G\u001b[39m\u001b[90m  \u001b[39m│    %13 = φ (#4 => %8, #14 => %36)\u001b[36m::Int64\u001b[39m\n",
            "\u001b[90m\u001b[63G│╻╷╷╷  sin\u001b[1G\u001b[39m\u001b[90m5 \u001b[39m│    %14 = (Base.sitofp)(Float64, %12)\u001b[36m::Float64\u001b[39m\n",
            "\u001b[90m\u001b[63G││    \u001b[1G\u001b[39m\u001b[90m  \u001b[39m│    %15 = invoke Base.Math.sin(%14::Float64)\u001b[36m::Float64\u001b[39m\n",
            "\u001b[90m\u001b[63G│     \u001b[1G\u001b[39m\u001b[90m  \u001b[39m│    %16 = (isa)(%11, Float64)\u001b[36m::Bool\u001b[39m\n",
            "\u001b[90m\u001b[63G│     \u001b[1G\u001b[39m\u001b[90m  \u001b[39m└───       goto #7 if not %16\n",
            "\u001b[90m\u001b[63G│     \u001b[1G\u001b[39m\u001b[90m  \u001b[39m6 ── %18 = π (%11, \u001b[36mFloat64\u001b[39m)\n",
            "\u001b[90m\u001b[63G│╻     +\u001b[1G\u001b[39m\u001b[90m  \u001b[39m│    %19 = (Base.add_float)(%18, %15)\u001b[36m::Float64\u001b[39m\n",
            "\u001b[90m\u001b[63G│     \u001b[1G\u001b[39m\u001b[90m  \u001b[39m└───       goto #10\n",
            "\u001b[90m\u001b[63G│     \u001b[1G\u001b[39m\u001b[90m  \u001b[39m7 ── %21 = (isa)(%11, Int64)\u001b[36m::Bool\u001b[39m\n",
            "\u001b[90m\u001b[63G│     \u001b[1G\u001b[39m\u001b[90m  \u001b[39m└───       goto #9 if not %21\n",
            "\u001b[90m\u001b[63G│     \u001b[1G\u001b[39m\u001b[90m  \u001b[39m8 ── %23 = π (%11, \u001b[36mInt64\u001b[39m)\n",
            "\u001b[90m\u001b[63G││╻╷╷╷  promote\u001b[1G\u001b[39m\u001b[90m  \u001b[39m│    %24 = (Base.sitofp)(Float64, %23)\u001b[36m::Float64\u001b[39m\n",
            "\u001b[90m\u001b[63G││╻     +\u001b[1G\u001b[39m\u001b[90m  \u001b[39m│    %25 = (Base.add_float)(%24, %15)\u001b[36m::Float64\u001b[39m\n",
            "\u001b[90m\u001b[63G│     \u001b[1G\u001b[39m\u001b[90m  \u001b[39m└───       goto #10\n",
            "\u001b[90m\u001b[63G│     \u001b[1G\u001b[39m\u001b[90m  \u001b[39m9 ──       (Core.throw)(ErrorException(\"fatal error in type inference (type bound)\"))\n",
            "\u001b[90m\u001b[63G│     \u001b[1G\u001b[39m\u001b[90m  \u001b[39m└───       $(Expr(:unreachable))\n",
            "\u001b[90m\u001b[63G│     \u001b[1G\u001b[39m\u001b[90m  \u001b[39m10 ┄ %29 = φ (#6 => %19, #8 => %25)\u001b[36m::Float64\u001b[39m\n",
            "\u001b[90m\u001b[63G││╻     ==\u001b[1G\u001b[39m\u001b[90m  \u001b[39m│    %30 = (%13 === 10)\u001b[36m::Bool\u001b[39m\n",
            "\u001b[90m\u001b[63G││    \u001b[1G\u001b[39m\u001b[90m  \u001b[39m└───       goto #12 if not %30\n",
            "\u001b[90m\u001b[63G││    \u001b[1G\u001b[39m\u001b[90m  \u001b[39m11 ─       goto #13\n",
            "\u001b[90m\u001b[63G││╻     +\u001b[1G\u001b[39m\u001b[90m  \u001b[39m12 ─ %33 = (Base.add_int)(%13, 1)\u001b[36m::Int64\u001b[39m\n",
            "\u001b[90m\u001b[63G│╻     iterate\u001b[1G\u001b[39m\u001b[90m  \u001b[39m└───       goto #13\n",
            "\u001b[90m\u001b[63G│     \u001b[1G\u001b[39m\u001b[90m  \u001b[39m13 ┄ %35 = φ (#12 => %33)\u001b[36m::Int64\u001b[39m\n",
            "\u001b[90m\u001b[63G│     \u001b[1G\u001b[39m\u001b[90m  \u001b[39m│    %36 = φ (#12 => %33)\u001b[36m::Int64\u001b[39m\n",
            "\u001b[90m\u001b[63G│     \u001b[1G\u001b[39m\u001b[90m  \u001b[39m│    %37 = φ (#11 => true, #12 => false)\u001b[36m::Bool\u001b[39m\n",
            "\u001b[90m\u001b[63G│     \u001b[1G\u001b[39m\u001b[90m  \u001b[39m│    %38 = (Base.not_int)(%37)\u001b[36m::Bool\u001b[39m\n",
            "\u001b[90m\u001b[63G│     \u001b[1G\u001b[39m\u001b[90m  \u001b[39m└───       goto #15 if not %38\n",
            "\u001b[90m\u001b[63G│     \u001b[1G\u001b[39m\u001b[90m  \u001b[39m14 ─       goto #5\n",
            "\u001b[90m\u001b[63G│     \u001b[1G\u001b[39m\u001b[90m8 \u001b[39m15 ─ %41 = φ (#13 => %29, #4 => 0)\u001b[91m\u001b[1m::Union{Float64, Int64}\u001b[22m\u001b[39m\n",
            "\u001b[90m\u001b[63G│     \u001b[1G\u001b[39m\u001b[90m  \u001b[39m└───       return %41\n"
          ]
        }
      ],
      "execution_count": 9,
      "metadata": {
        "collapsed": false,
        "outputHidden": false,
        "inputHidden": false
      }
    },
    {
      "cell_type": "code",
      "source": [
        "pkg\"add Traceur\"\n",
        "using Traceur"
      ],
      "outputs": [
        {
          "output_type": "stream",
          "name": "stdout",
          "text": [
            "\u001b[32m\u001b[1m Resolving\u001b[22m\u001b[39m package versions...\n",
            "\u001b[32m\u001b[1m  Updating\u001b[22m\u001b[39m `~/.julia/environments/v1.0/Project.toml`\n",
            "\u001b[90m [no changes]\u001b[39m\n",
            "\u001b[32m\u001b[1m  Updating\u001b[22m\u001b[39m `~/.julia/environments/v1.0/Manifest.toml`\n",
            "\u001b[90m [no changes]\u001b[39m\n"
          ]
        }
      ],
      "execution_count": 11,
      "metadata": {
        "collapsed": false,
        "outputHidden": false,
        "inputHidden": false
      }
    },
    {
      "cell_type": "code",
      "source": [
        "@trace f1()"
      ],
      "outputs": [
        {
          "output_type": "stream",
          "name": "stderr",
          "text": [
            "┌ Warning: x is assigned as Int64\n",
            "└ @ In[8]:2\n",
            "┌ Warning: x is assigned as Float64\n",
            "└ @ In[8]:5\n",
            "┌ Warning: f1 returns Union{Float64, Int64}\n",
            "└ @ In[8]:2\n"
          ]
        },
        {
          "output_type": "execute_result",
          "execution_count": 12,
          "data": {
            "text/plain": [
              "1.4111883712180104"
            ]
          },
          "metadata": {}
        }
      ],
      "execution_count": 12,
      "metadata": {
        "collapsed": false,
        "outputHidden": false,
        "inputHidden": false
      }
    },
    {
      "cell_type": "code",
      "source": [
        "function f2()\n",
        "    x = 0.0\n",
        "\n",
        "    for i in 1:10\n",
        "        x += sin(i)\n",
        "    end\n",
        "    \n",
        "    x\n",
        "end"
      ],
      "outputs": [
        {
          "output_type": "execute_result",
          "execution_count": 13,
          "data": {
            "text/plain": [
              "f2 (generic function with 1 method)"
            ]
          },
          "metadata": {}
        }
      ],
      "execution_count": 13,
      "metadata": {
        "collapsed": false,
        "outputHidden": false,
        "inputHidden": false
      }
    },
    {
      "cell_type": "code",
      "source": [
        "@trace f2()"
      ],
      "outputs": [
        {
          "output_type": "execute_result",
          "execution_count": 14,
          "data": {
            "text/plain": [
              "1.4111883712180104"
            ]
          },
          "metadata": {}
        }
      ],
      "execution_count": 14,
      "metadata": {
        "collapsed": false,
        "outputHidden": false,
        "inputHidden": false
      }
    },
    {
      "cell_type": "code",
      "source": [
        "@btime f1()"
      ],
      "outputs": [
        {
          "output_type": "stream",
          "name": "stdout",
          "text": [
            "  126.535 ns (0 allocations: 0 bytes)\n"
          ]
        },
        {
          "output_type": "execute_result",
          "execution_count": 15,
          "data": {
            "text/plain": [
              "1.4111883712180104"
            ]
          },
          "metadata": {}
        }
      ],
      "execution_count": 15,
      "metadata": {
        "collapsed": false,
        "outputHidden": false,
        "inputHidden": false
      }
    },
    {
      "cell_type": "code",
      "source": [
        "@btime f2()"
      ],
      "outputs": [
        {
          "output_type": "stream",
          "name": "stdout",
          "text": [
            "  79.531 ns (0 allocations: 0 bytes)\n"
          ]
        },
        {
          "output_type": "execute_result",
          "execution_count": 16,
          "data": {
            "text/plain": [
              "1.4111883712180104"
            ]
          },
          "metadata": {}
        }
      ],
      "execution_count": 16,
      "metadata": {
        "collapsed": false,
        "outputHidden": false,
        "inputHidden": false
      }
    },
    {
      "cell_type": "code",
      "source": [],
      "outputs": [],
      "execution_count": null,
      "metadata": {
        "collapsed": false,
        "outputHidden": false,
        "inputHidden": false
      }
    }
  ],
  "metadata": {
    "kernelspec": {
      "name": "julia-1.0",
      "language": "julia",
      "display_name": "Julia 1.0.1"
    },
    "language_info": {
      "file_extension": ".jl",
      "name": "julia",
      "mimetype": "application/julia",
      "version": "1.0.2"
    },
    "kernel_info": {
      "name": "julia-1.0"
    },
    "nteract": {
      "version": "0.12.3"
    }
  },
  "nbformat": 4,
  "nbformat_minor": 2
}