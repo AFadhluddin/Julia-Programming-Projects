{
 "cells": [
  {
   "cell_type": "code",
   "execution_count": 1,
   "metadata": {},
   "outputs": [],
   "source": [
    "using Dates"
   ]
  },
  {
   "cell_type": "code",
   "execution_count": 2,
   "metadata": {},
   "outputs": [
    {
     "data": {
      "text/plain": [
       "2018-11-08"
      ]
     },
     "execution_count": 2,
     "metadata": {},
     "output_type": "execute_result"
    }
   ],
   "source": [
    "d = today()"
   ]
  },
  {
   "cell_type": "code",
   "execution_count": 3,
   "metadata": {},
   "outputs": [
    {
     "data": {
      "text/plain": [
       "Date"
      ]
     },
     "execution_count": 3,
     "metadata": {},
     "output_type": "execute_result"
    }
   ],
   "source": [
    "typeof(d)"
   ]
  },
  {
   "cell_type": "code",
   "execution_count": 4,
   "metadata": {},
   "outputs": [
    {
     "data": {
      "text/plain": [
       "2018-11-08T16:33:29.609"
      ]
     },
     "execution_count": 4,
     "metadata": {},
     "output_type": "execute_result"
    }
   ],
   "source": [
    "dt = now()"
   ]
  },
  {
   "cell_type": "code",
   "execution_count": 5,
   "metadata": {},
   "outputs": [
    {
     "data": {
      "text/plain": [
       "DateTime"
      ]
     },
     "execution_count": 5,
     "metadata": {},
     "output_type": "execute_result"
    }
   ],
   "source": [
    "dt |> typeof"
   ]
  },
  {
   "cell_type": "code",
   "execution_count": 6,
   "metadata": {},
   "outputs": [
    {
     "data": {
      "text/plain": [
       "16:34:25.129"
      ]
     },
     "execution_count": 6,
     "metadata": {},
     "output_type": "execute_result"
    }
   ],
   "source": [
    "t = Time(now())"
   ]
  },
  {
   "cell_type": "code",
   "execution_count": 7,
   "metadata": {},
   "outputs": [
    {
     "data": {
      "text/plain": [
       "Time"
      ]
     },
     "execution_count": 7,
     "metadata": {},
     "output_type": "execute_result"
    }
   ],
   "source": [
    "typeof(t)"
   ]
  },
  {
   "cell_type": "code",
   "execution_count": 8,
   "metadata": {},
   "outputs": [
    {
     "data": {
      "text/plain": [
       "2018-11-08T15:35:14.019"
      ]
     },
     "execution_count": 8,
     "metadata": {},
     "output_type": "execute_result"
    }
   ],
   "source": [
    "now(UTC)"
   ]
  },
  {
   "cell_type": "code",
   "execution_count": 9,
   "metadata": {},
   "outputs": [
    {
     "data": {
      "text/plain": [
       "Dates.UTInstant{Millisecond}(63677378009609 milliseconds)"
      ]
     },
     "execution_count": 9,
     "metadata": {},
     "output_type": "execute_result"
    }
   ],
   "source": [
    "dt.instant"
   ]
  },
  {
   "cell_type": "code",
   "execution_count": 10,
   "metadata": {},
   "outputs": [
    {
     "data": {
      "text/plain": [
       "59665129000000 nanoseconds"
      ]
     },
     "execution_count": 10,
     "metadata": {},
     "output_type": "execute_result"
    }
   ],
   "source": [
    "t.instant"
   ]
  },
  {
   "cell_type": "code",
   "execution_count": 11,
   "metadata": {},
   "outputs": [
    {
     "data": {
      "text/plain": [
       "Dates.UTInstant{Day}(737006 days)"
      ]
     },
     "execution_count": 11,
     "metadata": {},
     "output_type": "execute_result"
    }
   ],
   "source": [
    "d.instant"
   ]
  },
  {
   "cell_type": "code",
   "execution_count": 12,
   "metadata": {},
   "outputs": [
    {
     "data": {
      "text/plain": [
       "2018-01-01T00:00:00"
      ]
     },
     "execution_count": 12,
     "metadata": {},
     "output_type": "execute_result"
    }
   ],
   "source": [
    "DateTime(2018)"
   ]
  },
  {
   "cell_type": "code",
   "execution_count": 14,
   "metadata": {},
   "outputs": [
    {
     "data": {
      "text/plain": [
       "2018-06-01T00:00:00"
      ]
     },
     "execution_count": 14,
     "metadata": {},
     "output_type": "execute_result"
    }
   ],
   "source": [
    "DateTime(2018, 6)"
   ]
  },
  {
   "cell_type": "code",
   "execution_count": 15,
   "metadata": {},
   "outputs": [
    {
     "data": {
      "text/plain": [
       "2018-06-15T00:00:00"
      ]
     },
     "execution_count": 15,
     "metadata": {},
     "output_type": "execute_result"
    }
   ],
   "source": [
    "DateTime(2018, 6, 15)"
   ]
  },
  {
   "cell_type": "code",
   "execution_count": 16,
   "metadata": {},
   "outputs": [
    {
     "data": {
      "text/plain": [
       "2018-06-15T10:00:00"
      ]
     },
     "execution_count": 16,
     "metadata": {},
     "output_type": "execute_result"
    }
   ],
   "source": [
    "DateTime(2018, 6, 15, 10)"
   ]
  },
  {
   "cell_type": "code",
   "execution_count": 18,
   "metadata": {},
   "outputs": [
    {
     "data": {
      "text/plain": [
       "2018-06-15T10:30:00"
      ]
     },
     "execution_count": 18,
     "metadata": {},
     "output_type": "execute_result"
    }
   ],
   "source": [
    "DateTime(2018, 6, 15, 10, 30)"
   ]
  },
  {
   "cell_type": "code",
   "execution_count": 19,
   "metadata": {},
   "outputs": [
    {
     "data": {
      "text/plain": [
       "2018-06-15T10:30:45"
      ]
     },
     "execution_count": 19,
     "metadata": {},
     "output_type": "execute_result"
    }
   ],
   "source": [
    "DateTime(2018, 6, 15, 10, 30, 45)"
   ]
  },
  {
   "cell_type": "code",
   "execution_count": 20,
   "metadata": {},
   "outputs": [
    {
     "data": {
      "text/plain": [
       "2018-06-15T10:30:45.123"
      ]
     },
     "execution_count": 20,
     "metadata": {},
     "output_type": "execute_result"
    }
   ],
   "source": [
    "DateTime(2018, 06, 15, 10, 30, 45, 123)"
   ]
  },
  {
   "cell_type": "code",
   "execution_count": 21,
   "metadata": {},
   "outputs": [
    {
     "data": {
      "text/plain": [
       "2019-01-01"
      ]
     },
     "execution_count": 21,
     "metadata": {},
     "output_type": "execute_result"
    }
   ],
   "source": [
    "Date(2019)"
   ]
  },
  {
   "cell_type": "code",
   "execution_count": 22,
   "metadata": {},
   "outputs": [
    {
     "data": {
      "text/plain": [
       "2018-12-31"
      ]
     },
     "execution_count": 22,
     "metadata": {},
     "output_type": "execute_result"
    }
   ],
   "source": [
    "Date(2018, 12, 31)"
   ]
  },
  {
   "cell_type": "code",
   "execution_count": 25,
   "metadata": {},
   "outputs": [
    {
     "data": {
      "text/plain": [
       "22:05:00"
      ]
     },
     "execution_count": 25,
     "metadata": {},
     "output_type": "execute_result"
    }
   ],
   "source": [
    "Time(22, 05)"
   ]
  },
  {
   "cell_type": "code",
   "execution_count": 26,
   "metadata": {},
   "outputs": [
    {
     "data": {
      "text/plain": [
       "22:05:25.456"
      ]
     },
     "execution_count": 26,
     "metadata": {},
     "output_type": "execute_result"
    }
   ],
   "source": [
    "Time(22, 05, 25, 456)"
   ]
  },
  {
   "cell_type": "code",
   "execution_count": 27,
   "metadata": {},
   "outputs": [
    {
     "ename": "ArgumentError",
     "evalue": "ArgumentError: Day: 32 out of range (1:31)",
     "output_type": "error",
     "traceback": [
      "ArgumentError: Day: 32 out of range (1:31)",
      "",
      "Stacktrace:",
      " [1] Date(::Int64, ::Int64, ::Int64) at /Users/osx/buildbot/slave/package_osx64/build/usr/share/julia/stdlib/v1.0/Dates/src/types.jl:207",
      " [2] top-level scope at In[27]:1"
     ]
    }
   ],
   "source": [
    "Date(2018, 12, 32)"
   ]
  },
  {
   "cell_type": "code",
   "execution_count": 28,
   "metadata": {},
   "outputs": [
    {
     "data": {
      "text/plain": [
       "11 hours"
      ]
     },
     "execution_count": 28,
     "metadata": {},
     "output_type": "execute_result"
    }
   ],
   "source": [
    "eleven_hours = Hour(11)"
   ]
  },
  {
   "cell_type": "code",
   "execution_count": 29,
   "metadata": {},
   "outputs": [
    {
     "data": {
      "text/plain": [
       "30 minutes"
      ]
     },
     "execution_count": 29,
     "metadata": {},
     "output_type": "execute_result"
    }
   ],
   "source": [
    "half_hour = Minute(30)"
   ]
  },
  {
   "cell_type": "code",
   "execution_count": 30,
   "metadata": {},
   "outputs": [
    {
     "data": {
      "text/plain": [
       "11:30:00"
      ]
     },
     "execution_count": 30,
     "metadata": {},
     "output_type": "execute_result"
    }
   ],
   "source": [
    "brunch_time = Time(eleven_hours, half_hour)"
   ]
  },
  {
   "cell_type": "code",
   "execution_count": 31,
   "metadata": {},
   "outputs": [
    {
     "data": {
      "text/plain": [
       "\"2018\""
      ]
     },
     "execution_count": 31,
     "metadata": {},
     "output_type": "execute_result"
    }
   ],
   "source": [
    "this_year = \"2018\""
   ]
  },
  {
   "cell_type": "code",
   "execution_count": 32,
   "metadata": {},
   "outputs": [
    {
     "data": {
      "text/plain": [
       "\"12\""
      ]
     },
     "execution_count": 32,
     "metadata": {},
     "output_type": "execute_result"
    }
   ],
   "source": [
    "xmas_month = \"12\""
   ]
  },
  {
   "cell_type": "code",
   "execution_count": 33,
   "metadata": {},
   "outputs": [
    {
     "data": {
      "text/plain": [
       "\"25\""
      ]
     },
     "execution_count": 33,
     "metadata": {},
     "output_type": "execute_result"
    }
   ],
   "source": [
    "xmas_day = \"25\""
   ]
  },
  {
   "cell_type": "code",
   "execution_count": 34,
   "metadata": {},
   "outputs": [
    {
     "data": {
      "text/plain": [
       "2018-12-25"
      ]
     },
     "execution_count": 34,
     "metadata": {},
     "output_type": "execute_result"
    }
   ],
   "source": [
    "Date(Year(this_year), Month(xmas_month), Day(xmas_day))"
   ]
  },
  {
   "cell_type": "code",
   "execution_count": 35,
   "metadata": {},
   "outputs": [
    {
     "data": {
      "text/plain": [
       "2019-12-25"
      ]
     },
     "execution_count": 35,
     "metadata": {},
     "output_type": "execute_result"
    }
   ],
   "source": [
    "Date(\"25/12/2019\", \"dd/mm/yyyy\") # Christmas day"
   ]
  },
  {
   "cell_type": "code",
   "execution_count": 36,
   "metadata": {},
   "outputs": [
    {
     "data": {
      "text/plain": [
       "2019-12-25T14:30:00"
      ]
     },
     "execution_count": 36,
     "metadata": {},
     "output_type": "execute_result"
    }
   ],
   "source": [
    "DateTime(\"25/12/2019 14,30\", \"dd/mm/yyyy HH,MM\") # xmas day, 2:30 PM"
   ]
  },
  {
   "cell_type": "code",
   "execution_count": 37,
   "metadata": {},
   "outputs": [
    {
     "data": {
      "text/plain": [
       "2018-02-01T12:35:00"
      ]
     },
     "execution_count": 37,
     "metadata": {},
     "output_type": "execute_result"
    }
   ],
   "source": [
    "DateTime(\"Thursday, 1 of February 2018 at 12.35\", \"E, d of U yyyy at HH.MM\")"
   ]
  },
  {
   "cell_type": "code",
   "execution_count": 38,
   "metadata": {},
   "outputs": [
    {
     "data": {
      "text/plain": [
       "100-element Array{String,1}:\n",
       " \"2016-3-14\" \n",
       " \"2015-3-20\" \n",
       " \"2019-5-28\" \n",
       " \"2016-1-1\"  \n",
       " \"2013-4-28\" \n",
       " \"2003-5-14\" \n",
       " \"2017-5-8\"  \n",
       " \"2007-3-17\" \n",
       " \"2007-5-24\" \n",
       " \"2020-4-1\"  \n",
       " \"2007-12-25\"\n",
       " \"2016-3-23\" \n",
       " \"2001-12-24\"\n",
       " ⋮           \n",
       " \"2020-10-20\"\n",
       " \"2011-2-17\" \n",
       " \"2014-5-28\" \n",
       " \"2001-6-13\" \n",
       " \"2018-5-21\" \n",
       " \"2013-4-9\"  \n",
       " \"2009-8-18\" \n",
       " \"2018-2-23\" \n",
       " \"2020-1-8\"  \n",
       " \"2010-5-18\" \n",
       " \"2012-10-25\"\n",
       " \"2005-3-18\" "
      ]
     },
     "execution_count": 38,
     "metadata": {},
     "output_type": "execute_result"
    }
   ],
   "source": [
    "d = [\"$(rand(2000:2020))-$(rand(1:12))-$(rand(1:28))\" for _ in 1:100]"
   ]
  },
  {
   "cell_type": "code",
   "execution_count": 40,
   "metadata": {},
   "outputs": [
    {
     "data": {
      "text/plain": [
       "100-element Array{Date,1}:\n",
       " 2016-03-14\n",
       " 2015-03-20\n",
       " 2019-05-28\n",
       " 2016-01-01\n",
       " 2013-04-28\n",
       " 2003-05-14\n",
       " 2017-05-08\n",
       " 2007-03-17\n",
       " 2007-05-24\n",
       " 2020-04-01\n",
       " 2007-12-25\n",
       " 2016-03-23\n",
       " 2001-12-24\n",
       " ⋮         \n",
       " 2020-10-20\n",
       " 2011-02-17\n",
       " 2014-05-28\n",
       " 2001-06-13\n",
       " 2018-05-21\n",
       " 2013-04-09\n",
       " 2009-08-18\n",
       " 2018-02-23\n",
       " 2020-01-08\n",
       " 2010-05-18\n",
       " 2012-10-25\n",
       " 2005-03-18"
      ]
     },
     "execution_count": 40,
     "metadata": {},
     "output_type": "execute_result"
    }
   ],
   "source": [
    "Date.(d, \"yyyy-mm-dd\")"
   ]
  },
  {
   "cell_type": "code",
   "execution_count": 41,
   "metadata": {},
   "outputs": [
    {
     "data": {
      "text/plain": [
       "dateformat\"yyyy-mm-dd\""
      ]
     },
     "execution_count": 41,
     "metadata": {},
     "output_type": "execute_result"
    }
   ],
   "source": [
    "date_format = DateFormat(\"yyyy-mm-dd\")"
   ]
  },
  {
   "cell_type": "code",
   "execution_count": 43,
   "metadata": {},
   "outputs": [
    {
     "data": {
      "text/plain": [
       "100-element Array{Date,1}:\n",
       " 2016-03-14\n",
       " 2015-03-20\n",
       " 2019-05-28\n",
       " 2016-01-01\n",
       " 2013-04-28\n",
       " 2003-05-14\n",
       " 2017-05-08\n",
       " 2007-03-17\n",
       " 2007-05-24\n",
       " 2020-04-01\n",
       " 2007-12-25\n",
       " 2016-03-23\n",
       " 2001-12-24\n",
       " ⋮         \n",
       " 2020-10-20\n",
       " 2011-02-17\n",
       " 2014-05-28\n",
       " 2001-06-13\n",
       " 2018-05-21\n",
       " 2013-04-09\n",
       " 2009-08-18\n",
       " 2018-02-23\n",
       " 2020-01-08\n",
       " 2010-05-18\n",
       " 2012-10-25\n",
       " 2005-03-18"
      ]
     },
     "execution_count": 43,
     "metadata": {},
     "output_type": "execute_result"
    }
   ],
   "source": [
    "Date.(d, date_format)"
   ]
  },
  {
   "cell_type": "code",
   "execution_count": 44,
   "metadata": {},
   "outputs": [
    {
     "data": {
      "text/plain": [
       "2018-12-25T00:00:00"
      ]
     },
     "execution_count": 44,
     "metadata": {},
     "output_type": "execute_result"
    }
   ],
   "source": [
    "DateTime(\"2018-12-25\", ISODateTimeFormat)"
   ]
  },
  {
   "cell_type": "code",
   "execution_count": 45,
   "metadata": {},
   "outputs": [
    {
     "data": {
      "text/plain": [
       "\"Thu, 08 Nov 2018 20:04:35\""
      ]
     },
     "execution_count": 45,
     "metadata": {},
     "output_type": "execute_result"
    }
   ],
   "source": [
    "Dates.format(now(), RFC1123Format)"
   ]
  },
  {
   "cell_type": "code",
   "execution_count": 47,
   "metadata": {},
   "outputs": [
    {
     "data": {
      "text/plain": [
       "12-element Array{String,1}:\n",
       " \"enero\"     \n",
       " \"febrero\"   \n",
       " \"marzo\"     \n",
       " \"abril\"     \n",
       " \"mayo\"      \n",
       " \"junio\"     \n",
       " \"julio\"     \n",
       " \"agosto\"    \n",
       " \"septiembre\"\n",
       " \"octubre\"   \n",
       " \"noviembre\" \n",
       " \"diciembre\" "
      ]
     },
     "execution_count": 47,
     "metadata": {},
     "output_type": "execute_result"
    }
   ],
   "source": [
    "spanish_months = [\"enero\", \"febrero\", \"marzo\", \"abril\", \"mayo\", \"junio\", \"julio\", \"agosto\", \"septiembre\", \"octubre\", \"noviembre\", \"diciembre\"]"
   ]
  },
  {
   "cell_type": "code",
   "execution_count": 48,
   "metadata": {},
   "outputs": [
    {
     "data": {
      "text/plain": [
       "7-element Array{String,1}:\n",
       " \"lunes\"    \n",
       " \"martes\"   \n",
       " \"miércoles\"\n",
       " \"jueves\"   \n",
       " \"viernes\"  \n",
       " \"sábado\"   \n",
       " \"domingo\"  "
      ]
     },
     "execution_count": 48,
     "metadata": {},
     "output_type": "execute_result"
    }
   ],
   "source": [
    "spanish_days = [\"lunes\", \"martes\", \"miércoles\", \"jueves\", \"viernes\", \"sábado\", \"domingo\"]"
   ]
  },
  {
   "cell_type": "code",
   "execution_count": 49,
   "metadata": {},
   "outputs": [
    {
     "data": {
      "text/plain": [
       "Dates.DateLocale([\"enero\", \"febrero\", \"marzo\", \"abril\", \"mayo\", \"junio\", \"julio\", \"agosto\", \"septiembre\", \"octubre\", \"noviembre\", \"diciembre\"], String[], [\"lunes\", \"martes\", \"miércoles\", \"jueves\", \"viernes\", \"sábado\", \"domingo\"], String[], Dict(\"julio\"=>7,\"septiembre\"=>9,\"enero\"=>1,\"marzo\"=>3,\"agosto\"=>8,\"octubre\"=>10,\"noviembre\"=>11,\"abril\"=>4,\"diciembre\"=>12,\"febrero\"=>2…), Dict{String,Int64}(), Dict(\"domingo\"=>7,\"miércoles\"=>3,\"jueves\"=>4,\"lunes\"=>1,\"sábado\"=>6,\"viernes\"=>5,\"martes\"=>2), Dict{String,Int64}())"
      ]
     },
     "execution_count": 49,
     "metadata": {},
     "output_type": "execute_result"
    }
   ],
   "source": [
    "Dates.LOCALES[\"es\"] = Dates.DateLocale(spanish_months, String[], spanish_days, String[])"
   ]
  },
  {
   "cell_type": "code",
   "execution_count": 50,
   "metadata": {},
   "outputs": [
    {
     "data": {
      "text/plain": [
       "\"jueves, 8 noviembre 2018\""
      ]
     },
     "execution_count": 50,
     "metadata": {},
     "output_type": "execute_result"
    }
   ],
   "source": [
    "Dates.format(now(), \"E, d U yyyy\", locale = \"es\")"
   ]
  },
  {
   "cell_type": "code",
   "execution_count": 51,
   "metadata": {},
   "outputs": [
    {
     "ename": "BoundsError",
     "evalue": "BoundsError: attempt to access 0-element Array{String,1} at index [4]",
     "output_type": "error",
     "traceback": [
      "BoundsError: attempt to access 0-element Array{String,1} at index [4]",
      "",
      "Stacktrace:",
      " [1] getindex at ./array.jl:731 [inlined]",
      " [2] dayabbr at /Users/osx/buildbot/slave/package_osx64/build/usr/share/julia/stdlib/v1.0/Dates/src/query.jl:127 [inlined]",
      " [3] format at /Users/osx/buildbot/slave/package_osx64/build/usr/share/julia/stdlib/v1.0/Dates/src/io.jl:142 [inlined]",
      " [4] macro expansion at /Users/osx/buildbot/slave/package_osx64/build/usr/share/julia/stdlib/v1.0/Dates/src/io.jl:481 [inlined]",
      " [5] format(::Base.GenericIOBuffer{Array{UInt8,1}}, ::DateTime, ::DateFormat{Symbol(\"e, d U yyyy\"),Tuple{Dates.DatePart{'e'},Dates.Delim{String,2},Dates.DatePart{'d'},Dates.Delim{Char,1},Dates.DatePart{'U'},Dates.Delim{Char,1},Dates.DatePart{'y'}}}) at /Users/osx/buildbot/slave/package_osx64/build/usr/share/julia/stdlib/v1.0/Dates/src/io.jl:477",
      " [6] format(::DateTime, ::DateFormat{Symbol(\"e, d U yyyy\"),Tuple{Dates.DatePart{'e'},Dates.Delim{String,2},Dates.DatePart{'d'},Dates.Delim{Char,1},Dates.DatePart{'U'},Dates.Delim{Char,1},Dates.DatePart{'y'}}}, ::Int64) at /Users/osx/buildbot/slave/package_osx64/build/usr/share/julia/stdlib/v1.0/Dates/src/io.jl:488",
      " [7] format(::DateTime, ::DateFormat{Symbol(\"e, d U yyyy\"),Tuple{Dates.DatePart{'e'},Dates.Delim{String,2},Dates.DatePart{'d'},Dates.Delim{Char,1},Dates.DatePart{'U'},Dates.Delim{Char,1},Dates.DatePart{'y'}}}) at /Users/osx/buildbot/slave/package_osx64/build/usr/share/julia/stdlib/v1.0/Dates/src/io.jl:487",
      " [8] #format#31(::String, ::Function, ::DateTime, ::String) at /Users/osx/buildbot/slave/package_osx64/build/usr/share/julia/stdlib/v1.0/Dates/src/io.jl:527",
      " [9] (::getfield(Dates, Symbol(\"#kw##format\")))(::NamedTuple{(:locale,),Tuple{String}}, ::typeof(Dates.format), ::DateTime, ::String) at ./none:0",
      " [10] top-level scope at In[51]:1"
     ]
    }
   ],
   "source": [
    "Dates.format(now(), \"e, d U yyyy\", locale = \"es\")"
   ]
  },
  {
   "cell_type": "code",
   "execution_count": 52,
   "metadata": {},
   "outputs": [
    {
     "data": {
      "text/plain": [
       "2018-04-22"
      ]
     },
     "execution_count": 52,
     "metadata": {},
     "output_type": "execute_result"
    }
   ],
   "source": [
    "earth_day = Date(2018, 4, 22)"
   ]
  },
  {
   "cell_type": "code",
   "execution_count": 53,
   "metadata": {},
   "outputs": [
    {
     "data": {
      "text/plain": [
       "2018"
      ]
     },
     "execution_count": 53,
     "metadata": {},
     "output_type": "execute_result"
    }
   ],
   "source": [
    "year(earth_day)"
   ]
  },
  {
   "cell_type": "code",
   "execution_count": 54,
   "metadata": {},
   "outputs": [
    {
     "data": {
      "text/plain": [
       "4"
      ]
     },
     "execution_count": 54,
     "metadata": {},
     "output_type": "execute_result"
    }
   ],
   "source": [
    "month(earth_day)"
   ]
  },
  {
   "cell_type": "code",
   "execution_count": 55,
   "metadata": {},
   "outputs": [
    {
     "data": {
      "text/plain": [
       "(4, 22)"
      ]
     },
     "execution_count": 55,
     "metadata": {},
     "output_type": "execute_result"
    }
   ],
   "source": [
    "monthday(earth_day) # month and day"
   ]
  },
  {
   "cell_type": "code",
   "execution_count": 56,
   "metadata": {},
   "outputs": [
    {
     "data": {
      "text/plain": [
       "(2018, 4, 22)"
      ]
     },
     "execution_count": 56,
     "metadata": {},
     "output_type": "execute_result"
    }
   ],
   "source": [
    "yearmonthday(earth_day) # year month and day"
   ]
  },
  {
   "cell_type": "code",
   "execution_count": 57,
   "metadata": {},
   "outputs": [
    {
     "data": {
      "text/plain": [
       "2018-04-22T22:00:00"
      ]
     },
     "execution_count": 57,
     "metadata": {},
     "output_type": "execute_result"
    }
   ],
   "source": [
    "earth_hour = DateTime(2018, 4, 22, 22, 00)"
   ]
  },
  {
   "cell_type": "code",
   "execution_count": 58,
   "metadata": {},
   "outputs": [
    {
     "data": {
      "text/plain": [
       "22"
      ]
     },
     "execution_count": 58,
     "metadata": {},
     "output_type": "execute_result"
    }
   ],
   "source": [
    "hour(earth_hour)"
   ]
  },
  {
   "cell_type": "code",
   "execution_count": 59,
   "metadata": {},
   "outputs": [
    {
     "data": {
      "text/plain": [
       "0"
      ]
     },
     "execution_count": 59,
     "metadata": {},
     "output_type": "execute_result"
    }
   ],
   "source": [
    "minute(earth_hour)"
   ]
  },
  {
   "cell_type": "code",
   "execution_count": 60,
   "metadata": {},
   "outputs": [
    {
     "data": {
      "text/plain": [
       "22 hours"
      ]
     },
     "execution_count": 60,
     "metadata": {},
     "output_type": "execute_result"
    }
   ],
   "source": [
    "Hour(earth_hour)"
   ]
  },
  {
   "cell_type": "code",
   "execution_count": 65,
   "metadata": {},
   "outputs": [
    {
     "data": {
      "text/plain": [
       "4 months"
      ]
     },
     "execution_count": 65,
     "metadata": {},
     "output_type": "execute_result"
    }
   ],
   "source": [
    "Month(earth_hour)"
   ]
  },
  {
   "cell_type": "code",
   "execution_count": 70,
   "metadata": {},
   "outputs": [
    {
     "data": {
      "text/plain": [
       "DatePeriod"
      ]
     },
     "execution_count": 70,
     "metadata": {},
     "output_type": "execute_result"
    }
   ],
   "source": [
    "Month(earth_hour) |> typeof |> supertype"
   ]
  },
  {
   "cell_type": "code",
   "execution_count": 71,
   "metadata": {},
   "outputs": [
    {
     "data": {
      "text/plain": [
       "Period"
      ]
     },
     "execution_count": 71,
     "metadata": {},
     "output_type": "execute_result"
    }
   ],
   "source": [
    "supertype(DatePeriod)"
   ]
  },
  {
   "cell_type": "code",
   "execution_count": 73,
   "metadata": {},
   "outputs": [
    {
     "data": {
      "text/plain": [
       "2019-06-21"
      ]
     },
     "execution_count": 73,
     "metadata": {},
     "output_type": "execute_result"
    }
   ],
   "source": [
    "yoga_day = Date(2019, 6, 21) # Really, the International Yoga Day!"
   ]
  },
  {
   "cell_type": "code",
   "execution_count": 74,
   "metadata": {},
   "outputs": [
    {
     "data": {
      "text/plain": [
       "\"Friday\""
      ]
     },
     "execution_count": 74,
     "metadata": {},
     "output_type": "execute_result"
    }
   ],
   "source": [
    "dayname(yoga_day)"
   ]
  },
  {
   "cell_type": "code",
   "execution_count": 75,
   "metadata": {},
   "outputs": [
    {
     "data": {
      "text/plain": [
       "5"
      ]
     },
     "execution_count": 75,
     "metadata": {},
     "output_type": "execute_result"
    }
   ],
   "source": [
    "dayofweek(yoga_day)"
   ]
  },
  {
   "cell_type": "code",
   "execution_count": 76,
   "metadata": {},
   "outputs": [
    {
     "data": {
      "text/plain": [
       "\"viernes\""
      ]
     },
     "execution_count": 76,
     "metadata": {},
     "output_type": "execute_result"
    }
   ],
   "source": [
    "dayname(yoga_day, locale=\"es\")"
   ]
  },
  {
   "cell_type": "code",
   "execution_count": 77,
   "metadata": {},
   "outputs": [
    {
     "data": {
      "text/plain": [
       "3"
      ]
     },
     "execution_count": 77,
     "metadata": {},
     "output_type": "execute_result"
    }
   ],
   "source": [
    "dayofweekofmonth(yoga_day)"
   ]
  },
  {
   "cell_type": "code",
   "execution_count": 78,
   "metadata": {},
   "outputs": [
    {
     "data": {
      "text/plain": [
       "\"junio\""
      ]
     },
     "execution_count": 78,
     "metadata": {},
     "output_type": "execute_result"
    }
   ],
   "source": [
    "monthname(yoga_day, locale=\"es\") # June, with the Spanish lo-cale"
   ]
  },
  {
   "cell_type": "code",
   "execution_count": 79,
   "metadata": {},
   "outputs": [
    {
     "data": {
      "text/plain": [
       "false"
      ]
     },
     "execution_count": 79,
     "metadata": {},
     "output_type": "execute_result"
    }
   ],
   "source": [
    "isleapyear(yoga_day)"
   ]
  },
  {
   "cell_type": "code",
   "execution_count": 80,
   "metadata": {},
   "outputs": [
    {
     "data": {
      "text/plain": [
       "172"
      ]
     },
     "execution_count": 80,
     "metadata": {},
     "output_type": "execute_result"
    }
   ],
   "source": [
    "dayofyear(yoga_day)"
   ]
  },
  {
   "cell_type": "code",
   "execution_count": 81,
   "metadata": {},
   "outputs": [
    {
     "data": {
      "text/plain": [
       "2"
      ]
     },
     "execution_count": 81,
     "metadata": {},
     "output_type": "execute_result"
    }
   ],
   "source": [
    "quarterofyear(yoga_day)"
   ]
  },
  {
   "cell_type": "code",
   "execution_count": 83,
   "metadata": {},
   "outputs": [
    {
     "data": {
      "text/plain": [
       "2019-01-01:1 day:2019-12-31"
      ]
     },
     "execution_count": 83,
     "metadata": {},
     "output_type": "execute_result"
    }
   ],
   "source": [
    "year_2019 = Date(2019, 1, 1):Day(1):Date(2019,12,31)"
   ]
  },
  {
   "cell_type": "code",
   "execution_count": 84,
   "metadata": {},
   "outputs": [
    {
     "data": {
      "text/plain": [
       "StepRange{Date,Day}"
      ]
     },
     "execution_count": 84,
     "metadata": {},
     "output_type": "execute_result"
    }
   ],
   "source": [
    "typeof(year_2019)"
   ]
  },
  {
   "cell_type": "code",
   "execution_count": 85,
   "metadata": {},
   "outputs": [
    {
     "data": {
      "text/plain": [
       "(365,)"
      ]
     },
     "execution_count": 85,
     "metadata": {},
     "output_type": "execute_result"
    }
   ],
   "source": [
    "size(year_2019)"
   ]
  },
  {
   "cell_type": "code",
   "execution_count": 86,
   "metadata": {},
   "outputs": [
    {
     "data": {
      "text/plain": [
       "365-element Array{Date,1}:\n",
       " 2019-01-01\n",
       " 2019-01-02\n",
       " 2019-01-03\n",
       " 2019-01-04\n",
       " 2019-01-05\n",
       " 2019-01-06\n",
       " 2019-01-07\n",
       " 2019-01-08\n",
       " 2019-01-09\n",
       " 2019-01-10\n",
       " 2019-01-11\n",
       " 2019-01-12\n",
       " 2019-01-13\n",
       " ⋮         \n",
       " 2019-12-20\n",
       " 2019-12-21\n",
       " 2019-12-22\n",
       " 2019-12-23\n",
       " 2019-12-24\n",
       " 2019-12-25\n",
       " 2019-12-26\n",
       " 2019-12-27\n",
       " 2019-12-28\n",
       " 2019-12-29\n",
       " 2019-12-30\n",
       " 2019-12-31"
      ]
     },
     "execution_count": 86,
     "metadata": {},
     "output_type": "execute_result"
    }
   ],
   "source": [
    "collect(year_2019)"
   ]
  },
  {
   "cell_type": "code",
   "execution_count": 87,
   "metadata": {},
   "outputs": [
    {
     "data": {
      "text/plain": [
       "2019-04-10"
      ]
     },
     "execution_count": 87,
     "metadata": {},
     "output_type": "execute_result"
    }
   ],
   "source": [
    "year_2019[100]"
   ]
  },
  {
   "cell_type": "code",
   "execution_count": 88,
   "metadata": {},
   "outputs": [
    {
     "data": {
      "text/plain": [
       "2019-01-01:1 month:2019-12-01"
      ]
     },
     "execution_count": 88,
     "metadata": {},
     "output_type": "execute_result"
    }
   ],
   "source": [
    "year_2019 = Date(2019, 1, 1):Month(1):Date(2019,12,31)"
   ]
  },
  {
   "cell_type": "code",
   "execution_count": 90,
   "metadata": {},
   "outputs": [
    {
     "data": {
      "text/plain": [
       "12-element Array{Date,1}:\n",
       " 2019-01-01\n",
       " 2019-02-01\n",
       " 2019-03-01\n",
       " 2019-04-01\n",
       " 2019-05-01\n",
       " 2019-06-01\n",
       " 2019-07-01\n",
       " 2019-08-01\n",
       " 2019-09-01\n",
       " 2019-10-01\n",
       " 2019-11-01\n",
       " 2019-12-01"
      ]
     },
     "execution_count": 90,
     "metadata": {},
     "output_type": "execute_result"
    }
   ],
   "source": [
    "collect(year_2019)"
   ]
  },
  {
   "cell_type": "code",
   "execution_count": 92,
   "metadata": {},
   "outputs": [
    {
     "data": {
      "text/plain": [
       "2019-01-01:3 months:2019-10-01"
      ]
     },
     "execution_count": 92,
     "metadata": {},
     "output_type": "execute_result"
    }
   ],
   "source": [
    "year_2019 = Date(2019, 1, 1):Month(3):Date(2019,12,31) # Quarterly"
   ]
  },
  {
   "cell_type": "code",
   "execution_count": 93,
   "metadata": {},
   "outputs": [
    {
     "data": {
      "text/plain": [
       "4-element Array{Date,1}:\n",
       " 2019-01-01\n",
       " 2019-04-01\n",
       " 2019-07-01\n",
       " 2019-10-01"
      ]
     },
     "execution_count": 93,
     "metadata": {},
     "output_type": "execute_result"
    }
   ],
   "source": [
    "collect(year_2019)"
   ]
  },
  {
   "cell_type": "code",
   "execution_count": 94,
   "metadata": {},
   "outputs": [
    {
     "data": {
      "text/plain": [
       "2019-01-01:2 weeks:2019-12-31"
      ]
     },
     "execution_count": 94,
     "metadata": {},
     "output_type": "execute_result"
    }
   ],
   "source": [
    "year_2019 = Date(2019, 1, 1):Week(2):Date(2019,12,31) # Bi weekly"
   ]
  },
  {
   "cell_type": "code",
   "execution_count": 96,
   "metadata": {},
   "outputs": [
    {
     "data": {
      "text/plain": [
       "27-element Array{Date,1}:\n",
       " 2019-01-01\n",
       " 2019-01-15\n",
       " 2019-01-29\n",
       " 2019-02-12\n",
       " 2019-02-26\n",
       " 2019-03-12\n",
       " 2019-03-26\n",
       " 2019-04-09\n",
       " 2019-04-23\n",
       " 2019-05-07\n",
       " 2019-05-21\n",
       " 2019-06-04\n",
       " 2019-06-18\n",
       " ⋮         \n",
       " 2019-07-30\n",
       " 2019-08-13\n",
       " 2019-08-27\n",
       " 2019-09-10\n",
       " 2019-09-24\n",
       " 2019-10-08\n",
       " 2019-10-22\n",
       " 2019-11-05\n",
       " 2019-11-19\n",
       " 2019-12-03\n",
       " 2019-12-17\n",
       " 2019-12-31"
      ]
     },
     "execution_count": 96,
     "metadata": {},
     "output_type": "execute_result"
    }
   ],
   "source": [
    "collect(year_2019)"
   ]
  },
  {
   "cell_type": "code",
   "execution_count": 97,
   "metadata": {},
   "outputs": [
    {
     "data": {
      "text/plain": [
       "2-element Array{Any,1}:\n",
       " DatePeriod\n",
       " TimePeriod"
      ]
     },
     "execution_count": 97,
     "metadata": {},
     "output_type": "execute_result"
    }
   ],
   "source": [
    "subtypes(Period)"
   ]
  },
  {
   "cell_type": "code",
   "execution_count": 98,
   "metadata": {},
   "outputs": [
    {
     "data": {
      "text/plain": [
       "21 months"
      ]
     },
     "execution_count": 98,
     "metadata": {},
     "output_type": "execute_result"
    }
   ],
   "source": [
    "duration_of_trip_to_mars = Month(9) * 2 + Month(3)"
   ]
  },
  {
   "cell_type": "code",
   "execution_count": 99,
   "metadata": {},
   "outputs": [
    {
     "data": {
      "text/plain": [
       "2020-01-15"
      ]
     },
     "execution_count": 99,
     "metadata": {},
     "output_type": "execute_result"
    }
   ],
   "source": [
    "take_off_day = Date(2020, 1, 15)"
   ]
  },
  {
   "cell_type": "code",
   "execution_count": 100,
   "metadata": {},
   "outputs": [
    {
     "data": {
      "text/plain": [
       "2021-10-15"
      ]
     },
     "execution_count": 100,
     "metadata": {},
     "output_type": "execute_result"
    }
   ],
   "source": [
    "return_day = take_off_day + duration_of_trip_to_mars"
   ]
  },
  {
   "cell_type": "code",
   "execution_count": 101,
   "metadata": {},
   "outputs": [
    {
     "data": {
      "text/plain": [
       "639 days"
      ]
     },
     "execution_count": 101,
     "metadata": {},
     "output_type": "execute_result"
    }
   ],
   "source": [
    "time_diff = return_day - take_off_day"
   ]
  },
  {
   "cell_type": "code",
   "execution_count": 102,
   "metadata": {},
   "outputs": [
    {
     "data": {
      "text/plain": [
       "2020-06-15"
      ]
     },
     "execution_count": 102,
     "metadata": {},
     "output_type": "execute_result"
    }
   ],
   "source": [
    "take_off_day += Month(5)"
   ]
  },
  {
   "cell_type": "code",
   "execution_count": 103,
   "metadata": {},
   "outputs": [
    {
     "data": {
      "text/plain": [
       "2022-03-15"
      ]
     },
     "execution_count": 103,
     "metadata": {},
     "output_type": "execute_result"
    }
   ],
   "source": [
    "return_day = take_off_day + duration_of_trip_to_mars"
   ]
  },
  {
   "cell_type": "code",
   "execution_count": 104,
   "metadata": {},
   "outputs": [
    {
     "data": {
      "text/plain": [
       "638 days"
      ]
     },
     "execution_count": 104,
     "metadata": {},
     "output_type": "execute_result"
    }
   ],
   "source": [
    "time_diff = return_day - take_off_day"
   ]
  },
  {
   "cell_type": "code",
   "execution_count": 105,
   "metadata": {},
   "outputs": [
    {
     "data": {
      "text/plain": [
       "true"
      ]
     },
     "execution_count": 105,
     "metadata": {},
     "output_type": "execute_result"
    }
   ],
   "source": [
    "isa(Month(3), Period)"
   ]
  },
  {
   "cell_type": "code",
   "execution_count": 106,
   "metadata": {},
   "outputs": [
    {
     "data": {
      "text/plain": [
       "true"
      ]
     },
     "execution_count": 106,
     "metadata": {},
     "output_type": "execute_result"
    }
   ],
   "source": [
    "isa(Month(3) + Month(1), Period)"
   ]
  },
  {
   "cell_type": "code",
   "execution_count": 107,
   "metadata": {},
   "outputs": [
    {
     "data": {
      "text/plain": [
       "false"
      ]
     },
     "execution_count": 107,
     "metadata": {},
     "output_type": "execute_result"
    }
   ],
   "source": [
    "isa(Month(1) + Week(2), Period)"
   ]
  },
  {
   "cell_type": "code",
   "execution_count": 236,
   "metadata": {},
   "outputs": [
    {
     "data": {
      "text/plain": [
       "true"
      ]
     },
     "execution_count": 236,
     "metadata": {},
     "output_type": "execute_result"
    }
   ],
   "source": [
    "isa(Month(1) + Week(2), Dates.CompoundPeriod)"
   ]
  },
  {
   "cell_type": "code",
   "execution_count": 110,
   "metadata": {},
   "outputs": [
    {
     "data": {
      "text/plain": [
       "2019-01-28"
      ]
     },
     "execution_count": 110,
     "metadata": {},
     "output_type": "execute_result"
    }
   ],
   "source": [
    "firstdayofweek(Date(2019, 1, 31))"
   ]
  },
  {
   "cell_type": "code",
   "execution_count": 111,
   "metadata": {},
   "outputs": [
    {
     "data": {
      "text/plain": [
       "2019-04-06"
      ]
     },
     "execution_count": 111,
     "metadata": {},
     "output_type": "execute_result"
    }
   ],
   "source": [
    "tonext(Date(2019, 4, 1), Saturday)"
   ]
  },
  {
   "cell_type": "code",
   "execution_count": 112,
   "metadata": {},
   "outputs": [
    {
     "data": {
      "text/plain": [
       "2018-11-15"
      ]
     },
     "execution_count": 112,
     "metadata": {},
     "output_type": "execute_result"
    }
   ],
   "source": [
    "tonext(today()) do d  # today is the 31st of January, 2019\n",
    "\tdayofweek(d) == Thursday && dayofweekofmonth(d) == 3\n",
    "end"
   ]
  },
  {
   "cell_type": "code",
   "execution_count": 115,
   "metadata": {},
   "outputs": [
    {
     "data": {
      "text/plain": [
       "10-element Array{Date,1}:\n",
       " 2019-01-17\n",
       " 2019-02-21\n",
       " 2019-03-21\n",
       " 2019-04-18\n",
       " 2019-06-20\n",
       " 2019-07-18\n",
       " 2019-09-19\n",
       " 2019-10-17\n",
       " 2019-11-21\n",
       " 2019-12-19"
      ]
     },
     "execution_count": 115,
     "metadata": {},
     "output_type": "execute_result"
    }
   ],
   "source": [
    "filter(Date(2019):Day(1):Date(2020)) do d\n",
    "    ! in(d, Date(2019, 5, 15):Day(1):Date(2019, 5, 31)) && \n",
    "    month(d) != August && \n",
    "    dayofweek(d) == Thursday && \n",
    "    dayofweekofmonth(d) == 3\n",
    "end |> collect"
   ]
  },
  {
   "cell_type": "code",
   "execution_count": 116,
   "metadata": {},
   "outputs": [
    {
     "data": {
      "text/plain": [
       "2018-11-08T21:13:20.605"
      ]
     },
     "execution_count": 116,
     "metadata": {},
     "output_type": "execute_result"
    }
   ],
   "source": [
    "now()"
   ]
  },
  {
   "cell_type": "code",
   "execution_count": 117,
   "metadata": {},
   "outputs": [
    {
     "data": {
      "text/plain": [
       "2018-11-08T21:00:00"
      ]
     },
     "execution_count": 117,
     "metadata": {},
     "output_type": "execute_result"
    }
   ],
   "source": [
    "floor(now(), Hour)"
   ]
  },
  {
   "cell_type": "code",
   "execution_count": 118,
   "metadata": {},
   "outputs": [
    {
     "data": {
      "text/plain": [
       "2018-11-08T21:00:00"
      ]
     },
     "execution_count": 118,
     "metadata": {},
     "output_type": "execute_result"
    }
   ],
   "source": [
    "floor(now(), Minute(30))"
   ]
  },
  {
   "cell_type": "code",
   "execution_count": 119,
   "metadata": {},
   "outputs": [
    {
     "data": {
      "text/plain": [
       "2018-11-01"
      ]
     },
     "execution_count": 119,
     "metadata": {},
     "output_type": "execute_result"
    }
   ],
   "source": [
    "floor(today(), Month)"
   ]
  },
  {
   "cell_type": "code",
   "execution_count": 124,
   "metadata": {},
   "outputs": [
    {
     "data": {
      "text/plain": [
       "2018-11-01"
      ]
     },
     "execution_count": 124,
     "metadata": {},
     "output_type": "execute_result"
    }
   ],
   "source": [
    "round(today(), Month)"
   ]
  },
  {
   "cell_type": "code",
   "execution_count": 125,
   "metadata": {},
   "outputs": [
    {
     "data": {
      "text/plain": [
       "2018-12-01"
      ]
     },
     "execution_count": 125,
     "metadata": {},
     "output_type": "execute_result"
    }
   ],
   "source": [
    "round(today() + Day(10), Month)"
   ]
  },
  {
   "cell_type": "code",
   "execution_count": 127,
   "metadata": {},
   "outputs": [
    {
     "name": "stdout",
     "output_type": "stream",
     "text": [
      "\u001b[32m\u001b[1m  Updating\u001b[22m\u001b[39m registry at `~/.julia/registries/General`\n",
      "\u001b[32m\u001b[1m  Updating\u001b[22m\u001b[39m git-repo `https://github.com/JuliaRegistries/General.git`\n",
      "\u001b[2K\u001b[?25h[1mFetching:\u001b[22m\u001b[39m [========================================>]  100.0 %.0 %\u001b[32m\u001b[1m Resolving\u001b[22m\u001b[39m package versions...\n",
      "\u001b[32m\u001b[1m  Updating\u001b[22m\u001b[39m `~/.julia/environments/v1.0/Project.toml`\n",
      "\u001b[90m [no changes]\u001b[39m\n",
      "\u001b[32m\u001b[1m  Updating\u001b[22m\u001b[39m `~/.julia/environments/v1.0/Manifest.toml`\n",
      "\u001b[90m [no changes]\u001b[39m\n"
     ]
    }
   ],
   "source": [
    "using Pkg\n",
    "pkg\"add TimeZones\""
   ]
  },
  {
   "cell_type": "code",
   "execution_count": 128,
   "metadata": {},
   "outputs": [],
   "source": [
    "using TimeZones"
   ]
  },
  {
   "cell_type": "code",
   "execution_count": 129,
   "metadata": {},
   "outputs": [
    {
     "data": {
      "text/plain": [
       "439-element Array{AbstractString,1}:\n",
       " \"Africa/Abidjan\"      \n",
       " \"Africa/Accra\"        \n",
       " \"Africa/Addis_Ababa\"  \n",
       " \"Africa/Algiers\"      \n",
       " \"Africa/Asmara\"       \n",
       " \"Africa/Bamako\"       \n",
       " \"Africa/Bangui\"       \n",
       " \"Africa/Banjul\"       \n",
       " \"Africa/Bissau\"       \n",
       " \"Africa/Blantyre\"     \n",
       " \"Africa/Brazzaville\"  \n",
       " \"Africa/Bujumbura\"    \n",
       " \"Africa/Cairo\"        \n",
       " ⋮                     \n",
       " \"Pacific/Pitcairn\"    \n",
       " \"Pacific/Pohnpei\"     \n",
       " \"Pacific/Port_Moresby\"\n",
       " \"Pacific/Rarotonga\"   \n",
       " \"Pacific/Saipan\"      \n",
       " \"Pacific/Tahiti\"      \n",
       " \"Pacific/Tarawa\"      \n",
       " \"Pacific/Tongatapu\"   \n",
       " \"Pacific/Wake\"        \n",
       " \"Pacific/Wallis\"      \n",
       " \"UTC\"                 \n",
       " \"WET\"                 "
      ]
     },
     "execution_count": 129,
     "metadata": {},
     "output_type": "execute_result"
    }
   ],
   "source": [
    "timezone_names()"
   ]
  },
  {
   "cell_type": "code",
   "execution_count": 130,
   "metadata": {},
   "outputs": [
    {
     "data": {
      "text/plain": [
       "Europe/Amsterdam (UTC+1/UTC+2)"
      ]
     },
     "execution_count": 130,
     "metadata": {},
     "output_type": "execute_result"
    }
   ],
   "source": [
    "amstz = TimeZone(\"Europe/Amsterdam\")"
   ]
  },
  {
   "cell_type": "code",
   "execution_count": 131,
   "metadata": {},
   "outputs": [
    {
     "data": {
      "text/plain": [
       "VariableTimeZone"
      ]
     },
     "execution_count": 131,
     "metadata": {},
     "output_type": "execute_result"
    }
   ],
   "source": [
    "typeof(amstz)"
   ]
  },
  {
   "cell_type": "code",
   "execution_count": 132,
   "metadata": {},
   "outputs": [
    {
     "data": {
      "text/plain": [
       "FixedTimeZone"
      ]
     },
     "execution_count": 132,
     "metadata": {},
     "output_type": "execute_result"
    }
   ],
   "source": [
    "typeof(TimeZone(\"GMT\"))"
   ]
  },
  {
   "cell_type": "code",
   "execution_count": 133,
   "metadata": {},
   "outputs": [
    {
     "data": {
      "text/plain": [
       "Europe/Bucharest (UTC+2/UTC+3)"
      ]
     },
     "execution_count": 133,
     "metadata": {},
     "output_type": "execute_result"
    }
   ],
   "source": [
    "tz\"Europe/Bucharest\""
   ]
  },
  {
   "cell_type": "code",
   "execution_count": 135,
   "metadata": {},
   "outputs": [
    {
     "data": {
      "text/plain": [
       "2018-12-25T20:00:00+01:00"
      ]
     },
     "execution_count": 135,
     "metadata": {},
     "output_type": "execute_result"
    }
   ],
   "source": [
    "ZonedDateTime(DateTime(2018, 12, 25, 20), tz\"Europe/Vienna\")"
   ]
  },
  {
   "cell_type": "code",
   "execution_count": 136,
   "metadata": {},
   "outputs": [
    {
     "data": {
      "text/plain": [
       "2018-12-25T20:00:00+01:00"
      ]
     },
     "execution_count": 136,
     "metadata": {},
     "output_type": "execute_result"
    }
   ],
   "source": [
    "ZonedDateTime(2018, 12, 25, 20, tz\"Europe/Vienna\")"
   ]
  },
  {
   "cell_type": "code",
   "execution_count": 137,
   "metadata": {},
   "outputs": [
    {
     "data": {
      "text/plain": [
       "Europe/Madrid (UTC+1/UTC+2)"
      ]
     },
     "execution_count": 137,
     "metadata": {},
     "output_type": "execute_result"
    }
   ],
   "source": [
    "localzone()"
   ]
  },
  {
   "cell_type": "code",
   "execution_count": 138,
   "metadata": {},
   "outputs": [
    {
     "data": {
      "text/plain": [
       "2018-11-08T22:32:59.336"
      ]
     },
     "execution_count": 138,
     "metadata": {},
     "output_type": "execute_result"
    }
   ],
   "source": [
    "now()"
   ]
  },
  {
   "cell_type": "code",
   "execution_count": 139,
   "metadata": {},
   "outputs": [
    {
     "data": {
      "text/plain": [
       "2018-11-09T00:33:23.138+03:00"
      ]
     },
     "execution_count": 139,
     "metadata": {},
     "output_type": "execute_result"
    }
   ],
   "source": [
    "now(tz\"Europe/Moscow\")"
   ]
  },
  {
   "cell_type": "code",
   "execution_count": 140,
   "metadata": {},
   "outputs": [
    {
     "data": {
      "text/plain": [
       "2018-11-08"
      ]
     },
     "execution_count": 140,
     "metadata": {},
     "output_type": "execute_result"
    }
   ],
   "source": [
    "today()"
   ]
  },
  {
   "cell_type": "code",
   "execution_count": 141,
   "metadata": {},
   "outputs": [
    {
     "data": {
      "text/plain": [
       "2018-11-09"
      ]
     },
     "execution_count": 141,
     "metadata": {},
     "output_type": "execute_result"
    }
   ],
   "source": [
    "today(tz\"Europe/Moscow\")"
   ]
  },
  {
   "cell_type": "code",
   "execution_count": 142,
   "metadata": {},
   "outputs": [
    {
     "data": {
      "text/plain": [
       "2018-11-09T22:30:00+03:00"
      ]
     },
     "execution_count": 142,
     "metadata": {},
     "output_type": "execute_result"
    }
   ],
   "source": [
    "todayat(Time(22, 30), tz\"Europe/Moscow\")"
   ]
  },
  {
   "cell_type": "code",
   "execution_count": 143,
   "metadata": {},
   "outputs": [
    {
     "data": {
      "text/plain": [
       "2018-12-25T20:00:00+01:00"
      ]
     },
     "execution_count": 143,
     "metadata": {},
     "output_type": "execute_result"
    }
   ],
   "source": [
    "xmas_day = ZonedDateTime(2018, 12, 25, 20, tz\"Europe/Vienna\")"
   ]
  },
  {
   "cell_type": "code",
   "execution_count": 144,
   "metadata": {},
   "outputs": [
    {
     "data": {
      "text/plain": [
       "2018-12-26T06:00:00+11:00"
      ]
     },
     "execution_count": 144,
     "metadata": {},
     "output_type": "execute_result"
    }
   ],
   "source": [
    "astimezone(xmas_day, tz\"Australia/Sydney\")"
   ]
  },
  {
   "cell_type": "code",
   "execution_count": 145,
   "metadata": {},
   "outputs": [
    {
     "data": {
      "text/plain": [
       "2018-12-25T20:00:00+01:00"
      ]
     },
     "execution_count": 145,
     "metadata": {},
     "output_type": "execute_result"
    }
   ],
   "source": [
    "ZonedDateTime(\"2018-12-25T20:00:00+01:00\", \"yyyy-mm-ddTHH:MM:SSzzzz\")"
   ]
  },
  {
   "cell_type": "code",
   "execution_count": 149,
   "metadata": {},
   "outputs": [
    {
     "data": {
      "text/plain": [
       "2019-03-31"
      ]
     },
     "execution_count": 149,
     "metadata": {},
     "output_type": "execute_result"
    }
   ],
   "source": [
    "last_day_of_winter = tonext(today()) do d\n",
    "    dayofweek(d) == Sunday &&\n",
    "    month(d) == March &&\n",
    "    dayofmonth(d) > dayofmonth(lastdayofmonth(d) - Day(7))\n",
    "end"
   ]
  },
  {
   "cell_type": "code",
   "execution_count": 150,
   "metadata": {},
   "outputs": [
    {
     "data": {
      "text/plain": [
       "2019-03-31T00:00:00+00:00"
      ]
     },
     "execution_count": 150,
     "metadata": {},
     "output_type": "execute_result"
    }
   ],
   "source": [
    "london_time = ZonedDateTime(DateTime(last_day_of_winter), tz\"Europe/London\")"
   ]
  },
  {
   "cell_type": "code",
   "execution_count": 151,
   "metadata": {},
   "outputs": [
    {
     "data": {
      "text/plain": [
       "2019-04-01T00:00:00+01:00"
      ]
     },
     "execution_count": 151,
     "metadata": {},
     "output_type": "execute_result"
    }
   ],
   "source": [
    "next_day = london_time + Day(1)"
   ]
  },
  {
   "cell_type": "code",
   "execution_count": 152,
   "metadata": {},
   "outputs": [
    {
     "data": {
      "text/plain": [
       "2019-03-30T23:00:00+00:00"
      ]
     },
     "execution_count": 152,
     "metadata": {},
     "output_type": "execute_result"
    }
   ],
   "source": [
    "next_day - Hour(24)"
   ]
  },
  {
   "cell_type": "code",
   "execution_count": 153,
   "metadata": {},
   "outputs": [
    {
     "data": {
      "text/plain": [
       "2019-08-01T00:00:00+01:00:1 hour:2019-08-02T00:00:00+10:00"
      ]
     },
     "execution_count": 153,
     "metadata": {},
     "output_type": "execute_result"
    }
   ],
   "source": [
    "interval = ZonedDateTime(2019, 8, 1, tz\"Europe/London\"):Hour(1):ZonedDateTime(2019, 8, 2, tz\"Australia/Sydney\")"
   ]
  },
  {
   "cell_type": "code",
   "execution_count": 154,
   "metadata": {},
   "outputs": [
    {
     "data": {
      "text/plain": [
       "16-element Array{ZonedDateTime,1}:\n",
       " 2019-08-01T00:00:00+01:00\n",
       " 2019-08-01T01:00:00+01:00\n",
       " 2019-08-01T02:00:00+01:00\n",
       " 2019-08-01T03:00:00+01:00\n",
       " 2019-08-01T04:00:00+01:00\n",
       " 2019-08-01T05:00:00+01:00\n",
       " 2019-08-01T06:00:00+01:00\n",
       " 2019-08-01T07:00:00+01:00\n",
       " 2019-08-01T08:00:00+01:00\n",
       " 2019-08-01T09:00:00+01:00\n",
       " 2019-08-01T10:00:00+01:00\n",
       " 2019-08-01T11:00:00+01:00\n",
       " 2019-08-01T12:00:00+01:00\n",
       " 2019-08-01T13:00:00+01:00\n",
       " 2019-08-01T14:00:00+01:00\n",
       " 2019-08-01T15:00:00+01:00"
      ]
     },
     "execution_count": 154,
     "metadata": {},
     "output_type": "execute_result"
    }
   ],
   "source": [
    "collect(interval)"
   ]
  },
  {
   "cell_type": "code",
   "execution_count": 155,
   "metadata": {},
   "outputs": [
    {
     "data": {
      "text/plain": [
       "2019-08-01T09:00:00+10:00"
      ]
     },
     "execution_count": 155,
     "metadata": {},
     "output_type": "execute_result"
    }
   ],
   "source": [
    "astimezone(ZonedDateTime(\"2019-08-01T00:00:00+01:00\", \"yyyy-mm-ddTHH:MM:SSzzzz\"), tz\"Australia/Sydney\" )"
   ]
  },
  {
   "cell_type": "code",
   "execution_count": 156,
   "metadata": {},
   "outputs": [
    {
     "name": "stdout",
     "output_type": "stream",
     "text": [
      "\u001b[32m\u001b[1m Resolving\u001b[22m\u001b[39m package versions...\n",
      "\u001b[32m\u001b[1m Installed\u001b[22m\u001b[39m TimeSeries ─ v0.14.0\n",
      "\u001b[32m\u001b[1m  Updating\u001b[22m\u001b[39m `~/.julia/environments/v1.0/Project.toml`\n",
      " \u001b[90m [9e3dc215]\u001b[39m\u001b[92m + TimeSeries v0.14.0\u001b[39m\n",
      "\u001b[32m\u001b[1m  Updating\u001b[22m\u001b[39m `~/.julia/environments/v1.0/Manifest.toml`\n",
      " \u001b[90m [9e3dc215]\u001b[39m\u001b[92m + TimeSeries v0.14.0\u001b[39m\n"
     ]
    }
   ],
   "source": [
    "using Pkg\n",
    "pkg\"add TimeSeries\""
   ]
  },
  {
   "cell_type": "code",
   "execution_count": 157,
   "metadata": {},
   "outputs": [
    {
     "name": "stdout",
     "output_type": "stream",
     "text": [
      "\u001b[32m\u001b[1m Resolving\u001b[22m\u001b[39m package versions...\n",
      "\u001b[32m\u001b[1m Installed\u001b[22m\u001b[39m MarketData ─ v0.11.0\n",
      "\u001b[32m\u001b[1m  Updating\u001b[22m\u001b[39m `~/.julia/environments/v1.0/Project.toml`\n",
      " \u001b[90m [945b72a4]\u001b[39m\u001b[92m + MarketData v0.11.0\u001b[39m\n",
      "\u001b[32m\u001b[1m  Updating\u001b[22m\u001b[39m `~/.julia/environments/v1.0/Manifest.toml`\n",
      " \u001b[90m [945b72a4]\u001b[39m\u001b[92m + MarketData v0.11.0\u001b[39m\n"
     ]
    }
   ],
   "source": [
    "pkg\"add MarketData\""
   ]
  },
  {
   "cell_type": "code",
   "execution_count": 159,
   "metadata": {},
   "outputs": [],
   "source": [
    "using MarketData"
   ]
  },
  {
   "cell_type": "code",
   "execution_count": 160,
   "metadata": {},
   "outputs": [
    {
     "data": {
      "text/plain": [
       "500×4 TimeArray{Float64,2,Date,Array{Float64,2}} 2000-01-03 to 2001-12-31\n",
       "│            │ Open   │ High   │ Low    │ Close  │\n",
       "├────────────┼────────┼────────┼────────┼────────┤\n",
       "│ 2000-01-03 │ 104.88 │ 112.5  │ 101.69 │ 111.94 │\n",
       "│ 2000-01-04 │ 108.25 │ 110.62 │ 101.19 │ 102.5  │\n",
       "│ 2000-01-05 │ 103.75 │ 110.56 │ 103.0  │ 104.0  │\n",
       "│ 2000-01-06 │ 106.12 │ 107.0  │ 95.0   │ 95.0   │\n",
       "│ 2000-01-07 │ 96.5   │ 101.0  │ 95.5   │ 99.5   │\n",
       "│ 2000-01-10 │ 102.0  │ 102.25 │ 94.75  │ 97.75  │\n",
       "│ 2000-01-11 │ 95.94  │ 99.38  │ 90.5   │ 92.75  │\n",
       "│ 2000-01-12 │ 95.0   │ 95.5   │ 86.5   │ 87.19  │\n",
       "│ 2000-01-13 │ 94.48  │ 98.75  │ 92.5   │ 96.75  │\n",
       "│ 2000-01-14 │ 100.0  │ 102.25 │ 99.38  │ 100.44 │\n",
       "│ 2000-01-18 │ 101.0  │ 106.0  │ 100.44 │ 103.94 │\n",
       "│ 2000-01-19 │ 105.62 │ 108.75 │ 103.38 │ 106.56 │\n",
       "   ⋮\n",
       "│ 2001-12-14 │ 20.73  │ 20.83  │ 20.09  │ 20.39  │\n",
       "│ 2001-12-17 │ 20.4   │ 21.0   │ 20.19  │ 20.62  │\n",
       "│ 2001-12-18 │ 20.89  │ 21.33  │ 20.22  │ 21.01  │\n",
       "│ 2001-12-19 │ 20.58  │ 21.68  │ 20.47  │ 21.62  │\n",
       "│ 2001-12-20 │ 21.4   │ 21.47  │ 20.62  │ 20.67  │\n",
       "│ 2001-12-21 │ 21.01  │ 21.54  │ 20.8   │ 21.0   │\n",
       "│ 2001-12-24 │ 20.9   │ 21.45  │ 20.9   │ 21.36  │\n",
       "│ 2001-12-26 │ 21.35  │ 22.3   │ 21.14  │ 21.49  │\n",
       "│ 2001-12-27 │ 21.58  │ 22.25  │ 21.58  │ 22.07  │\n",
       "│ 2001-12-28 │ 21.97  │ 23.0   │ 21.96  │ 22.43  │\n",
       "│ 2001-12-31 │ 22.51  │ 22.66  │ 21.83  │ 21.9   │"
      ]
     },
     "execution_count": 160,
     "metadata": {},
     "output_type": "execute_result"
    }
   ],
   "source": [
    "MarketData.ohlc"
   ]
  },
  {
   "cell_type": "code",
   "execution_count": 158,
   "metadata": {},
   "outputs": [
    {
     "name": "stdout",
     "output_type": "stream",
     "text": [
      "\u001b[32m\u001b[1m Resolving\u001b[22m\u001b[39m package versions...\n",
      "\u001b[32m\u001b[1m  Updating\u001b[22m\u001b[39m `~/.julia/environments/v1.0/Project.toml`\n",
      "\u001b[90m [no changes]\u001b[39m\n",
      "\u001b[32m\u001b[1m  Updating\u001b[22m\u001b[39m `~/.julia/environments/v1.0/Manifest.toml`\n",
      "\u001b[90m [no changes]\u001b[39m\n"
     ]
    }
   ],
   "source": [
    "pkg\"add Plots\""
   ]
  },
  {
   "cell_type": "code",
   "execution_count": 161,
   "metadata": {},
   "outputs": [
    {
     "name": "stdout",
     "output_type": "stream",
     "text": [
      "\u001b[32m\u001b[1m Resolving\u001b[22m\u001b[39m package versions...\n",
      "\u001b[32m\u001b[1m Installed\u001b[22m\u001b[39m LaTeXStrings ─ v1.0.3\n",
      "\u001b[32m\u001b[1m Installed\u001b[22m\u001b[39m PyPlot ─────── v2.6.3\n",
      "\u001b[32m\u001b[1m Installed\u001b[22m\u001b[39m PyCall ─────── v1.18.5\n",
      "\u001b[32m\u001b[1m  Updating\u001b[22m\u001b[39m `~/.julia/environments/v1.0/Project.toml`\n",
      " \u001b[90m [d330b81b]\u001b[39m\u001b[92m + PyPlot v2.6.3\u001b[39m\n",
      "\u001b[32m\u001b[1m  Updating\u001b[22m\u001b[39m `~/.julia/environments/v1.0/Manifest.toml`\n",
      " \u001b[90m [b964fa9f]\u001b[39m\u001b[92m + LaTeXStrings v1.0.3\u001b[39m\n",
      " \u001b[90m [438e738f]\u001b[39m\u001b[92m + PyCall v1.18.5\u001b[39m\n",
      " \u001b[90m [d330b81b]\u001b[39m\u001b[92m + PyPlot v2.6.3\u001b[39m\n",
      "\u001b[32m\u001b[1m  Building\u001b[22m\u001b[39m PyCall → `~/.julia/packages/PyCall/0jMpb/deps/build.log`\n"
     ]
    }
   ],
   "source": [
    "pkg\"add PyPlot\""
   ]
  },
  {
   "cell_type": "code",
   "execution_count": 162,
   "metadata": {},
   "outputs": [],
   "source": [
    "using Plots"
   ]
  },
  {
   "cell_type": "code",
   "execution_count": 163,
   "metadata": {},
   "outputs": [
    {
     "name": "stderr",
     "output_type": "stream",
     "text": [
      "┌ Info: Precompiling PyPlot [d330b81b-6aea-500a-939a-2ce795aea3ee]\n",
      "└ @ Base loading.jl:1189\n",
      "┌ Info: Installing matplotlib via the Conda matplotlib package...\n",
      "└ @ PyCall /Users/adrian/.julia/packages/PyCall/0jMpb/src/PyCall.jl:653\n",
      "┌ Info: Running `conda install -y matplotlib` in root environment\n",
      "└ @ Conda /Users/adrian/.julia/packages/Conda/uQitS/src/Conda.jl:112\n"
     ]
    },
    {
     "name": "stdout",
     "output_type": "stream",
     "text": [
      "Solving environment: ...working... done\n"
     ]
    },
    {
     "name": "stderr",
     "output_type": "stream",
     "text": [
      "freetype-2.9.1       | 864 KB    | ########## | 100% \n",
      "kiwisolver-1.0.1     | 56 KB     | ########## | 100% \n",
      "pytz-2018.7          | 244 KB    | ########## | 100% \n",
      "pyparsing-2.3.0      | 101 KB    | ########## | 100% \n",
      "cycler-0.10.0        | 14 KB     | ########## | 100% \n",
      "matplotlib-3.0.1     | 6.5 MB    | #########  |  91% "
     ]
    },
    {
     "name": "stdout",
     "output_type": "stream",
     "text": [
      "\n",
      "## Package Plan ##\n",
      "\n",
      "  environment location: /Users/adrian/.julia/conda/3\n",
      "\n",
      "  added / updated specs: \n",
      "    - matplotlib\n",
      "\n",
      "\n",
      "The following packages will be downloaded:\n",
      "\n",
      "    package                    |            build\n",
      "    ---------------------------|-----------------\n",
      "    freetype-2.9.1             |       hb4e5f40_0         864 KB\n",
      "    kiwisolver-1.0.1           |   py37h0a44026_0          56 KB\n",
      "    pytz-2018.7                |           py37_0         244 KB\n",
      "    pyparsing-2.3.0            |           py37_0         101 KB\n",
      "    cycler-0.10.0              |           py37_0          14 KB\n",
      "    matplotlib-3.0.1           |   py37h54f8f79_0         6.5 MB\n",
      "    ------------------------------------------------------------\n",
      "                                           Total:         7.8 MB\n",
      "\n",
      "The following NEW packages will be INSTALLED:\n",
      "\n",
      "    cycler:     0.10.0-py37_0       \n",
      "    freetype:   2.9.1-hb4e5f40_0    \n",
      "    kiwisolver: 1.0.1-py37h0a44026_0\n",
      "    matplotlib: 3.0.1-py37h54f8f79_0\n",
      "    pyparsing:  2.3.0-py37_0        \n",
      "    pytz:       2018.7-py37_0       \n",
      "\n",
      "\n",
      "Downloading and Extracting Packages\n",
      "Preparing transaction: ...working... "
     ]
    },
    {
     "name": "stderr",
     "output_type": "stream",
     "text": [
      "\r",
      "matplotlib-3.0.1     | 6.5 MB    | ########## | 100% "
     ]
    },
    {
     "name": "stdout",
     "output_type": "stream",
     "text": [
      "done\n",
      "Verifying transaction: ...working... done\n",
      "Executing transaction: ...working... done\n"
     ]
    },
    {
     "name": "stderr",
     "output_type": "stream",
     "text": [
      "\n"
     ]
    },
    {
     "ename": "ArgumentError",
     "evalue": "ArgumentError: Package PyCall not found in current path:\n- Run `import Pkg; Pkg.add(\"PyCall\")` to install the PyCall package.\n",
     "output_type": "error",
     "traceback": [
      "ArgumentError: Package PyCall not found in current path:\n- Run `import Pkg; Pkg.add(\"PyCall\")` to install the PyCall package.\n",
      "",
      "Stacktrace:",
      " [1] require(::Module, ::Symbol) at ./loading.jl:820",
      " [2] top-level scope at /Users/adrian/.julia/packages/Plots/rmogG/src/backends.jl:600",
      " [3] eval at ./boot.jl:319 [inlined]",
      " [4] _initialize_backend(::Plots.PyPlotBackend) at /Users/adrian/.julia/packages/Plots/rmogG/src/backends.jl:599",
      " [5] backend(::Plots.PyPlotBackend) at /Users/adrian/.julia/packages/Plots/rmogG/src/backends.jl:196",
      " [6] backend(::Symbol) at /Users/adrian/.julia/packages/Plots/rmogG/src/backends.jl:209",
      " [7] pyplot() at /Users/adrian/.julia/packages/Plots/rmogG/src/backends.jl:29",
      " [8] top-level scope at In[163]:1"
     ]
    }
   ],
   "source": [
    "pyplot()"
   ]
  },
  {
   "cell_type": "code",
   "execution_count": 164,
   "metadata": {},
   "outputs": [
    {
     "data": {
      "image/svg+xml": [
       "<?xml version=\"1.0\" encoding=\"utf-8\"?>\n",
       "<svg xmlns=\"http://www.w3.org/2000/svg\" xmlns:xlink=\"http://www.w3.org/1999/xlink\" width=\"600\" height=\"400\" viewBox=\"0 0 2400 1600\">\n",
       "<defs>\n",
       "  <clipPath id=\"clip6900\">\n",
       "    <rect x=\"0\" y=\"0\" width=\"2000\" height=\"2000\"/>\n",
       "  </clipPath>\n",
       "</defs>\n",
       "<defs>\n",
       "  <clipPath id=\"clip6901\">\n",
       "    <rect x=\"0\" y=\"0\" width=\"2400\" height=\"1600\"/>\n",
       "  </clipPath>\n",
       "</defs>\n",
       "<polygon clip-path=\"url(#clip6901)\" points=\"\n",
       "0,1600 2400,1600 2400,0 0,0 \n",
       "  \" fill=\"#ffffff\" fill-opacity=\"1\"/>\n",
       "<defs>\n",
       "  <clipPath id=\"clip6902\">\n",
       "    <rect x=\"480\" y=\"0\" width=\"1681\" height=\"1600\"/>\n",
       "  </clipPath>\n",
       "</defs>\n",
       "<polygon clip-path=\"url(#clip6901)\" points=\"\n",
       "161.394,1503.47 2321.26,1503.47 2321.26,47.2441 161.394,47.2441 \n",
       "  \" fill=\"#ffffff\" fill-opacity=\"1\"/>\n",
       "<defs>\n",
       "  <clipPath id=\"clip6903\">\n",
       "    <rect x=\"161\" y=\"47\" width=\"2161\" height=\"1457\"/>\n",
       "  </clipPath>\n",
       "</defs>\n",
       "<polyline clip-path=\"url(#clip6903)\" style=\"stroke:#000000; stroke-width:2; stroke-opacity:0.1; fill:none\" points=\"\n",
       "  448.923,1503.47 448.923,47.2441 \n",
       "  \"/>\n",
       "<polyline clip-path=\"url(#clip6903)\" style=\"stroke:#000000; stroke-width:2; stroke-opacity:0.1; fill:none\" points=\"\n",
       "  901.725,1503.47 901.725,47.2441 \n",
       "  \"/>\n",
       "<polyline clip-path=\"url(#clip6903)\" style=\"stroke:#000000; stroke-width:2; stroke-opacity:0.1; fill:none\" points=\"\n",
       "  1354.53,1503.47 1354.53,47.2441 \n",
       "  \"/>\n",
       "<polyline clip-path=\"url(#clip6903)\" style=\"stroke:#000000; stroke-width:2; stroke-opacity:0.1; fill:none\" points=\"\n",
       "  1807.33,1503.47 1807.33,47.2441 \n",
       "  \"/>\n",
       "<polyline clip-path=\"url(#clip6903)\" style=\"stroke:#000000; stroke-width:2; stroke-opacity:0.1; fill:none\" points=\"\n",
       "  2260.13,1503.47 2260.13,47.2441 \n",
       "  \"/>\n",
       "<polyline clip-path=\"url(#clip6903)\" style=\"stroke:#000000; stroke-width:2; stroke-opacity:0.1; fill:none\" points=\"\n",
       "  161.394,1253 2321.26,1253 \n",
       "  \"/>\n",
       "<polyline clip-path=\"url(#clip6903)\" style=\"stroke:#000000; stroke-width:2; stroke-opacity:0.1; fill:none\" points=\"\n",
       "  161.394,944.18 2321.26,944.18 \n",
       "  \"/>\n",
       "<polyline clip-path=\"url(#clip6903)\" style=\"stroke:#000000; stroke-width:2; stroke-opacity:0.1; fill:none\" points=\"\n",
       "  161.394,635.361 2321.26,635.361 \n",
       "  \"/>\n",
       "<polyline clip-path=\"url(#clip6903)\" style=\"stroke:#000000; stroke-width:2; stroke-opacity:0.1; fill:none\" points=\"\n",
       "  161.394,326.541 2321.26,326.541 \n",
       "  \"/>\n",
       "<polyline clip-path=\"url(#clip6901)\" style=\"stroke:#000000; stroke-width:4; stroke-opacity:1; fill:none\" points=\"\n",
       "  161.394,1503.47 2321.26,1503.47 \n",
       "  \"/>\n",
       "<polyline clip-path=\"url(#clip6901)\" style=\"stroke:#000000; stroke-width:4; stroke-opacity:1; fill:none\" points=\"\n",
       "  161.394,1503.47 161.394,47.2441 \n",
       "  \"/>\n",
       "<polyline clip-path=\"url(#clip6901)\" style=\"stroke:#000000; stroke-width:4; stroke-opacity:1; fill:none\" points=\"\n",
       "  448.923,1503.47 448.923,1481.63 \n",
       "  \"/>\n",
       "<polyline clip-path=\"url(#clip6901)\" style=\"stroke:#000000; stroke-width:4; stroke-opacity:1; fill:none\" points=\"\n",
       "  901.725,1503.47 901.725,1481.63 \n",
       "  \"/>\n",
       "<polyline clip-path=\"url(#clip6901)\" style=\"stroke:#000000; stroke-width:4; stroke-opacity:1; fill:none\" points=\"\n",
       "  1354.53,1503.47 1354.53,1481.63 \n",
       "  \"/>\n",
       "<polyline clip-path=\"url(#clip6901)\" style=\"stroke:#000000; stroke-width:4; stroke-opacity:1; fill:none\" points=\"\n",
       "  1807.33,1503.47 1807.33,1481.63 \n",
       "  \"/>\n",
       "<polyline clip-path=\"url(#clip6901)\" style=\"stroke:#000000; stroke-width:4; stroke-opacity:1; fill:none\" points=\"\n",
       "  2260.13,1503.47 2260.13,1481.63 \n",
       "  \"/>\n",
       "<polyline clip-path=\"url(#clip6901)\" style=\"stroke:#000000; stroke-width:4; stroke-opacity:1; fill:none\" points=\"\n",
       "  161.394,1253 193.792,1253 \n",
       "  \"/>\n",
       "<polyline clip-path=\"url(#clip6901)\" style=\"stroke:#000000; stroke-width:4; stroke-opacity:1; fill:none\" points=\"\n",
       "  161.394,944.18 193.792,944.18 \n",
       "  \"/>\n",
       "<polyline clip-path=\"url(#clip6901)\" style=\"stroke:#000000; stroke-width:4; stroke-opacity:1; fill:none\" points=\"\n",
       "  161.394,635.361 193.792,635.361 \n",
       "  \"/>\n",
       "<polyline clip-path=\"url(#clip6901)\" style=\"stroke:#000000; stroke-width:4; stroke-opacity:1; fill:none\" points=\"\n",
       "  161.394,326.541 193.792,326.541 \n",
       "  \"/>\n",
       "<g clip-path=\"url(#clip6901)\">\n",
       "<text style=\"fill:#000000; fill-opacity:1; font-family:Arial,Helvetica Neue,Helvetica,sans-serif; font-size:48px; text-anchor:middle;\" transform=\"rotate(0, 448.923, 1557.47)\" x=\"448.923\" y=\"1557.47\">2</text>\n",
       "</g>\n",
       "<g clip-path=\"url(#clip6901)\">\n",
       "<text style=\"fill:#000000; fill-opacity:1; font-family:Arial,Helvetica Neue,Helvetica,sans-serif; font-size:48px; text-anchor:middle;\" transform=\"rotate(0, 901.725, 1557.47)\" x=\"901.725\" y=\"1557.47\">4</text>\n",
       "</g>\n",
       "<g clip-path=\"url(#clip6901)\">\n",
       "<text style=\"fill:#000000; fill-opacity:1; font-family:Arial,Helvetica Neue,Helvetica,sans-serif; font-size:48px; text-anchor:middle;\" transform=\"rotate(0, 1354.53, 1557.47)\" x=\"1354.53\" y=\"1557.47\">6</text>\n",
       "</g>\n",
       "<g clip-path=\"url(#clip6901)\">\n",
       "<text style=\"fill:#000000; fill-opacity:1; font-family:Arial,Helvetica Neue,Helvetica,sans-serif; font-size:48px; text-anchor:middle;\" transform=\"rotate(0, 1807.33, 1557.47)\" x=\"1807.33\" y=\"1557.47\">8</text>\n",
       "</g>\n",
       "<g clip-path=\"url(#clip6901)\">\n",
       "<text style=\"fill:#000000; fill-opacity:1; font-family:Arial,Helvetica Neue,Helvetica,sans-serif; font-size:48px; text-anchor:middle;\" transform=\"rotate(0, 2260.13, 1557.47)\" x=\"2260.13\" y=\"1557.47\">10</text>\n",
       "</g>\n",
       "<g clip-path=\"url(#clip6901)\">\n",
       "<text style=\"fill:#000000; fill-opacity:1; font-family:Arial,Helvetica Neue,Helvetica,sans-serif; font-size:48px; text-anchor:end;\" transform=\"rotate(0, 137.394, 1270.5)\" x=\"137.394\" y=\"1270.5\">0.2</text>\n",
       "</g>\n",
       "<g clip-path=\"url(#clip6901)\">\n",
       "<text style=\"fill:#000000; fill-opacity:1; font-family:Arial,Helvetica Neue,Helvetica,sans-serif; font-size:48px; text-anchor:end;\" transform=\"rotate(0, 137.394, 961.68)\" x=\"137.394\" y=\"961.68\">0.4</text>\n",
       "</g>\n",
       "<g clip-path=\"url(#clip6901)\">\n",
       "<text style=\"fill:#000000; fill-opacity:1; font-family:Arial,Helvetica Neue,Helvetica,sans-serif; font-size:48px; text-anchor:end;\" transform=\"rotate(0, 137.394, 652.861)\" x=\"137.394\" y=\"652.861\">0.6</text>\n",
       "</g>\n",
       "<g clip-path=\"url(#clip6901)\">\n",
       "<text style=\"fill:#000000; fill-opacity:1; font-family:Arial,Helvetica Neue,Helvetica,sans-serif; font-size:48px; text-anchor:end;\" transform=\"rotate(0, 137.394, 344.041)\" x=\"137.394\" y=\"344.041\">0.8</text>\n",
       "</g>\n",
       "<polyline clip-path=\"url(#clip6903)\" style=\"stroke:#009af9; stroke-width:4; stroke-opacity:1; fill:none\" points=\"\n",
       "  222.522,1130.6 448.923,1430.63 675.324,159.912 901.725,868.086 1128.13,88.4582 1354.53,366.188 1580.93,1462.26 1807.33,120.694 2033.73,352.697 2260.13,912.779 \n",
       "  \n",
       "  \"/>\n",
       "<polygon clip-path=\"url(#clip6901)\" points=\"\n",
       "1958.43,251.724 2249.26,251.724 2249.26,130.764 1958.43,130.764 \n",
       "  \" fill=\"#ffffff\" fill-opacity=\"1\"/>\n",
       "<polyline clip-path=\"url(#clip6901)\" style=\"stroke:#000000; stroke-width:4; stroke-opacity:1; fill:none\" points=\"\n",
       "  1958.43,251.724 2249.26,251.724 2249.26,130.764 1958.43,130.764 1958.43,251.724 \n",
       "  \"/>\n",
       "<polyline clip-path=\"url(#clip6901)\" style=\"stroke:#009af9; stroke-width:4; stroke-opacity:1; fill:none\" points=\"\n",
       "  1982.43,191.244 2126.43,191.244 \n",
       "  \"/>\n",
       "<g clip-path=\"url(#clip6901)\">\n",
       "<text style=\"fill:#000000; fill-opacity:1; font-family:Arial,Helvetica Neue,Helvetica,sans-serif; font-size:48px; text-anchor:start;\" transform=\"rotate(0, 2150.43, 208.744)\" x=\"2150.43\" y=\"208.744\">y1</text>\n",
       "</g>\n",
       "</svg>\n"
      ]
     },
     "execution_count": 164,
     "metadata": {},
     "output_type": "execute_result"
    }
   ],
   "source": [
    "plot(1:10, rand(10))"
   ]
  },
  {
   "cell_type": "code",
   "execution_count": 165,
   "metadata": {},
   "outputs": [
    {
     "data": {
      "image/svg+xml": [
       "<?xml version=\"1.0\" encoding=\"utf-8\"?>\n",
       "<svg xmlns=\"http://www.w3.org/2000/svg\" xmlns:xlink=\"http://www.w3.org/1999/xlink\" width=\"600\" height=\"400\" viewBox=\"0 0 2400 1600\">\n",
       "<defs>\n",
       "  <clipPath id=\"clip7100\">\n",
       "    <rect x=\"0\" y=\"0\" width=\"2000\" height=\"2000\"/>\n",
       "  </clipPath>\n",
       "</defs>\n",
       "<defs>\n",
       "  <clipPath id=\"clip7101\">\n",
       "    <rect x=\"0\" y=\"0\" width=\"2400\" height=\"1600\"/>\n",
       "  </clipPath>\n",
       "</defs>\n",
       "<polygon clip-path=\"url(#clip7101)\" points=\"\n",
       "0,1600 2400,1600 2400,0 0,0 \n",
       "  \" fill=\"#ffffff\" fill-opacity=\"1\"/>\n",
       "<defs>\n",
       "  <clipPath id=\"clip7102\">\n",
       "    <rect x=\"480\" y=\"0\" width=\"1681\" height=\"1600\"/>\n",
       "  </clipPath>\n",
       "</defs>\n",
       "<polygon clip-path=\"url(#clip7101)\" points=\"\n",
       "161.394,1503.47 2321.26,1503.47 2321.26,47.2441 161.394,47.2441 \n",
       "  \" fill=\"#ffffff\" fill-opacity=\"1\"/>\n",
       "<defs>\n",
       "  <clipPath id=\"clip7103\">\n",
       "    <rect x=\"161\" y=\"47\" width=\"2161\" height=\"1457\"/>\n",
       "  </clipPath>\n",
       "</defs>\n",
       "<polyline clip-path=\"url(#clip7103)\" style=\"stroke:#000000; stroke-width:2; stroke-opacity:0.1; fill:none\" points=\"\n",
       "  448.923,1503.47 448.923,47.2441 \n",
       "  \"/>\n",
       "<polyline clip-path=\"url(#clip7103)\" style=\"stroke:#000000; stroke-width:2; stroke-opacity:0.1; fill:none\" points=\"\n",
       "  901.725,1503.47 901.725,47.2441 \n",
       "  \"/>\n",
       "<polyline clip-path=\"url(#clip7103)\" style=\"stroke:#000000; stroke-width:2; stroke-opacity:0.1; fill:none\" points=\"\n",
       "  1354.53,1503.47 1354.53,47.2441 \n",
       "  \"/>\n",
       "<polyline clip-path=\"url(#clip7103)\" style=\"stroke:#000000; stroke-width:2; stroke-opacity:0.1; fill:none\" points=\"\n",
       "  1807.33,1503.47 1807.33,47.2441 \n",
       "  \"/>\n",
       "<polyline clip-path=\"url(#clip7103)\" style=\"stroke:#000000; stroke-width:2; stroke-opacity:0.1; fill:none\" points=\"\n",
       "  2260.13,1503.47 2260.13,47.2441 \n",
       "  \"/>\n",
       "<polyline clip-path=\"url(#clip7103)\" style=\"stroke:#000000; stroke-width:2; stroke-opacity:0.1; fill:none\" points=\"\n",
       "  161.394,1256.94 2321.26,1256.94 \n",
       "  \"/>\n",
       "<polyline clip-path=\"url(#clip7103)\" style=\"stroke:#000000; stroke-width:2; stroke-opacity:0.1; fill:none\" points=\"\n",
       "  161.394,953.935 2321.26,953.935 \n",
       "  \"/>\n",
       "<polyline clip-path=\"url(#clip7103)\" style=\"stroke:#000000; stroke-width:2; stroke-opacity:0.1; fill:none\" points=\"\n",
       "  161.394,650.929 2321.26,650.929 \n",
       "  \"/>\n",
       "<polyline clip-path=\"url(#clip7103)\" style=\"stroke:#000000; stroke-width:2; stroke-opacity:0.1; fill:none\" points=\"\n",
       "  161.394,347.924 2321.26,347.924 \n",
       "  \"/>\n",
       "<polyline clip-path=\"url(#clip7101)\" style=\"stroke:#000000; stroke-width:4; stroke-opacity:1; fill:none\" points=\"\n",
       "  161.394,1503.47 2321.26,1503.47 \n",
       "  \"/>\n",
       "<polyline clip-path=\"url(#clip7101)\" style=\"stroke:#000000; stroke-width:4; stroke-opacity:1; fill:none\" points=\"\n",
       "  161.394,1503.47 161.394,47.2441 \n",
       "  \"/>\n",
       "<polyline clip-path=\"url(#clip7101)\" style=\"stroke:#000000; stroke-width:4; stroke-opacity:1; fill:none\" points=\"\n",
       "  448.923,1503.47 448.923,1481.63 \n",
       "  \"/>\n",
       "<polyline clip-path=\"url(#clip7101)\" style=\"stroke:#000000; stroke-width:4; stroke-opacity:1; fill:none\" points=\"\n",
       "  901.725,1503.47 901.725,1481.63 \n",
       "  \"/>\n",
       "<polyline clip-path=\"url(#clip7101)\" style=\"stroke:#000000; stroke-width:4; stroke-opacity:1; fill:none\" points=\"\n",
       "  1354.53,1503.47 1354.53,1481.63 \n",
       "  \"/>\n",
       "<polyline clip-path=\"url(#clip7101)\" style=\"stroke:#000000; stroke-width:4; stroke-opacity:1; fill:none\" points=\"\n",
       "  1807.33,1503.47 1807.33,1481.63 \n",
       "  \"/>\n",
       "<polyline clip-path=\"url(#clip7101)\" style=\"stroke:#000000; stroke-width:4; stroke-opacity:1; fill:none\" points=\"\n",
       "  2260.13,1503.47 2260.13,1481.63 \n",
       "  \"/>\n",
       "<polyline clip-path=\"url(#clip7101)\" style=\"stroke:#000000; stroke-width:4; stroke-opacity:1; fill:none\" points=\"\n",
       "  161.394,1256.94 193.792,1256.94 \n",
       "  \"/>\n",
       "<polyline clip-path=\"url(#clip7101)\" style=\"stroke:#000000; stroke-width:4; stroke-opacity:1; fill:none\" points=\"\n",
       "  161.394,953.935 193.792,953.935 \n",
       "  \"/>\n",
       "<polyline clip-path=\"url(#clip7101)\" style=\"stroke:#000000; stroke-width:4; stroke-opacity:1; fill:none\" points=\"\n",
       "  161.394,650.929 193.792,650.929 \n",
       "  \"/>\n",
       "<polyline clip-path=\"url(#clip7101)\" style=\"stroke:#000000; stroke-width:4; stroke-opacity:1; fill:none\" points=\"\n",
       "  161.394,347.924 193.792,347.924 \n",
       "  \"/>\n",
       "<g clip-path=\"url(#clip7101)\">\n",
       "<text style=\"fill:#000000; fill-opacity:1; font-family:Arial,Helvetica Neue,Helvetica,sans-serif; font-size:48px; text-anchor:middle;\" transform=\"rotate(0, 448.923, 1557.47)\" x=\"448.923\" y=\"1557.47\">2</text>\n",
       "</g>\n",
       "<g clip-path=\"url(#clip7101)\">\n",
       "<text style=\"fill:#000000; fill-opacity:1; font-family:Arial,Helvetica Neue,Helvetica,sans-serif; font-size:48px; text-anchor:middle;\" transform=\"rotate(0, 901.725, 1557.47)\" x=\"901.725\" y=\"1557.47\">4</text>\n",
       "</g>\n",
       "<g clip-path=\"url(#clip7101)\">\n",
       "<text style=\"fill:#000000; fill-opacity:1; font-family:Arial,Helvetica Neue,Helvetica,sans-serif; font-size:48px; text-anchor:middle;\" transform=\"rotate(0, 1354.53, 1557.47)\" x=\"1354.53\" y=\"1557.47\">6</text>\n",
       "</g>\n",
       "<g clip-path=\"url(#clip7101)\">\n",
       "<text style=\"fill:#000000; fill-opacity:1; font-family:Arial,Helvetica Neue,Helvetica,sans-serif; font-size:48px; text-anchor:middle;\" transform=\"rotate(0, 1807.33, 1557.47)\" x=\"1807.33\" y=\"1557.47\">8</text>\n",
       "</g>\n",
       "<g clip-path=\"url(#clip7101)\">\n",
       "<text style=\"fill:#000000; fill-opacity:1; font-family:Arial,Helvetica Neue,Helvetica,sans-serif; font-size:48px; text-anchor:middle;\" transform=\"rotate(0, 2260.13, 1557.47)\" x=\"2260.13\" y=\"1557.47\">10</text>\n",
       "</g>\n",
       "<g clip-path=\"url(#clip7101)\">\n",
       "<text style=\"fill:#000000; fill-opacity:1; font-family:Arial,Helvetica Neue,Helvetica,sans-serif; font-size:48px; text-anchor:end;\" transform=\"rotate(0, 137.394, 1274.44)\" x=\"137.394\" y=\"1274.44\">0.2</text>\n",
       "</g>\n",
       "<g clip-path=\"url(#clip7101)\">\n",
       "<text style=\"fill:#000000; fill-opacity:1; font-family:Arial,Helvetica Neue,Helvetica,sans-serif; font-size:48px; text-anchor:end;\" transform=\"rotate(0, 137.394, 971.435)\" x=\"137.394\" y=\"971.435\">0.4</text>\n",
       "</g>\n",
       "<g clip-path=\"url(#clip7101)\">\n",
       "<text style=\"fill:#000000; fill-opacity:1; font-family:Arial,Helvetica Neue,Helvetica,sans-serif; font-size:48px; text-anchor:end;\" transform=\"rotate(0, 137.394, 668.429)\" x=\"137.394\" y=\"668.429\">0.6</text>\n",
       "</g>\n",
       "<g clip-path=\"url(#clip7101)\">\n",
       "<text style=\"fill:#000000; fill-opacity:1; font-family:Arial,Helvetica Neue,Helvetica,sans-serif; font-size:48px; text-anchor:end;\" transform=\"rotate(0, 137.394, 365.424)\" x=\"137.394\" y=\"365.424\">0.8</text>\n",
       "</g>\n",
       "<polyline clip-path=\"url(#clip7103)\" style=\"stroke:#009af9; stroke-width:4; stroke-opacity:1; fill:none\" points=\"\n",
       "  222.522,1136.84 448.923,1431.23 675.324,184.433 901.725,879.273 1128.13,114.324 1354.53,386.825 1580.93,1462.26 1807.33,145.953 2033.73,373.588 2260.13,923.125 \n",
       "  \n",
       "  \"/>\n",
       "<polyline clip-path=\"url(#clip7103)\" style=\"stroke:#e26f46; stroke-width:4; stroke-opacity:1; fill:none\" points=\"\n",
       "  222.522,888.829 448.923,409.962 675.324,612.663 901.725,352.836 1128.13,1110.39 1354.53,1385.59 1580.93,364.768 1807.33,224.223 2033.73,420.096 2260.13,547.758 \n",
       "  \n",
       "  \"/>\n",
       "<polyline clip-path=\"url(#clip7103)\" style=\"stroke:#3da44d; stroke-width:4; stroke-opacity:1; fill:none\" points=\"\n",
       "  222.522,88.4582 448.923,389.79 675.324,427.232 901.725,1431.58 1128.13,166.372 1354.53,556.404 1580.93,1402.65 1807.33,966.11 2033.73,832.716 2260.13,995.349 \n",
       "  \n",
       "  \"/>\n",
       "<polygon clip-path=\"url(#clip7101)\" points=\"\n",
       "1958.43,372.684 2249.26,372.684 2249.26,130.764 1958.43,130.764 \n",
       "  \" fill=\"#ffffff\" fill-opacity=\"1\"/>\n",
       "<polyline clip-path=\"url(#clip7101)\" style=\"stroke:#000000; stroke-width:4; stroke-opacity:1; fill:none\" points=\"\n",
       "  1958.43,372.684 2249.26,372.684 2249.26,130.764 1958.43,130.764 1958.43,372.684 \n",
       "  \"/>\n",
       "<polyline clip-path=\"url(#clip7101)\" style=\"stroke:#009af9; stroke-width:4; stroke-opacity:1; fill:none\" points=\"\n",
       "  1982.43,191.244 2126.43,191.244 \n",
       "  \"/>\n",
       "<g clip-path=\"url(#clip7101)\">\n",
       "<text style=\"fill:#000000; fill-opacity:1; font-family:Arial,Helvetica Neue,Helvetica,sans-serif; font-size:48px; text-anchor:start;\" transform=\"rotate(0, 2150.43, 208.744)\" x=\"2150.43\" y=\"208.744\">y1</text>\n",
       "</g>\n",
       "<polyline clip-path=\"url(#clip7101)\" style=\"stroke:#e26f46; stroke-width:4; stroke-opacity:1; fill:none\" points=\"\n",
       "  1982.43,251.724 2126.43,251.724 \n",
       "  \"/>\n",
       "<g clip-path=\"url(#clip7101)\">\n",
       "<text style=\"fill:#000000; fill-opacity:1; font-family:Arial,Helvetica Neue,Helvetica,sans-serif; font-size:48px; text-anchor:start;\" transform=\"rotate(0, 2150.43, 269.224)\" x=\"2150.43\" y=\"269.224\">y2</text>\n",
       "</g>\n",
       "<polyline clip-path=\"url(#clip7101)\" style=\"stroke:#3da44d; stroke-width:4; stroke-opacity:1; fill:none\" points=\"\n",
       "  1982.43,312.204 2126.43,312.204 \n",
       "  \"/>\n",
       "<g clip-path=\"url(#clip7101)\">\n",
       "<text style=\"fill:#000000; fill-opacity:1; font-family:Arial,Helvetica Neue,Helvetica,sans-serif; font-size:48px; text-anchor:start;\" transform=\"rotate(0, 2150.43, 329.704)\" x=\"2150.43\" y=\"329.704\">y3</text>\n",
       "</g>\n",
       "</svg>\n"
      ]
     },
     "execution_count": 165,
     "metadata": {},
     "output_type": "execute_result"
    }
   ],
   "source": [
    "plot!(rand(10, 2))"
   ]
  },
  {
   "cell_type": "code",
   "execution_count": 166,
   "metadata": {},
   "outputs": [
    {
     "data": {
      "image/svg+xml": [
       "<?xml version=\"1.0\" encoding=\"utf-8\"?>\n",
       "<svg xmlns=\"http://www.w3.org/2000/svg\" xmlns:xlink=\"http://www.w3.org/1999/xlink\" width=\"600\" height=\"400\" viewBox=\"0 0 2400 1600\">\n",
       "<defs>\n",
       "  <clipPath id=\"clip7300\">\n",
       "    <rect x=\"0\" y=\"0\" width=\"2000\" height=\"2000\"/>\n",
       "  </clipPath>\n",
       "</defs>\n",
       "<defs>\n",
       "  <clipPath id=\"clip7301\">\n",
       "    <rect x=\"0\" y=\"0\" width=\"2400\" height=\"1600\"/>\n",
       "  </clipPath>\n",
       "</defs>\n",
       "<polygon clip-path=\"url(#clip7301)\" points=\"\n",
       "0,1600 2400,1600 2400,0 0,0 \n",
       "  \" fill=\"#ffffff\" fill-opacity=\"1\"/>\n",
       "<defs>\n",
       "  <clipPath id=\"clip7302\">\n",
       "    <rect x=\"480\" y=\"0\" width=\"1681\" height=\"1600\"/>\n",
       "  </clipPath>\n",
       "</defs>\n",
       "<polygon clip-path=\"url(#clip7301)\" points=\"\n",
       "188.156,1503.47 2321.26,1503.47 2321.26,125.984 188.156,125.984 \n",
       "  \" fill=\"#ffffff\" fill-opacity=\"1\"/>\n",
       "<defs>\n",
       "  <clipPath id=\"clip7303\">\n",
       "    <rect x=\"188\" y=\"125\" width=\"2134\" height=\"1378\"/>\n",
       "  </clipPath>\n",
       "</defs>\n",
       "<polyline clip-path=\"url(#clip7303)\" style=\"stroke:#000000; stroke-width:2; stroke-opacity:0.1; fill:none\" points=\"\n",
       "  472.123,1503.47 472.123,125.984 \n",
       "  \"/>\n",
       "<polyline clip-path=\"url(#clip7303)\" style=\"stroke:#000000; stroke-width:2; stroke-opacity:0.1; fill:none\" points=\"\n",
       "  919.314,1503.47 919.314,125.984 \n",
       "  \"/>\n",
       "<polyline clip-path=\"url(#clip7303)\" style=\"stroke:#000000; stroke-width:2; stroke-opacity:0.1; fill:none\" points=\"\n",
       "  1366.51,1503.47 1366.51,125.984 \n",
       "  \"/>\n",
       "<polyline clip-path=\"url(#clip7303)\" style=\"stroke:#000000; stroke-width:2; stroke-opacity:0.1; fill:none\" points=\"\n",
       "  1813.7,1503.47 1813.7,125.984 \n",
       "  \"/>\n",
       "<polyline clip-path=\"url(#clip7303)\" style=\"stroke:#000000; stroke-width:2; stroke-opacity:0.1; fill:none\" points=\"\n",
       "  2260.89,1503.47 2260.89,125.984 \n",
       "  \"/>\n",
       "<polyline clip-path=\"url(#clip7303)\" style=\"stroke:#000000; stroke-width:2; stroke-opacity:0.1; fill:none\" points=\"\n",
       "  188.156,1483.61 2321.26,1483.61 \n",
       "  \"/>\n",
       "<polyline clip-path=\"url(#clip7303)\" style=\"stroke:#000000; stroke-width:2; stroke-opacity:0.1; fill:none\" points=\"\n",
       "  188.156,1145.9 2321.26,1145.9 \n",
       "  \"/>\n",
       "<polyline clip-path=\"url(#clip7303)\" style=\"stroke:#000000; stroke-width:2; stroke-opacity:0.1; fill:none\" points=\"\n",
       "  188.156,808.177 2321.26,808.177 \n",
       "  \"/>\n",
       "<polyline clip-path=\"url(#clip7303)\" style=\"stroke:#000000; stroke-width:2; stroke-opacity:0.1; fill:none\" points=\"\n",
       "  188.156,470.459 2321.26,470.459 \n",
       "  \"/>\n",
       "<polyline clip-path=\"url(#clip7303)\" style=\"stroke:#000000; stroke-width:2; stroke-opacity:0.1; fill:none\" points=\"\n",
       "  188.156,132.741 2321.26,132.741 \n",
       "  \"/>\n",
       "<polyline clip-path=\"url(#clip7301)\" style=\"stroke:#000000; stroke-width:4; stroke-opacity:1; fill:none\" points=\"\n",
       "  188.156,1503.47 2321.26,1503.47 \n",
       "  \"/>\n",
       "<polyline clip-path=\"url(#clip7301)\" style=\"stroke:#000000; stroke-width:4; stroke-opacity:1; fill:none\" points=\"\n",
       "  188.156,1503.47 188.156,125.984 \n",
       "  \"/>\n",
       "<polyline clip-path=\"url(#clip7301)\" style=\"stroke:#000000; stroke-width:4; stroke-opacity:1; fill:none\" points=\"\n",
       "  472.123,1503.47 472.123,1482.81 \n",
       "  \"/>\n",
       "<polyline clip-path=\"url(#clip7301)\" style=\"stroke:#000000; stroke-width:4; stroke-opacity:1; fill:none\" points=\"\n",
       "  919.314,1503.47 919.314,1482.81 \n",
       "  \"/>\n",
       "<polyline clip-path=\"url(#clip7301)\" style=\"stroke:#000000; stroke-width:4; stroke-opacity:1; fill:none\" points=\"\n",
       "  1366.51,1503.47 1366.51,1482.81 \n",
       "  \"/>\n",
       "<polyline clip-path=\"url(#clip7301)\" style=\"stroke:#000000; stroke-width:4; stroke-opacity:1; fill:none\" points=\"\n",
       "  1813.7,1503.47 1813.7,1482.81 \n",
       "  \"/>\n",
       "<polyline clip-path=\"url(#clip7301)\" style=\"stroke:#000000; stroke-width:4; stroke-opacity:1; fill:none\" points=\"\n",
       "  2260.89,1503.47 2260.89,1482.81 \n",
       "  \"/>\n",
       "<polyline clip-path=\"url(#clip7301)\" style=\"stroke:#000000; stroke-width:4; stroke-opacity:1; fill:none\" points=\"\n",
       "  188.156,1483.61 220.153,1483.61 \n",
       "  \"/>\n",
       "<polyline clip-path=\"url(#clip7301)\" style=\"stroke:#000000; stroke-width:4; stroke-opacity:1; fill:none\" points=\"\n",
       "  188.156,1145.9 220.153,1145.9 \n",
       "  \"/>\n",
       "<polyline clip-path=\"url(#clip7301)\" style=\"stroke:#000000; stroke-width:4; stroke-opacity:1; fill:none\" points=\"\n",
       "  188.156,808.177 220.153,808.177 \n",
       "  \"/>\n",
       "<polyline clip-path=\"url(#clip7301)\" style=\"stroke:#000000; stroke-width:4; stroke-opacity:1; fill:none\" points=\"\n",
       "  188.156,470.459 220.153,470.459 \n",
       "  \"/>\n",
       "<polyline clip-path=\"url(#clip7301)\" style=\"stroke:#000000; stroke-width:4; stroke-opacity:1; fill:none\" points=\"\n",
       "  188.156,132.741 220.153,132.741 \n",
       "  \"/>\n",
       "<g clip-path=\"url(#clip7301)\">\n",
       "<text style=\"fill:#000000; fill-opacity:1; font-family:Arial,Helvetica Neue,Helvetica,sans-serif; font-size:48px; text-anchor:middle;\" transform=\"rotate(0, 472.123, 1557.47)\" x=\"472.123\" y=\"1557.47\">2</text>\n",
       "</g>\n",
       "<g clip-path=\"url(#clip7301)\">\n",
       "<text style=\"fill:#000000; fill-opacity:1; font-family:Arial,Helvetica Neue,Helvetica,sans-serif; font-size:48px; text-anchor:middle;\" transform=\"rotate(0, 919.314, 1557.47)\" x=\"919.314\" y=\"1557.47\">4</text>\n",
       "</g>\n",
       "<g clip-path=\"url(#clip7301)\">\n",
       "<text style=\"fill:#000000; fill-opacity:1; font-family:Arial,Helvetica Neue,Helvetica,sans-serif; font-size:48px; text-anchor:middle;\" transform=\"rotate(0, 1366.51, 1557.47)\" x=\"1366.51\" y=\"1557.47\">6</text>\n",
       "</g>\n",
       "<g clip-path=\"url(#clip7301)\">\n",
       "<text style=\"fill:#000000; fill-opacity:1; font-family:Arial,Helvetica Neue,Helvetica,sans-serif; font-size:48px; text-anchor:middle;\" transform=\"rotate(0, 1813.7, 1557.47)\" x=\"1813.7\" y=\"1557.47\">8</text>\n",
       "</g>\n",
       "<g clip-path=\"url(#clip7301)\">\n",
       "<text style=\"fill:#000000; fill-opacity:1; font-family:Arial,Helvetica Neue,Helvetica,sans-serif; font-size:48px; text-anchor:middle;\" transform=\"rotate(0, 2260.89, 1557.47)\" x=\"2260.89\" y=\"1557.47\">10</text>\n",
       "</g>\n",
       "<g clip-path=\"url(#clip7301)\">\n",
       "<text style=\"fill:#000000; fill-opacity:1; font-family:Arial,Helvetica Neue,Helvetica,sans-serif; font-size:48px; text-anchor:end;\" transform=\"rotate(0, 164.156, 1501.11)\" x=\"164.156\" y=\"1501.11\">0.00</text>\n",
       "</g>\n",
       "<g clip-path=\"url(#clip7301)\">\n",
       "<text style=\"fill:#000000; fill-opacity:1; font-family:Arial,Helvetica Neue,Helvetica,sans-serif; font-size:48px; text-anchor:end;\" transform=\"rotate(0, 164.156, 1163.4)\" x=\"164.156\" y=\"1163.4\">0.25</text>\n",
       "</g>\n",
       "<g clip-path=\"url(#clip7301)\">\n",
       "<text style=\"fill:#000000; fill-opacity:1; font-family:Arial,Helvetica Neue,Helvetica,sans-serif; font-size:48px; text-anchor:end;\" transform=\"rotate(0, 164.156, 825.677)\" x=\"164.156\" y=\"825.677\">0.50</text>\n",
       "</g>\n",
       "<g clip-path=\"url(#clip7301)\">\n",
       "<text style=\"fill:#000000; fill-opacity:1; font-family:Arial,Helvetica Neue,Helvetica,sans-serif; font-size:48px; text-anchor:end;\" transform=\"rotate(0, 164.156, 487.959)\" x=\"164.156\" y=\"487.959\">0.75</text>\n",
       "</g>\n",
       "<g clip-path=\"url(#clip7301)\">\n",
       "<text style=\"fill:#000000; fill-opacity:1; font-family:Arial,Helvetica Neue,Helvetica,sans-serif; font-size:48px; text-anchor:end;\" transform=\"rotate(0, 164.156, 150.241)\" x=\"164.156\" y=\"150.241\">1.00</text>\n",
       "</g>\n",
       "<g clip-path=\"url(#clip7301)\">\n",
       "<text style=\"fill:#000000; fill-opacity:1; font-family:Arial,Helvetica Neue,Helvetica,sans-serif; font-size:84px; text-anchor:middle;\" transform=\"rotate(0, 1254.71, 73.2)\" x=\"1254.71\" y=\"73.2\">Three Lines</text>\n",
       "</g>\n",
       "<polyline clip-path=\"url(#clip7303)\" style=\"stroke:#009af9; stroke-width:12; stroke-opacity:1; fill:none\" points=\"\n",
       "  248.527,1024.54 472.123,490.041 695.719,1213.87 919.314,1385.82 1142.91,448.261 1366.51,805.575 1590.1,470.859 1813.7,691.247 2037.29,500.383 2260.89,430.251 \n",
       "  \n",
       "  \"/>\n",
       "<polyline clip-path=\"url(#clip7303)\" style=\"stroke:#e26f46; stroke-width:12; stroke-opacity:1; fill:none\" points=\"\n",
       "  248.527,438.945 472.123,793.803 695.719,1105.95 919.314,207.954 1142.91,771.867 1366.51,998.606 1590.1,1042.03 1813.7,1083.84 2037.29,592.669 2260.89,503.487 \n",
       "  \n",
       "  \"/>\n",
       "<polyline clip-path=\"url(#clip7303)\" style=\"stroke:#3da44d; stroke-width:12; stroke-opacity:1; fill:none\" points=\"\n",
       "  248.527,671.45 472.123,1358.25 695.719,1020.88 919.314,374.383 1142.91,1436.05 1366.51,164.97 1590.1,667.157 1813.7,1464.49 2037.29,1020.57 2260.89,1175.05 \n",
       "  \n",
       "  \"/>\n",
       "<polygon clip-path=\"url(#clip7301)\" points=\"\n",
       "1795.26,451.424 2249.26,451.424 2249.26,209.504 1795.26,209.504 \n",
       "  \" fill=\"#ffffff\" fill-opacity=\"1\"/>\n",
       "<polyline clip-path=\"url(#clip7301)\" style=\"stroke:#000000; stroke-width:4; stroke-opacity:1; fill:none\" points=\"\n",
       "  1795.26,451.424 2249.26,451.424 2249.26,209.504 1795.26,209.504 1795.26,451.424 \n",
       "  \"/>\n",
       "<polyline clip-path=\"url(#clip7301)\" style=\"stroke:#009af9; stroke-width:12; stroke-opacity:1; fill:none\" points=\"\n",
       "  1819.26,269.984 1963.26,269.984 \n",
       "  \"/>\n",
       "<g clip-path=\"url(#clip7301)\">\n",
       "<text style=\"fill:#000000; fill-opacity:1; font-family:Arial,Helvetica Neue,Helvetica,sans-serif; font-size:48px; text-anchor:start;\" transform=\"rotate(0, 1987.26, 287.484)\" x=\"1987.26\" y=\"287.484\">First</text>\n",
       "</g>\n",
       "<polyline clip-path=\"url(#clip7301)\" style=\"stroke:#e26f46; stroke-width:12; stroke-opacity:1; fill:none\" points=\"\n",
       "  1819.26,330.464 1963.26,330.464 \n",
       "  \"/>\n",
       "<g clip-path=\"url(#clip7301)\">\n",
       "<text style=\"fill:#000000; fill-opacity:1; font-family:Arial,Helvetica Neue,Helvetica,sans-serif; font-size:48px; text-anchor:start;\" transform=\"rotate(0, 1987.26, 347.964)\" x=\"1987.26\" y=\"347.964\">2nd</text>\n",
       "</g>\n",
       "<polyline clip-path=\"url(#clip7301)\" style=\"stroke:#3da44d; stroke-width:12; stroke-opacity:1; fill:none\" points=\"\n",
       "  1819.26,390.944 1963.26,390.944 \n",
       "  \"/>\n",
       "<g clip-path=\"url(#clip7301)\">\n",
       "<text style=\"fill:#000000; fill-opacity:1; font-family:Arial,Helvetica Neue,Helvetica,sans-serif; font-size:48px; text-anchor:start;\" transform=\"rotate(0, 1987.26, 408.444)\" x=\"1987.26\" y=\"408.444\">Third Line</text>\n",
       "</g>\n",
       "</svg>\n"
      ]
     },
     "execution_count": 166,
     "metadata": {},
     "output_type": "execute_result"
    }
   ],
   "source": [
    "plot(1:10, rand(10,3), title=\"Three Lines\",label=[\"First\" \"2nd\" \"Third Line\"],lw=3) # lw stands for line width"
   ]
  },
  {
   "cell_type": "code",
   "execution_count": 167,
   "metadata": {},
   "outputs": [
    {
     "data": {
      "image/svg+xml": [
       "<?xml version=\"1.0\" encoding=\"utf-8\"?>\n",
       "<svg xmlns=\"http://www.w3.org/2000/svg\" xmlns:xlink=\"http://www.w3.org/1999/xlink\" width=\"600\" height=\"400\" viewBox=\"0 0 2400 1600\">\n",
       "<defs>\n",
       "  <clipPath id=\"clip7500\">\n",
       "    <rect x=\"0\" y=\"0\" width=\"2000\" height=\"2000\"/>\n",
       "  </clipPath>\n",
       "</defs>\n",
       "<defs>\n",
       "  <clipPath id=\"clip7501\">\n",
       "    <rect x=\"0\" y=\"0\" width=\"2400\" height=\"1600\"/>\n",
       "  </clipPath>\n",
       "</defs>\n",
       "<polygon clip-path=\"url(#clip7501)\" points=\"\n",
       "0,1600 2400,1600 2400,0 0,0 \n",
       "  \" fill=\"#ffffff\" fill-opacity=\"1\"/>\n",
       "<defs>\n",
       "  <clipPath id=\"clip7502\">\n",
       "    <rect x=\"480\" y=\"0\" width=\"1681\" height=\"1600\"/>\n",
       "  </clipPath>\n",
       "</defs>\n",
       "<polygon clip-path=\"url(#clip7501)\" points=\"\n",
       "188.156,1440.48 2321.26,1440.48 2321.26,125.984 188.156,125.984 \n",
       "  \" fill=\"#ffffff\" fill-opacity=\"1\"/>\n",
       "<defs>\n",
       "  <clipPath id=\"clip7503\">\n",
       "    <rect x=\"188\" y=\"125\" width=\"2134\" height=\"1315\"/>\n",
       "  </clipPath>\n",
       "</defs>\n",
       "<polyline clip-path=\"url(#clip7503)\" style=\"stroke:#000000; stroke-width:2; stroke-opacity:0.1; fill:none\" points=\"\n",
       "  472.123,1440.48 472.123,125.984 \n",
       "  \"/>\n",
       "<polyline clip-path=\"url(#clip7503)\" style=\"stroke:#000000; stroke-width:2; stroke-opacity:0.1; fill:none\" points=\"\n",
       "  919.314,1440.48 919.314,125.984 \n",
       "  \"/>\n",
       "<polyline clip-path=\"url(#clip7503)\" style=\"stroke:#000000; stroke-width:2; stroke-opacity:0.1; fill:none\" points=\"\n",
       "  1366.51,1440.48 1366.51,125.984 \n",
       "  \"/>\n",
       "<polyline clip-path=\"url(#clip7503)\" style=\"stroke:#000000; stroke-width:2; stroke-opacity:0.1; fill:none\" points=\"\n",
       "  1813.7,1440.48 1813.7,125.984 \n",
       "  \"/>\n",
       "<polyline clip-path=\"url(#clip7503)\" style=\"stroke:#000000; stroke-width:2; stroke-opacity:0.1; fill:none\" points=\"\n",
       "  2260.89,1440.48 2260.89,125.984 \n",
       "  \"/>\n",
       "<polyline clip-path=\"url(#clip7503)\" style=\"stroke:#000000; stroke-width:2; stroke-opacity:0.1; fill:none\" points=\"\n",
       "  188.156,1421.53 2321.26,1421.53 \n",
       "  \"/>\n",
       "<polyline clip-path=\"url(#clip7503)\" style=\"stroke:#000000; stroke-width:2; stroke-opacity:0.1; fill:none\" points=\"\n",
       "  188.156,1099.26 2321.26,1099.26 \n",
       "  \"/>\n",
       "<polyline clip-path=\"url(#clip7503)\" style=\"stroke:#000000; stroke-width:2; stroke-opacity:0.1; fill:none\" points=\"\n",
       "  188.156,776.981 2321.26,776.981 \n",
       "  \"/>\n",
       "<polyline clip-path=\"url(#clip7503)\" style=\"stroke:#000000; stroke-width:2; stroke-opacity:0.1; fill:none\" points=\"\n",
       "  188.156,454.706 2321.26,454.706 \n",
       "  \"/>\n",
       "<polyline clip-path=\"url(#clip7503)\" style=\"stroke:#000000; stroke-width:2; stroke-opacity:0.1; fill:none\" points=\"\n",
       "  188.156,132.432 2321.26,132.432 \n",
       "  \"/>\n",
       "<polyline clip-path=\"url(#clip7501)\" style=\"stroke:#000000; stroke-width:4; stroke-opacity:1; fill:none\" points=\"\n",
       "  188.156,1440.48 2321.26,1440.48 \n",
       "  \"/>\n",
       "<polyline clip-path=\"url(#clip7501)\" style=\"stroke:#000000; stroke-width:4; stroke-opacity:1; fill:none\" points=\"\n",
       "  188.156,1440.48 188.156,125.984 \n",
       "  \"/>\n",
       "<polyline clip-path=\"url(#clip7501)\" style=\"stroke:#000000; stroke-width:4; stroke-opacity:1; fill:none\" points=\"\n",
       "  472.123,1440.48 472.123,1420.77 \n",
       "  \"/>\n",
       "<polyline clip-path=\"url(#clip7501)\" style=\"stroke:#000000; stroke-width:4; stroke-opacity:1; fill:none\" points=\"\n",
       "  919.314,1440.48 919.314,1420.77 \n",
       "  \"/>\n",
       "<polyline clip-path=\"url(#clip7501)\" style=\"stroke:#000000; stroke-width:4; stroke-opacity:1; fill:none\" points=\"\n",
       "  1366.51,1440.48 1366.51,1420.77 \n",
       "  \"/>\n",
       "<polyline clip-path=\"url(#clip7501)\" style=\"stroke:#000000; stroke-width:4; stroke-opacity:1; fill:none\" points=\"\n",
       "  1813.7,1440.48 1813.7,1420.77 \n",
       "  \"/>\n",
       "<polyline clip-path=\"url(#clip7501)\" style=\"stroke:#000000; stroke-width:4; stroke-opacity:1; fill:none\" points=\"\n",
       "  2260.89,1440.48 2260.89,1420.77 \n",
       "  \"/>\n",
       "<polyline clip-path=\"url(#clip7501)\" style=\"stroke:#000000; stroke-width:4; stroke-opacity:1; fill:none\" points=\"\n",
       "  188.156,1421.53 220.153,1421.53 \n",
       "  \"/>\n",
       "<polyline clip-path=\"url(#clip7501)\" style=\"stroke:#000000; stroke-width:4; stroke-opacity:1; fill:none\" points=\"\n",
       "  188.156,1099.26 220.153,1099.26 \n",
       "  \"/>\n",
       "<polyline clip-path=\"url(#clip7501)\" style=\"stroke:#000000; stroke-width:4; stroke-opacity:1; fill:none\" points=\"\n",
       "  188.156,776.981 220.153,776.981 \n",
       "  \"/>\n",
       "<polyline clip-path=\"url(#clip7501)\" style=\"stroke:#000000; stroke-width:4; stroke-opacity:1; fill:none\" points=\"\n",
       "  188.156,454.706 220.153,454.706 \n",
       "  \"/>\n",
       "<polyline clip-path=\"url(#clip7501)\" style=\"stroke:#000000; stroke-width:4; stroke-opacity:1; fill:none\" points=\"\n",
       "  188.156,132.432 220.153,132.432 \n",
       "  \"/>\n",
       "<g clip-path=\"url(#clip7501)\">\n",
       "<text style=\"fill:#000000; fill-opacity:1; font-family:Arial,Helvetica Neue,Helvetica,sans-serif; font-size:48px; text-anchor:middle;\" transform=\"rotate(0, 472.123, 1494.48)\" x=\"472.123\" y=\"1494.48\">2</text>\n",
       "</g>\n",
       "<g clip-path=\"url(#clip7501)\">\n",
       "<text style=\"fill:#000000; fill-opacity:1; font-family:Arial,Helvetica Neue,Helvetica,sans-serif; font-size:48px; text-anchor:middle;\" transform=\"rotate(0, 919.314, 1494.48)\" x=\"919.314\" y=\"1494.48\">4</text>\n",
       "</g>\n",
       "<g clip-path=\"url(#clip7501)\">\n",
       "<text style=\"fill:#000000; fill-opacity:1; font-family:Arial,Helvetica Neue,Helvetica,sans-serif; font-size:48px; text-anchor:middle;\" transform=\"rotate(0, 1366.51, 1494.48)\" x=\"1366.51\" y=\"1494.48\">6</text>\n",
       "</g>\n",
       "<g clip-path=\"url(#clip7501)\">\n",
       "<text style=\"fill:#000000; fill-opacity:1; font-family:Arial,Helvetica Neue,Helvetica,sans-serif; font-size:48px; text-anchor:middle;\" transform=\"rotate(0, 1813.7, 1494.48)\" x=\"1813.7\" y=\"1494.48\">8</text>\n",
       "</g>\n",
       "<g clip-path=\"url(#clip7501)\">\n",
       "<text style=\"fill:#000000; fill-opacity:1; font-family:Arial,Helvetica Neue,Helvetica,sans-serif; font-size:48px; text-anchor:middle;\" transform=\"rotate(0, 2260.89, 1494.48)\" x=\"2260.89\" y=\"1494.48\">10</text>\n",
       "</g>\n",
       "<g clip-path=\"url(#clip7501)\">\n",
       "<text style=\"fill:#000000; fill-opacity:1; font-family:Arial,Helvetica Neue,Helvetica,sans-serif; font-size:48px; text-anchor:end;\" transform=\"rotate(0, 164.156, 1439.03)\" x=\"164.156\" y=\"1439.03\">0.00</text>\n",
       "</g>\n",
       "<g clip-path=\"url(#clip7501)\">\n",
       "<text style=\"fill:#000000; fill-opacity:1; font-family:Arial,Helvetica Neue,Helvetica,sans-serif; font-size:48px; text-anchor:end;\" transform=\"rotate(0, 164.156, 1116.76)\" x=\"164.156\" y=\"1116.76\">0.25</text>\n",
       "</g>\n",
       "<g clip-path=\"url(#clip7501)\">\n",
       "<text style=\"fill:#000000; fill-opacity:1; font-family:Arial,Helvetica Neue,Helvetica,sans-serif; font-size:48px; text-anchor:end;\" transform=\"rotate(0, 164.156, 794.481)\" x=\"164.156\" y=\"794.481\">0.50</text>\n",
       "</g>\n",
       "<g clip-path=\"url(#clip7501)\">\n",
       "<text style=\"fill:#000000; fill-opacity:1; font-family:Arial,Helvetica Neue,Helvetica,sans-serif; font-size:48px; text-anchor:end;\" transform=\"rotate(0, 164.156, 472.206)\" x=\"164.156\" y=\"472.206\">0.75</text>\n",
       "</g>\n",
       "<g clip-path=\"url(#clip7501)\">\n",
       "<text style=\"fill:#000000; fill-opacity:1; font-family:Arial,Helvetica Neue,Helvetica,sans-serif; font-size:48px; text-anchor:end;\" transform=\"rotate(0, 164.156, 149.932)\" x=\"164.156\" y=\"149.932\">1.00</text>\n",
       "</g>\n",
       "<g clip-path=\"url(#clip7501)\">\n",
       "<text style=\"fill:#000000; fill-opacity:1; font-family:Arial,Helvetica Neue,Helvetica,sans-serif; font-size:84px; text-anchor:middle;\" transform=\"rotate(0, 1254.71, 73.2)\" x=\"1254.71\" y=\"73.2\">Three Lines</text>\n",
       "</g>\n",
       "<g clip-path=\"url(#clip7501)\">\n",
       "<text style=\"fill:#000000; fill-opacity:1; font-family:Arial,Helvetica Neue,Helvetica,sans-serif; font-size:66px; text-anchor:middle;\" transform=\"rotate(0, 1254.71, 1590.4)\" x=\"1254.71\" y=\"1590.4\">Beautiful lines</text>\n",
       "</g>\n",
       "<polyline clip-path=\"url(#clip7503)\" style=\"stroke:#009af9; stroke-width:12; stroke-opacity:1; fill:none\" points=\"\n",
       "  248.527,983.446 472.123,473.393 695.719,1164.12 919.314,1328.21 1142.91,433.524 1366.51,774.497 1590.1,455.088 1813.7,665.398 2037.29,483.262 2260.89,416.337 \n",
       "  \n",
       "  \"/>\n",
       "<polyline clip-path=\"url(#clip7503)\" style=\"stroke:#e26f46; stroke-width:12; stroke-opacity:1; fill:none\" points=\"\n",
       "  248.527,424.634 472.123,763.264 695.719,1061.14 919.314,204.205 1142.91,742.331 1366.51,958.702 1590.1,1000.14 1813.7,1040.04 2037.29,571.327 2260.89,486.224 \n",
       "  \n",
       "  \"/>\n",
       "<polyline clip-path=\"url(#clip7503)\" style=\"stroke:#3da44d; stroke-width:12; stroke-opacity:1; fill:none\" points=\"\n",
       "  248.527,646.507 472.123,1301.9 695.719,979.958 919.314,363.024 1142.91,1376.14 1366.51,163.187 1590.1,642.41 1813.7,1403.28 2037.29,979.66 2260.89,1127.08 \n",
       "  \n",
       "  \"/>\n",
       "<polygon clip-path=\"url(#clip7501)\" points=\"\n",
       "1795.26,451.424 2249.26,451.424 2249.26,209.504 1795.26,209.504 \n",
       "  \" fill=\"#ffffff\" fill-opacity=\"1\"/>\n",
       "<polyline clip-path=\"url(#clip7501)\" style=\"stroke:#000000; stroke-width:4; stroke-opacity:1; fill:none\" points=\"\n",
       "  1795.26,451.424 2249.26,451.424 2249.26,209.504 1795.26,209.504 1795.26,451.424 \n",
       "  \"/>\n",
       "<polyline clip-path=\"url(#clip7501)\" style=\"stroke:#009af9; stroke-width:12; stroke-opacity:1; fill:none\" points=\"\n",
       "  1819.26,269.984 1963.26,269.984 \n",
       "  \"/>\n",
       "<g clip-path=\"url(#clip7501)\">\n",
       "<text style=\"fill:#000000; fill-opacity:1; font-family:Arial,Helvetica Neue,Helvetica,sans-serif; font-size:48px; text-anchor:start;\" transform=\"rotate(0, 1987.26, 287.484)\" x=\"1987.26\" y=\"287.484\">First</text>\n",
       "</g>\n",
       "<polyline clip-path=\"url(#clip7501)\" style=\"stroke:#e26f46; stroke-width:12; stroke-opacity:1; fill:none\" points=\"\n",
       "  1819.26,330.464 1963.26,330.464 \n",
       "  \"/>\n",
       "<g clip-path=\"url(#clip7501)\">\n",
       "<text style=\"fill:#000000; fill-opacity:1; font-family:Arial,Helvetica Neue,Helvetica,sans-serif; font-size:48px; text-anchor:start;\" transform=\"rotate(0, 1987.26, 347.964)\" x=\"1987.26\" y=\"347.964\">2nd</text>\n",
       "</g>\n",
       "<polyline clip-path=\"url(#clip7501)\" style=\"stroke:#3da44d; stroke-width:12; stroke-opacity:1; fill:none\" points=\"\n",
       "  1819.26,390.944 1963.26,390.944 \n",
       "  \"/>\n",
       "<g clip-path=\"url(#clip7501)\">\n",
       "<text style=\"fill:#000000; fill-opacity:1; font-family:Arial,Helvetica Neue,Helvetica,sans-serif; font-size:48px; text-anchor:start;\" transform=\"rotate(0, 1987.26, 408.444)\" x=\"1987.26\" y=\"408.444\">Third Line</text>\n",
       "</g>\n",
       "</svg>\n"
      ]
     },
     "execution_count": 167,
     "metadata": {},
     "output_type": "execute_result"
    }
   ],
   "source": [
    "xlabel!(\"Beautiful lines\")"
   ]
  },
  {
   "cell_type": "code",
   "execution_count": 168,
   "metadata": {},
   "outputs": [
    {
     "data": {
      "image/svg+xml": [
       "<?xml version=\"1.0\" encoding=\"utf-8\"?>\n",
       "<svg xmlns=\"http://www.w3.org/2000/svg\" xmlns:xlink=\"http://www.w3.org/1999/xlink\" width=\"600\" height=\"400\" viewBox=\"0 0 2400 1600\">\n",
       "<defs>\n",
       "  <clipPath id=\"clip7700\">\n",
       "    <rect x=\"0\" y=\"0\" width=\"2000\" height=\"2000\"/>\n",
       "  </clipPath>\n",
       "</defs>\n",
       "<defs>\n",
       "  <clipPath id=\"clip7701\">\n",
       "    <rect x=\"0\" y=\"0\" width=\"2400\" height=\"1600\"/>\n",
       "  </clipPath>\n",
       "</defs>\n",
       "<polygon clip-path=\"url(#clip7701)\" points=\"\n",
       "0,1600 2400,1600 2400,0 0,0 \n",
       "  \" fill=\"#ffffff\" fill-opacity=\"1\"/>\n",
       "<defs>\n",
       "  <clipPath id=\"clip7702\">\n",
       "    <rect x=\"480\" y=\"0\" width=\"1681\" height=\"1600\"/>\n",
       "  </clipPath>\n",
       "</defs>\n",
       "<polygon clip-path=\"url(#clip7701)\" points=\"\n",
       "251.149,1440.48 2321.26,1440.48 2321.26,125.984 251.149,125.984 \n",
       "  \" fill=\"#ffffff\" fill-opacity=\"1\"/>\n",
       "<defs>\n",
       "  <clipPath id=\"clip7703\">\n",
       "    <rect x=\"251\" y=\"125\" width=\"2071\" height=\"1315\"/>\n",
       "  </clipPath>\n",
       "</defs>\n",
       "<polyline clip-path=\"url(#clip7703)\" style=\"stroke:#000000; stroke-width:2; stroke-opacity:0.1; fill:none\" points=\"\n",
       "  526.729,1440.48 526.729,125.984 \n",
       "  \"/>\n",
       "<polyline clip-path=\"url(#clip7703)\" style=\"stroke:#000000; stroke-width:2; stroke-opacity:0.1; fill:none\" points=\"\n",
       "  960.715,1440.48 960.715,125.984 \n",
       "  \"/>\n",
       "<polyline clip-path=\"url(#clip7703)\" style=\"stroke:#000000; stroke-width:2; stroke-opacity:0.1; fill:none\" points=\"\n",
       "  1394.7,1440.48 1394.7,125.984 \n",
       "  \"/>\n",
       "<polyline clip-path=\"url(#clip7703)\" style=\"stroke:#000000; stroke-width:2; stroke-opacity:0.1; fill:none\" points=\"\n",
       "  1828.69,1440.48 1828.69,125.984 \n",
       "  \"/>\n",
       "<polyline clip-path=\"url(#clip7703)\" style=\"stroke:#000000; stroke-width:2; stroke-opacity:0.1; fill:none\" points=\"\n",
       "  2262.67,1440.48 2262.67,125.984 \n",
       "  \"/>\n",
       "<polyline clip-path=\"url(#clip7703)\" style=\"stroke:#000000; stroke-width:2; stroke-opacity:0.1; fill:none\" points=\"\n",
       "  251.149,1421.53 2321.26,1421.53 \n",
       "  \"/>\n",
       "<polyline clip-path=\"url(#clip7703)\" style=\"stroke:#000000; stroke-width:2; stroke-opacity:0.1; fill:none\" points=\"\n",
       "  251.149,1099.26 2321.26,1099.26 \n",
       "  \"/>\n",
       "<polyline clip-path=\"url(#clip7703)\" style=\"stroke:#000000; stroke-width:2; stroke-opacity:0.1; fill:none\" points=\"\n",
       "  251.149,776.981 2321.26,776.981 \n",
       "  \"/>\n",
       "<polyline clip-path=\"url(#clip7703)\" style=\"stroke:#000000; stroke-width:2; stroke-opacity:0.1; fill:none\" points=\"\n",
       "  251.149,454.706 2321.26,454.706 \n",
       "  \"/>\n",
       "<polyline clip-path=\"url(#clip7703)\" style=\"stroke:#000000; stroke-width:2; stroke-opacity:0.1; fill:none\" points=\"\n",
       "  251.149,132.432 2321.26,132.432 \n",
       "  \"/>\n",
       "<polyline clip-path=\"url(#clip7701)\" style=\"stroke:#000000; stroke-width:4; stroke-opacity:1; fill:none\" points=\"\n",
       "  251.149,1440.48 2321.26,1440.48 \n",
       "  \"/>\n",
       "<polyline clip-path=\"url(#clip7701)\" style=\"stroke:#000000; stroke-width:4; stroke-opacity:1; fill:none\" points=\"\n",
       "  251.149,1440.48 251.149,125.984 \n",
       "  \"/>\n",
       "<polyline clip-path=\"url(#clip7701)\" style=\"stroke:#000000; stroke-width:4; stroke-opacity:1; fill:none\" points=\"\n",
       "  526.729,1440.48 526.729,1420.77 \n",
       "  \"/>\n",
       "<polyline clip-path=\"url(#clip7701)\" style=\"stroke:#000000; stroke-width:4; stroke-opacity:1; fill:none\" points=\"\n",
       "  960.715,1440.48 960.715,1420.77 \n",
       "  \"/>\n",
       "<polyline clip-path=\"url(#clip7701)\" style=\"stroke:#000000; stroke-width:4; stroke-opacity:1; fill:none\" points=\"\n",
       "  1394.7,1440.48 1394.7,1420.77 \n",
       "  \"/>\n",
       "<polyline clip-path=\"url(#clip7701)\" style=\"stroke:#000000; stroke-width:4; stroke-opacity:1; fill:none\" points=\"\n",
       "  1828.69,1440.48 1828.69,1420.77 \n",
       "  \"/>\n",
       "<polyline clip-path=\"url(#clip7701)\" style=\"stroke:#000000; stroke-width:4; stroke-opacity:1; fill:none\" points=\"\n",
       "  2262.67,1440.48 2262.67,1420.77 \n",
       "  \"/>\n",
       "<polyline clip-path=\"url(#clip7701)\" style=\"stroke:#000000; stroke-width:4; stroke-opacity:1; fill:none\" points=\"\n",
       "  251.149,1421.53 282.2,1421.53 \n",
       "  \"/>\n",
       "<polyline clip-path=\"url(#clip7701)\" style=\"stroke:#000000; stroke-width:4; stroke-opacity:1; fill:none\" points=\"\n",
       "  251.149,1099.26 282.2,1099.26 \n",
       "  \"/>\n",
       "<polyline clip-path=\"url(#clip7701)\" style=\"stroke:#000000; stroke-width:4; stroke-opacity:1; fill:none\" points=\"\n",
       "  251.149,776.981 282.2,776.981 \n",
       "  \"/>\n",
       "<polyline clip-path=\"url(#clip7701)\" style=\"stroke:#000000; stroke-width:4; stroke-opacity:1; fill:none\" points=\"\n",
       "  251.149,454.706 282.2,454.706 \n",
       "  \"/>\n",
       "<polyline clip-path=\"url(#clip7701)\" style=\"stroke:#000000; stroke-width:4; stroke-opacity:1; fill:none\" points=\"\n",
       "  251.149,132.432 282.2,132.432 \n",
       "  \"/>\n",
       "<g clip-path=\"url(#clip7701)\">\n",
       "<text style=\"fill:#000000; fill-opacity:1; font-family:Arial,Helvetica Neue,Helvetica,sans-serif; font-size:48px; text-anchor:middle;\" transform=\"rotate(0, 526.729, 1494.48)\" x=\"526.729\" y=\"1494.48\">2</text>\n",
       "</g>\n",
       "<g clip-path=\"url(#clip7701)\">\n",
       "<text style=\"fill:#000000; fill-opacity:1; font-family:Arial,Helvetica Neue,Helvetica,sans-serif; font-size:48px; text-anchor:middle;\" transform=\"rotate(0, 960.715, 1494.48)\" x=\"960.715\" y=\"1494.48\">4</text>\n",
       "</g>\n",
       "<g clip-path=\"url(#clip7701)\">\n",
       "<text style=\"fill:#000000; fill-opacity:1; font-family:Arial,Helvetica Neue,Helvetica,sans-serif; font-size:48px; text-anchor:middle;\" transform=\"rotate(0, 1394.7, 1494.48)\" x=\"1394.7\" y=\"1494.48\">6</text>\n",
       "</g>\n",
       "<g clip-path=\"url(#clip7701)\">\n",
       "<text style=\"fill:#000000; fill-opacity:1; font-family:Arial,Helvetica Neue,Helvetica,sans-serif; font-size:48px; text-anchor:middle;\" transform=\"rotate(0, 1828.69, 1494.48)\" x=\"1828.69\" y=\"1494.48\">8</text>\n",
       "</g>\n",
       "<g clip-path=\"url(#clip7701)\">\n",
       "<text style=\"fill:#000000; fill-opacity:1; font-family:Arial,Helvetica Neue,Helvetica,sans-serif; font-size:48px; text-anchor:middle;\" transform=\"rotate(0, 2262.67, 1494.48)\" x=\"2262.67\" y=\"1494.48\">10</text>\n",
       "</g>\n",
       "<g clip-path=\"url(#clip7701)\">\n",
       "<text style=\"fill:#000000; fill-opacity:1; font-family:Arial,Helvetica Neue,Helvetica,sans-serif; font-size:48px; text-anchor:end;\" transform=\"rotate(0, 227.149, 1439.03)\" x=\"227.149\" y=\"1439.03\">0.00</text>\n",
       "</g>\n",
       "<g clip-path=\"url(#clip7701)\">\n",
       "<text style=\"fill:#000000; fill-opacity:1; font-family:Arial,Helvetica Neue,Helvetica,sans-serif; font-size:48px; text-anchor:end;\" transform=\"rotate(0, 227.149, 1116.76)\" x=\"227.149\" y=\"1116.76\">0.25</text>\n",
       "</g>\n",
       "<g clip-path=\"url(#clip7701)\">\n",
       "<text style=\"fill:#000000; fill-opacity:1; font-family:Arial,Helvetica Neue,Helvetica,sans-serif; font-size:48px; text-anchor:end;\" transform=\"rotate(0, 227.149, 794.481)\" x=\"227.149\" y=\"794.481\">0.50</text>\n",
       "</g>\n",
       "<g clip-path=\"url(#clip7701)\">\n",
       "<text style=\"fill:#000000; fill-opacity:1; font-family:Arial,Helvetica Neue,Helvetica,sans-serif; font-size:48px; text-anchor:end;\" transform=\"rotate(0, 227.149, 472.206)\" x=\"227.149\" y=\"472.206\">0.75</text>\n",
       "</g>\n",
       "<g clip-path=\"url(#clip7701)\">\n",
       "<text style=\"fill:#000000; fill-opacity:1; font-family:Arial,Helvetica Neue,Helvetica,sans-serif; font-size:48px; text-anchor:end;\" transform=\"rotate(0, 227.149, 149.932)\" x=\"227.149\" y=\"149.932\">1.00</text>\n",
       "</g>\n",
       "<g clip-path=\"url(#clip7701)\">\n",
       "<text style=\"fill:#000000; fill-opacity:1; font-family:Arial,Helvetica Neue,Helvetica,sans-serif; font-size:84px; text-anchor:middle;\" transform=\"rotate(0, 1286.2, 73.2)\" x=\"1286.2\" y=\"73.2\">Three Lines</text>\n",
       "</g>\n",
       "<g clip-path=\"url(#clip7701)\">\n",
       "<text style=\"fill:#000000; fill-opacity:1; font-family:Arial,Helvetica Neue,Helvetica,sans-serif; font-size:66px; text-anchor:middle;\" transform=\"rotate(0, 1286.2, 1590.4)\" x=\"1286.2\" y=\"1590.4\">Beautiful lines</text>\n",
       "</g>\n",
       "<g clip-path=\"url(#clip7701)\">\n",
       "<text style=\"fill:#000000; fill-opacity:1; font-family:Arial,Helvetica Neue,Helvetica,sans-serif; font-size:66px; text-anchor:middle;\" transform=\"rotate(-90, 57.6, 783.233)\" x=\"57.6\" y=\"783.233\">Small lines</text>\n",
       "</g>\n",
       "<polyline clip-path=\"url(#clip7703)\" style=\"stroke:#009af9; stroke-width:12; stroke-opacity:1; fill:none\" points=\"\n",
       "  309.737,983.446 526.729,473.393 743.722,1164.12 960.715,1328.21 1177.71,433.524 1394.7,774.497 1611.69,455.088 1828.69,665.398 2045.68,483.262 2262.67,416.337 \n",
       "  \n",
       "  \"/>\n",
       "<polyline clip-path=\"url(#clip7703)\" style=\"stroke:#e26f46; stroke-width:12; stroke-opacity:1; fill:none\" points=\"\n",
       "  309.737,424.634 526.729,763.264 743.722,1061.14 960.715,204.205 1177.71,742.331 1394.7,958.702 1611.69,1000.14 1828.69,1040.04 2045.68,571.327 2262.67,486.224 \n",
       "  \n",
       "  \"/>\n",
       "<polyline clip-path=\"url(#clip7703)\" style=\"stroke:#3da44d; stroke-width:12; stroke-opacity:1; fill:none\" points=\"\n",
       "  309.737,646.507 526.729,1301.9 743.722,979.958 960.715,363.024 1177.71,1376.14 1394.7,163.187 1611.69,642.41 1828.69,1403.28 2045.68,979.66 2262.67,1127.08 \n",
       "  \n",
       "  \"/>\n",
       "<polygon clip-path=\"url(#clip7701)\" points=\"\n",
       "1795.26,451.424 2249.26,451.424 2249.26,209.504 1795.26,209.504 \n",
       "  \" fill=\"#ffffff\" fill-opacity=\"1\"/>\n",
       "<polyline clip-path=\"url(#clip7701)\" style=\"stroke:#000000; stroke-width:4; stroke-opacity:1; fill:none\" points=\"\n",
       "  1795.26,451.424 2249.26,451.424 2249.26,209.504 1795.26,209.504 1795.26,451.424 \n",
       "  \"/>\n",
       "<polyline clip-path=\"url(#clip7701)\" style=\"stroke:#009af9; stroke-width:12; stroke-opacity:1; fill:none\" points=\"\n",
       "  1819.26,269.984 1963.26,269.984 \n",
       "  \"/>\n",
       "<g clip-path=\"url(#clip7701)\">\n",
       "<text style=\"fill:#000000; fill-opacity:1; font-family:Arial,Helvetica Neue,Helvetica,sans-serif; font-size:48px; text-anchor:start;\" transform=\"rotate(0, 1987.26, 287.484)\" x=\"1987.26\" y=\"287.484\">First</text>\n",
       "</g>\n",
       "<polyline clip-path=\"url(#clip7701)\" style=\"stroke:#e26f46; stroke-width:12; stroke-opacity:1; fill:none\" points=\"\n",
       "  1819.26,330.464 1963.26,330.464 \n",
       "  \"/>\n",
       "<g clip-path=\"url(#clip7701)\">\n",
       "<text style=\"fill:#000000; fill-opacity:1; font-family:Arial,Helvetica Neue,Helvetica,sans-serif; font-size:48px; text-anchor:start;\" transform=\"rotate(0, 1987.26, 347.964)\" x=\"1987.26\" y=\"347.964\">2nd</text>\n",
       "</g>\n",
       "<polyline clip-path=\"url(#clip7701)\" style=\"stroke:#3da44d; stroke-width:12; stroke-opacity:1; fill:none\" points=\"\n",
       "  1819.26,390.944 1963.26,390.944 \n",
       "  \"/>\n",
       "<g clip-path=\"url(#clip7701)\">\n",
       "<text style=\"fill:#000000; fill-opacity:1; font-family:Arial,Helvetica Neue,Helvetica,sans-serif; font-size:48px; text-anchor:start;\" transform=\"rotate(0, 1987.26, 408.444)\" x=\"1987.26\" y=\"408.444\">Third Line</text>\n",
       "</g>\n",
       "</svg>\n"
      ]
     },
     "execution_count": 168,
     "metadata": {},
     "output_type": "execute_result"
    }
   ],
   "source": [
    "ylabel!(\"Small lines\")"
   ]
  },
  {
   "cell_type": "code",
   "execution_count": 169,
   "metadata": {},
   "outputs": [
    {
     "data": {
      "image/svg+xml": [
       "<?xml version=\"1.0\" encoding=\"utf-8\"?>\n",
       "<svg xmlns=\"http://www.w3.org/2000/svg\" xmlns:xlink=\"http://www.w3.org/1999/xlink\" width=\"600\" height=\"400\" viewBox=\"0 0 2400 1600\">\n",
       "<defs>\n",
       "  <clipPath id=\"clip7900\">\n",
       "    <rect x=\"0\" y=\"0\" width=\"2000\" height=\"2000\"/>\n",
       "  </clipPath>\n",
       "</defs>\n",
       "<defs>\n",
       "  <clipPath id=\"clip7901\">\n",
       "    <rect x=\"0\" y=\"0\" width=\"2400\" height=\"1600\"/>\n",
       "  </clipPath>\n",
       "</defs>\n",
       "<polygon clip-path=\"url(#clip7901)\" points=\"\n",
       "0,1600 2400,1600 2400,0 0,0 \n",
       "  \" fill=\"#ffffff\" fill-opacity=\"1\"/>\n",
       "<defs>\n",
       "  <clipPath id=\"clip7902\">\n",
       "    <rect x=\"480\" y=\"0\" width=\"1681\" height=\"1600\"/>\n",
       "  </clipPath>\n",
       "</defs>\n",
       "<polygon clip-path=\"url(#clip7901)\" points=\"\n",
       "174.775,1503.47 2321.26,1503.47 2321.26,47.2441 174.775,47.2441 \n",
       "  \" fill=\"#ffffff\" fill-opacity=\"1\"/>\n",
       "<defs>\n",
       "  <clipPath id=\"clip7903\">\n",
       "    <rect x=\"174\" y=\"47\" width=\"2147\" height=\"1457\"/>\n",
       "  </clipPath>\n",
       "</defs>\n",
       "<polyline clip-path=\"url(#clip7903)\" style=\"stroke:#000000; stroke-width:2; stroke-opacity:0.1; fill:none\" points=\"\n",
       "  229.962,1503.47 229.962,47.2441 \n",
       "  \"/>\n",
       "<polyline clip-path=\"url(#clip7903)\" style=\"stroke:#000000; stroke-width:2; stroke-opacity:0.1; fill:none\" points=\"\n",
       "  1248.02,1503.47 1248.02,47.2441 \n",
       "  \"/>\n",
       "<polyline clip-path=\"url(#clip7903)\" style=\"stroke:#000000; stroke-width:2; stroke-opacity:0.1; fill:none\" points=\"\n",
       "  2263.29,1503.47 2263.29,47.2441 \n",
       "  \"/>\n",
       "<polyline clip-path=\"url(#clip7903)\" style=\"stroke:#000000; stroke-width:2; stroke-opacity:0.1; fill:none\" points=\"\n",
       "  174.775,1398.17 2321.26,1398.17 \n",
       "  \"/>\n",
       "<polyline clip-path=\"url(#clip7903)\" style=\"stroke:#000000; stroke-width:2; stroke-opacity:0.1; fill:none\" points=\"\n",
       "  174.775,1197.26 2321.26,1197.26 \n",
       "  \"/>\n",
       "<polyline clip-path=\"url(#clip7903)\" style=\"stroke:#000000; stroke-width:2; stroke-opacity:0.1; fill:none\" points=\"\n",
       "  174.775,996.357 2321.26,996.357 \n",
       "  \"/>\n",
       "<polyline clip-path=\"url(#clip7903)\" style=\"stroke:#000000; stroke-width:2; stroke-opacity:0.1; fill:none\" points=\"\n",
       "  174.775,795.45 2321.26,795.45 \n",
       "  \"/>\n",
       "<polyline clip-path=\"url(#clip7903)\" style=\"stroke:#000000; stroke-width:2; stroke-opacity:0.1; fill:none\" points=\"\n",
       "  174.775,594.543 2321.26,594.543 \n",
       "  \"/>\n",
       "<polyline clip-path=\"url(#clip7903)\" style=\"stroke:#000000; stroke-width:2; stroke-opacity:0.1; fill:none\" points=\"\n",
       "  174.775,393.636 2321.26,393.636 \n",
       "  \"/>\n",
       "<polyline clip-path=\"url(#clip7903)\" style=\"stroke:#000000; stroke-width:2; stroke-opacity:0.1; fill:none\" points=\"\n",
       "  174.775,192.729 2321.26,192.729 \n",
       "  \"/>\n",
       "<polyline clip-path=\"url(#clip7901)\" style=\"stroke:#000000; stroke-width:4; stroke-opacity:1; fill:none\" points=\"\n",
       "  174.775,1503.47 2321.26,1503.47 \n",
       "  \"/>\n",
       "<polyline clip-path=\"url(#clip7901)\" style=\"stroke:#000000; stroke-width:4; stroke-opacity:1; fill:none\" points=\"\n",
       "  174.775,1503.47 174.775,47.2441 \n",
       "  \"/>\n",
       "<polyline clip-path=\"url(#clip7901)\" style=\"stroke:#000000; stroke-width:4; stroke-opacity:1; fill:none\" points=\"\n",
       "  229.962,1503.47 229.962,1481.63 \n",
       "  \"/>\n",
       "<polyline clip-path=\"url(#clip7901)\" style=\"stroke:#000000; stroke-width:4; stroke-opacity:1; fill:none\" points=\"\n",
       "  1248.02,1503.47 1248.02,1481.63 \n",
       "  \"/>\n",
       "<polyline clip-path=\"url(#clip7901)\" style=\"stroke:#000000; stroke-width:4; stroke-opacity:1; fill:none\" points=\"\n",
       "  2263.29,1503.47 2263.29,1481.63 \n",
       "  \"/>\n",
       "<polyline clip-path=\"url(#clip7901)\" style=\"stroke:#000000; stroke-width:4; stroke-opacity:1; fill:none\" points=\"\n",
       "  174.775,1398.17 206.972,1398.17 \n",
       "  \"/>\n",
       "<polyline clip-path=\"url(#clip7901)\" style=\"stroke:#000000; stroke-width:4; stroke-opacity:1; fill:none\" points=\"\n",
       "  174.775,1197.26 206.972,1197.26 \n",
       "  \"/>\n",
       "<polyline clip-path=\"url(#clip7901)\" style=\"stroke:#000000; stroke-width:4; stroke-opacity:1; fill:none\" points=\"\n",
       "  174.775,996.357 206.972,996.357 \n",
       "  \"/>\n",
       "<polyline clip-path=\"url(#clip7901)\" style=\"stroke:#000000; stroke-width:4; stroke-opacity:1; fill:none\" points=\"\n",
       "  174.775,795.45 206.972,795.45 \n",
       "  \"/>\n",
       "<polyline clip-path=\"url(#clip7901)\" style=\"stroke:#000000; stroke-width:4; stroke-opacity:1; fill:none\" points=\"\n",
       "  174.775,594.543 206.972,594.543 \n",
       "  \"/>\n",
       "<polyline clip-path=\"url(#clip7901)\" style=\"stroke:#000000; stroke-width:4; stroke-opacity:1; fill:none\" points=\"\n",
       "  174.775,393.636 206.972,393.636 \n",
       "  \"/>\n",
       "<polyline clip-path=\"url(#clip7901)\" style=\"stroke:#000000; stroke-width:4; stroke-opacity:1; fill:none\" points=\"\n",
       "  174.775,192.729 206.972,192.729 \n",
       "  \"/>\n",
       "<g clip-path=\"url(#clip7901)\">\n",
       "<text style=\"fill:#000000; fill-opacity:1; font-family:Arial,Helvetica Neue,Helvetica,sans-serif; font-size:48px; text-anchor:middle;\" transform=\"rotate(0, 229.962, 1557.47)\" x=\"229.962\" y=\"1557.47\">2000-01-01</text>\n",
       "</g>\n",
       "<g clip-path=\"url(#clip7901)\">\n",
       "<text style=\"fill:#000000; fill-opacity:1; font-family:Arial,Helvetica Neue,Helvetica,sans-serif; font-size:48px; text-anchor:middle;\" transform=\"rotate(0, 1248.02, 1557.47)\" x=\"1248.02\" y=\"1557.47\">2001-01-01</text>\n",
       "</g>\n",
       "<g clip-path=\"url(#clip7901)\">\n",
       "<text style=\"fill:#000000; fill-opacity:1; font-family:Arial,Helvetica Neue,Helvetica,sans-serif; font-size:48px; text-anchor:middle;\" transform=\"rotate(0, 2263.29, 1557.47)\" x=\"2263.29\" y=\"1557.47\">2002-01-01</text>\n",
       "</g>\n",
       "<g clip-path=\"url(#clip7901)\">\n",
       "<text style=\"fill:#000000; fill-opacity:1; font-family:Arial,Helvetica Neue,Helvetica,sans-serif; font-size:48px; text-anchor:end;\" transform=\"rotate(0, 150.775, 1415.67)\" x=\"150.775\" y=\"1415.67\">20</text>\n",
       "</g>\n",
       "<g clip-path=\"url(#clip7901)\">\n",
       "<text style=\"fill:#000000; fill-opacity:1; font-family:Arial,Helvetica Neue,Helvetica,sans-serif; font-size:48px; text-anchor:end;\" transform=\"rotate(0, 150.775, 1214.76)\" x=\"150.775\" y=\"1214.76\">40</text>\n",
       "</g>\n",
       "<g clip-path=\"url(#clip7901)\">\n",
       "<text style=\"fill:#000000; fill-opacity:1; font-family:Arial,Helvetica Neue,Helvetica,sans-serif; font-size:48px; text-anchor:end;\" transform=\"rotate(0, 150.775, 1013.86)\" x=\"150.775\" y=\"1013.86\">60</text>\n",
       "</g>\n",
       "<g clip-path=\"url(#clip7901)\">\n",
       "<text style=\"fill:#000000; fill-opacity:1; font-family:Arial,Helvetica Neue,Helvetica,sans-serif; font-size:48px; text-anchor:end;\" transform=\"rotate(0, 150.775, 812.95)\" x=\"150.775\" y=\"812.95\">80</text>\n",
       "</g>\n",
       "<g clip-path=\"url(#clip7901)\">\n",
       "<text style=\"fill:#000000; fill-opacity:1; font-family:Arial,Helvetica Neue,Helvetica,sans-serif; font-size:48px; text-anchor:end;\" transform=\"rotate(0, 150.775, 612.043)\" x=\"150.775\" y=\"612.043\">100</text>\n",
       "</g>\n",
       "<g clip-path=\"url(#clip7901)\">\n",
       "<text style=\"fill:#000000; fill-opacity:1; font-family:Arial,Helvetica Neue,Helvetica,sans-serif; font-size:48px; text-anchor:end;\" transform=\"rotate(0, 150.775, 411.136)\" x=\"150.775\" y=\"411.136\">120</text>\n",
       "</g>\n",
       "<g clip-path=\"url(#clip7901)\">\n",
       "<text style=\"fill:#000000; fill-opacity:1; font-family:Arial,Helvetica Neue,Helvetica,sans-serif; font-size:48px; text-anchor:end;\" transform=\"rotate(0, 150.775, 210.229)\" x=\"150.775\" y=\"210.229\">140</text>\n",
       "</g>\n",
       "<polyline clip-path=\"url(#clip7903)\" style=\"stroke:#009af9; stroke-width:4; stroke-opacity:1; fill:none\" points=\"\n",
       "  235.525,545.522 238.306,511.669 241.088,556.873 243.869,533.065 246.651,629.702 254.996,574.452 257.777,635.327 260.559,644.77 263.341,649.993 266.122,594.543 \n",
       "  277.248,584.498 280.03,538.088 282.812,438.84 285.593,451.397 293.938,509.76 296.719,544.316 299.501,494.09 302.283,506.043 305.064,512.272 313.409,584.498 \n",
       "  316.19,554.362 318.972,587.009 321.754,591.429 324.535,554.964 332.88,514.18 335.661,453.908 338.443,452.703 341.225,465.159 344.006,457.725 352.351,501.021 \n",
       "  355.132,441.351 357.914,416.238 360.696,441.954 363.477,447.68 374.603,492.884 377.385,461.643 380.167,420.658 382.948,445.771 391.293,492.884 394.074,458.328 \n",
       "  396.856,408.101 399.638,323.319 402.419,344.615 410.764,333.364 413.545,328.944 416.327,364.705 419.109,384.796 421.89,376.659 430.235,372.34 433.016,381.381 \n",
       "  435.798,437.635 438.58,420.658 441.361,392.431 449.706,358.477 452.488,367.92 455.269,265.256 458.051,172.638 460.832,168.218 469.177,216.637 471.959,220.354 \n",
       "  474.74,198.957 477.522,257.421 480.303,318.899 488.648,237.933 491.43,266.864 494.211,328.643 496.993,286.954 499.774,320.807 508.119,276.206 510.901,358.477 \n",
       "  513.682,403.681 516.464,479.021 519.245,501.021 527.59,499.112 530.372,358.477 533.153,331.455 535.935,356.569 547.061,443.863 549.843,372.34 552.624,327.136 \n",
       "  555.406,421.863 558.187,322.113 566.532,344.615 569.314,360.989 572.095,404.284 574.877,442.657 577.658,485.953 586.003,473.095 588.785,490.975 591.566,553.759 \n",
       "  594.348,580.68 597.129,534.271 605.474,513.578 608.256,549.138 611.037,558.179 613.819,564.407 616.6,602.077 624.945,657.327 627.727,689.974 630.508,733.269 \n",
       "  633.29,710.065 636.071,715.087 647.198,718.905 649.979,726.338 652.761,777.871 655.542,657.327 663.887,661.746 666.669,675.207 669.45,658.632 672.232,618.451 \n",
       "  675.013,627.19 683.358,630.907 686.14,683.043 688.921,647.884 691.703,682.44 694.484,659.838 702.829,689.371 705.611,609.611 708.392,1091.79 711.174,1039.05 \n",
       "  713.955,1058.84 722.3,1071.7 725.082,1058.84 727.863,1063.56 730.645,1066.07 733.426,1068.58 741.771,1075.51 747.334,1064.16 750.116,1071.7 752.897,1070.79 \n",
       "  761.242,1055.73 764.024,1026.49 766.805,1015.24 769.587,1011.43 772.368,1025.29 780.713,1013.94 783.495,1011.43 786.276,1044.68 789.058,1046.58 791.839,1053.01 \n",
       "  800.184,1071.09 802.966,1093.7 805.747,1098.42 808.529,1096.81 811.31,1073.91 819.655,1105.25 822.437,1093.7 825.218,1106.86 828,1141.41 830.782,1102.13 \n",
       "  839.126,1118.11 841.908,1117.5 844.689,1115.7 847.471,1116.9 850.253,1128.55 858.597,1121.02 861.379,1124.44 864.16,1128.15 866.942,1113.08 869.724,1082.95 \n",
       "  878.068,1094.3 880.85,1090.58 883.631,1082.04 886.413,1049.9 889.195,1031.52 897.539,1023.98 900.321,1017.65 903.102,1006.4 905.884,1006.7 908.666,983.198 \n",
       "  919.792,969.637 922.573,982.495 925.355,1005.2 928.137,980.084 936.481,1009.52 939.263,1023.08 942.044,1029 944.826,1010.82 947.608,1018.96 955.952,1044.07 \n",
       "  958.734,998.869 961.515,1002.28 964.297,1011.43 967.079,1093.7 975.423,1069.19 978.205,1063.56 980.986,1079.23 983.768,1103.74 986.55,1315.9 994.894,1330.97 \n",
       "  997.676,1348.55 1000.46,1374.26 1003.24,1363.01 1006.02,1371.15 1014.37,1371.85 1017.15,1381.9 1019.93,1396.97 1022.71,1395.06 1025.49,1395.66 1033.84,1374.97 \n",
       "  1036.62,1381.19 1039.4,1403.8 1042.18,1406.61 1044.96,1407.61 1053.31,1395.46 1056.09,1391.24 1058.87,1407.61 1061.65,1410.13 1064.43,1409.42 1072.78,1407.01 \n",
       "  1075.56,1400.68 1078.34,1403.8 1081.12,1386.92 1083.9,1368.04 1092.25,1373.66 1095.03,1383.1 1097.81,1384.31 1100.59,1399.38 1103.38,1404.6 1111.72,1410.73 \n",
       "  1114.5,1398.77 1117.28,1397.87 1120.07,1403.19 1122.85,1406.31 1131.19,1412.34 1133.97,1406.31 1136.75,1410.13 1142.32,1409.62 1150.66,1399.38 1153.44,1411.33 \n",
       "  1156.23,1417.36 1159.01,1431.42 1161.79,1428.31 1170.13,1426.4 1172.92,1428.91 1175.7,1452.22 1178.48,1454.02 1181.26,1450.31 1189.6,1446.49 1192.39,1445.89 \n",
       "  1195.17,1442.77 1197.95,1448.1 1200.73,1452.82 1209.08,1452.82 1211.86,1454.63 1214.64,1460.65 1217.42,1455.93 1220.2,1457.24 1231.33,1449.6 1234.11,1455.03 \n",
       "  1236.89,1454.63 1239.67,1451.51 1250.8,1449.6 1253.58,1453.42 1256.36,1416.86 1259.14,1428.91 1267.49,1428.91 1270.27,1430.22 1273.05,1431.42 1275.83,1435.84 \n",
       "  1278.61,1419.47 1289.74,1423.89 1292.52,1422.68 1295.3,1420.17 1298.09,1403.8 1306.43,1407.61 1309.21,1405.1 1311.99,1391.94 1314.78,1392.55 1317.56,1403.19 \n",
       "  1325.9,1402.59 1328.68,1382.5 1331.46,1383.1 1334.25,1391.24 1337.03,1386.92 1345.37,1393.15 1348.15,1396.56 1350.94,1391.54 1353.72,1392.55 1356.5,1393.15 \n",
       "  1364.84,1407.61 1367.63,1398.77 1370.41,1406.31 1373.19,1401.29 1375.97,1408.22 1387.1,1406.31 1389.88,1415.75 1392.66,1407.61 1395.44,1412.03 1403.79,1407.61 \n",
       "  1406.57,1405.4 1409.35,1404.4 1412.13,1420.17 1414.91,1415.15 1423.26,1404.4 1426.04,1390.94 1428.82,1385.01 1431.6,1391.24 1434.38,1391.94 1442.73,1401.29 \n",
       "  1445.51,1409.42 1448.29,1413.24 1451.07,1389.33 1453.85,1408.22 1462.2,1400.68 1464.98,1390.94 1467.76,1400.38 1470.54,1394.35 1473.32,1377.48 1481.67,1366.73 \n",
       "  1484.45,1378.68 1487.23,1377.28 1490.01,1380.39 1492.8,1372.56 1501.14,1377.18 1503.92,1384.51 1506.7,1400.58 1509.49,1392.14 1512.27,1390.14 1520.61,1391.24 \n",
       "  1523.39,1389.13 1526.17,1368.24 1528.96,1383.91 1540.08,1377.18 1542.86,1386.12 1545.65,1382.4 1548.43,1342.42 1551.21,1348.65 1559.55,1354.57 1562.34,1354.67 \n",
       "  1565.12,1355.88 1567.9,1346.24 1570.68,1345.94 1579.02,1330.87 1581.81,1343.83 1584.59,1334.48 1587.37,1338.2 1590.15,1355.58 1598.5,1341.72 1601.28,1344.43 \n",
       "  1604.06,1356.58 1606.84,1355.88 1609.62,1367.93 1617.97,1369.14 1620.75,1364.32 1623.53,1365.42 1626.31,1355.68 1629.09,1364.42 1637.44,1361.71 1640.22,1357.99 \n",
       "  1643,1360.5 1645.78,1365.12 1648.56,1366.03 1659.69,1374.87 1662.47,1390.54 1665.25,1400.18 1668.04,1396.87 1676.38,1387.32 1679.16,1390.14 1681.94,1388.83 \n",
       "  1684.72,1391.04 1687.51,1381.6 1695.85,1387.62 1698.63,1400.48 1701.41,1383.91 1704.2,1397.77 1706.98,1397.17 1715.32,1394.05 1718.1,1389.63 1720.89,1398.17 \n",
       "  1723.67,1382.6 1726.45,1373.26 1734.79,1373.06 1737.57,1364.62 1740.36,1359.7 1743.14,1367.53 1745.92,1361.41 1754.26,1361.61 1757.05,1362.91 1762.61,1362.01 \n",
       "  1765.39,1370.45 1773.73,1377.18 1776.52,1368.54 1779.3,1387.82 1782.08,1365.02 1784.86,1356.68 1793.21,1349.15 1795.99,1358.19 1798.77,1380.29 1801.55,1385.82 \n",
       "  1804.33,1401.18 1812.68,1397.27 1815.46,1404.3 1818.24,1407.01 1821.02,1413.44 1823.8,1410.73 1832.15,1407.01 1834.93,1405.5 1837.71,1408.12 1840.49,1401.69 \n",
       "  1843.27,1399.28 1851.62,1407.81 1854.4,1404.9 1857.18,1405.6 1859.96,1408.62 1862.75,1407.81 1871.09,1407.21 1873.87,1406.21 1876.65,1410.63 1879.43,1415.55 \n",
       "  1882.22,1418.26 1890.56,1416.86 1893.34,1416.86 1896.12,1418.86 1898.91,1416.25 1901.69,1418.26 1910.03,1412.23 1912.81,1409.22 1915.6,1413.84 1918.38,1420.87 \n",
       "  1921.16,1420.97 1932.28,1413.24 1935.07,1415.85 1937.85,1414.24 1940.63,1423.28 1948.97,1428.31 1968.45,1438.35 1971.23,1429.31 1974.01,1433.33 1976.79,1435.44 \n",
       "  1979.57,1450.41 1987.92,1437.25 1990.7,1436.95 1993.48,1440.26 1996.26,1445.89 1999.04,1441.27 2007.39,1443.48 2010.17,1444.08 2012.95,1448.9 2015.73,1444.88 \n",
       "  2018.51,1444.38 2026.86,1442.67 2029.64,1437.85 2032.42,1437.35 2035.2,1429.11 2037.98,1425.19 2046.33,1418.76 2049.11,1417.36 2051.89,1414.85 2054.67,1425.39 \n",
       "  2057.46,1418.86 2065.8,1416.15 2068.58,1407.01 2071.36,1417.66 2074.14,1413.84 2076.93,1409.62 2085.27,1412.54 2088.05,1424.49 2090.83,1420.97 2093.62,1421.78 \n",
       "  2096.4,1413.04 2104.74,1409.82 2107.52,1408.62 2110.31,1403.6 2113.09,1401.89 2115.87,1412.23 2124.21,1411.63 2126.99,1407.41 2129.78,1402.29 2132.56,1403.7 \n",
       "  2135.34,1405.5 2143.68,1408.22 2146.47,1399.98 2149.25,1402.09 2154.81,1401.08 2163.16,1398.77 2165.94,1386.12 2168.72,1389.63 2171.5,1392.14 2174.28,1393.45 \n",
       "  2182.63,1387.52 2185.41,1387.62 2188.19,1374.46 2190.97,1363.21 2193.75,1373.46 2202.1,1375.17 2204.88,1371.35 2207.66,1379.39 2210.44,1383.2 2213.22,1390.84 \n",
       "  2221.57,1394.15 2224.35,1389.23 2227.13,1392.34 2229.91,1384.11 2232.69,1388.03 2241.04,1389.13 2246.6,1384.61 2249.38,1382.3 2252.17,1378.38 2260.51,1372.96 \n",
       "  \n",
       "  \"/>\n",
       "<polyline clip-path=\"url(#clip7903)\" style=\"stroke:#e26f46; stroke-width:4; stroke-opacity:1; fill:none\" points=\"\n",
       "  235.525,468.976 238.306,487.861 241.088,488.464 243.869,524.226 246.651,584.498 254.996,571.941 257.777,600.771 260.559,639.747 263.341,607.1 266.122,571.941 \n",
       "  277.248,534.271 280.03,506.646 282.812,378.568 285.593,451.397 293.938,466.465 296.719,462.748 299.501,451.999 302.283,463.953 305.064,485.25 313.409,555.567 \n",
       "  316.19,544.316 318.972,573.247 321.754,551.85 324.535,494.09 332.88,451.397 335.661,432.612 338.443,422.567 341.225,455.114 344.006,452.703 352.351,435.023 \n",
       "  355.132,394.239 357.914,412.521 360.696,438.84 363.477,440.046 374.603,424.375 377.385,403.681 380.167,402.476 382.948,423.772 391.293,443.863 394.074,421.261 \n",
       "  396.856,272.489 399.638,313.876 402.419,310.963 410.764,302.022 413.545,318.899 416.327,354.057 419.109,343.409 421.89,313.876 430.235,328.341 433.016,350.943 \n",
       "  435.798,391.125 438.58,373.545 441.361,343.409 449.706,330.853 452.488,225.376 455.269,148.73 458.051,88.4582 460.832,153.15 469.177,145.014 471.959,172.638 \n",
       "  474.74,198.354 477.522,215.934 480.303,220.354 488.648,197.752 491.43,263.046 494.211,264.252 496.993,247.978 499.774,274.297 508.119,265.558 510.901,344.615 \n",
       "  513.682,403.681 516.464,393.636 519.245,413.727 527.59,354.057 530.372,324.524 533.153,290.671 535.935,345.921 547.061,388.613 549.843,305.739 552.624,313.273 \n",
       "  555.406,323.319 558.187,318.296 566.532,342.204 569.314,330.853 572.095,381.079 574.877,441.351 577.658,446.374 586.003,457.022 588.785,481.533 591.566,544.316 \n",
       "  594.348,551.85 597.129,489.067 605.474,513.578 608.256,503.532 611.037,557.476 613.819,544.919 616.6,602.077 624.945,657.327 627.727,661.043 630.508,697.508 \n",
       "  633.29,668.276 636.071,696.202 647.198,713.882 649.979,682.44 652.761,699.417 655.542,597.054 663.887,642.258 666.669,627.19 669.45,624.679 672.232,609.611 \n",
       "  675.013,615.236 683.358,630.305 686.14,647.884 688.921,632.213 691.703,661.043 694.484,657.327 702.829,615.839 705.611,554.964 708.392,1027.1 711.174,1020.27 \n",
       "  713.955,1050.4 722.3,1049.1 725.082,1041.56 727.863,1042.77 730.645,1057.23 733.426,1047.19 741.771,1053.52 747.334,1044.68 750.116,1067.28 752.897,1048.49 \n",
       "  761.242,1013.94 764.024,1003.89 766.805,1007.01 769.587,990.129 772.368,1006.4 780.713,1008.31 783.495,1007.61 786.276,1028.4 789.058,1025.89 791.839,1040.36 \n",
       "  800.184,1067.88 802.966,1090.58 805.747,1084.25 808.529,1064.16 811.31,1071.7 819.655,1080.54 822.437,1085.16 825.218,1097.41 828,1116.3 830.782,1084.25 \n",
       "  839.126,1106.25 841.908,1116.9 844.689,1112.48 847.471,1112.48 850.253,1116.9 858.597,1120.02 861.379,1117.5 864.16,1106.86 866.942,1072.3 869.724,1078.63 \n",
       "  878.068,1081.14 880.85,1068.58 883.631,1049.1 886.413,1030.31 889.195,1021.47 897.539,1006.4 900.321,1001.98 903.102,996.357 905.884,981.289 908.666,959.993 \n",
       "  919.792,954.97 922.573,972.449 925.355,970.641 928.137,980.084 936.481,992.54 939.263,995.754 942.044,1001.38 944.826,1000.17 947.608,1014.54 955.952,988.823 \n",
       "  958.734,991.335 961.515,981.892 964.297,1000.17 967.079,1072.3 975.423,1041.56 978.205,1049.1 980.986,1069.19 983.768,1058.54 986.55,1307.76 994.894,1330.37 \n",
       "  997.676,1347.94 1000.46,1360.5 1003.24,1352.97 1006.02,1368.64 1014.37,1369.24 1017.15,1373.66 1019.93,1388.13 1022.71,1390.03 1025.49,1376.88 1033.84,1365.52 \n",
       "  1036.62,1378.68 1039.4,1387.52 1042.18,1400.08 1044.96,1394.35 1053.31,1392.55 1056.09,1389.33 1058.87,1406.31 1061.65,1409.42 1064.43,1406.31 1072.78,1398.77 \n",
       "  1075.56,1395.66 1078.34,1389.33 1081.12,1373.66 1083.9,1368.04 1092.25,1371.85 1095.03,1379.99 1097.81,1383.71 1100.59,1393.15 1103.38,1399.38 1111.72,1398.17 \n",
       "  1114.5,1393.15 1117.28,1396.26 1120.07,1400.08 1122.85,1405.71 1131.19,1403.19 1133.97,1403.19 1136.75,1407.01 1142.32,1403.19 1150.66,1398.77 1153.44,1408.22 \n",
       "  1156.23,1415.15 1159.01,1428.31 1161.79,1423.28 1170.13,1426.4 1172.92,1423.89 1175.7,1448.4 1178.48,1449.6 1181.26,1445.28 1189.6,1444.58 1192.39,1438.35 \n",
       "  1195.17,1442.77 1197.95,1445.89 1200.73,1451.51 1209.08,1452.22 1211.86,1445.89 1214.64,1452.22 1217.42,1448.4 1220.2,1448.4 1231.33,1448.4 1234.11,1450.31 \n",
       "  1236.89,1449 1239.67,1448.4 1250.8,1445.89 1253.58,1431.42 1256.36,1413.24 1259.14,1424.49 1267.49,1428.51 1270.27,1421.88 1273.05,1428.31 1275.83,1413.24 \n",
       "  1278.61,1418.26 1289.74,1415.75 1292.52,1422.68 1295.3,1410.73 1298.09,1402.59 1306.43,1401.99 1309.21,1388.73 1311.99,1391.24 1314.78,1392.55 1317.56,1400.08 \n",
       "  1325.9,1380.59 1328.68,1378.08 1331.46,1373.06 1334.25,1383.1 1337.03,1378.68 1345.37,1392.55 1348.15,1384.21 1350.94,1389.33 1353.72,1387.52 1356.5,1390.03 \n",
       "  1364.84,1398.17 1367.63,1393.75 1370.41,1401.99 1373.19,1392.55 1375.97,1403.19 1387.1,1403.8 1389.88,1398.77 1392.66,1404.4 1395.44,1409.42 1403.79,1401.29 \n",
       "  1406.57,1403.8 1409.35,1403.8 1412.13,1410.73 1414.91,1393.75 1423.26,1393.15 1426.04,1377.48 1428.82,1381.9 1431.6,1386.92 1434.38,1391.24 1442.73,1399.38 \n",
       "  1445.51,1402.59 1448.29,1393.15 1451.07,1384.31 1453.85,1395.06 1462.2,1391.94 1464.98,1388.73 1467.76,1389.33 1470.54,1380.59 1473.32,1362.41 1481.67,1360.5 \n",
       "  1484.45,1367.53 1487.23,1373.06 1490.01,1363.51 1492.8,1370.85 1501.14,1371.45 1503.92,1384.11 1506.7,1395.66 1509.49,1373.06 1512.27,1387.72 1520.61,1384.71 \n",
       "  1523.39,1371.05 1526.17,1368.04 1528.96,1367.83 1540.08,1374.06 1542.86,1386.02 1545.65,1357.19 1548.43,1340.41 1551.21,1341.62 1559.55,1347.94 1562.34,1350.46 \n",
       "  1565.12,1349.35 1567.9,1336.89 1570.68,1334.99 1579.02,1326.65 1581.81,1332.88 1584.59,1330.87 1587.37,1335.39 1590.15,1339.41 1598.5,1340.31 1601.28,1343.42 \n",
       "  1604.06,1352.46 1606.84,1352.97 1609.62,1363.11 1617.97,1361.2 1620.75,1342.92 1623.53,1352.97 1626.31,1354.67 1629.09,1361.61 1637.44,1358.89 1640.22,1356.68 \n",
       "  1643,1360.5 1645.78,1365.02 1648.56,1365.12 1659.69,1373.06 1662.47,1390.54 1665.25,1395.76 1668.04,1387.22 1676.38,1387.02 1679.16,1387.12 1681.94,1388.83 \n",
       "  1684.72,1381.09 1687.51,1381.6 1695.85,1387.42 1698.63,1391.24 1701.41,1380.79 1704.2,1393.65 1706.98,1390.64 1715.32,1389.63 1718.1,1384.11 1720.89,1379.59 \n",
       "  1723.67,1368.04 1726.45,1368.04 1734.79,1357.99 1737.57,1360.3 1740.36,1357.99 1743.14,1358.89 1745.92,1346.94 1754.26,1355.68 1757.05,1356.18 1762.61,1360.3 \n",
       "  1765.39,1368.44 1773.73,1368.04 1776.52,1367.33 1779.3,1372.56 1782.08,1349.85 1784.86,1347.84 1793.21,1346.94 1795.99,1345.73 1798.77,1370.25 1801.55,1383.91 \n",
       "  1804.33,1397.57 1812.68,1393.15 1815.46,1398.97 1818.24,1405.2 1821.02,1410.23 1823.8,1405.71 1832.15,1404.6 1834.93,1404 1837.71,1400.38 1840.49,1399.48 \n",
       "  1843.27,1399.18 1851.62,1401.59 1854.4,1401.49 1857.18,1401.18 1859.96,1406.71 1862.75,1405 1871.09,1404.9 1873.87,1404.6 1876.65,1408.82 1879.43,1410.73 \n",
       "  1882.22,1413.74 1890.56,1415.95 1893.34,1416.86 1896.12,1415.75 1898.91,1414.85 1901.69,1412.03 1910.03,1405.2 1912.81,1406.81 1915.6,1409.92 1918.38,1416.45 \n",
       "  1921.16,1412.23 1932.28,1407.41 1935.07,1408.72 1937.85,1408.92 1940.63,1417.26 1948.97,1423.28 1968.45,1427.6 1971.23,1421.07 1974.01,1427.3 1976.79,1428.81 \n",
       "  1979.57,1435.84 1987.92,1429.91 1990.7,1436.14 1993.48,1439.46 1996.26,1440.86 1999.04,1439.26 2007.39,1438.45 2010.17,1440.06 2012.95,1444.78 2015.73,1435.84 \n",
       "  2018.51,1436.85 2026.86,1434.84 2029.64,1436.34 2032.42,1429.81 2035.2,1420.87 2037.98,1417.46 2046.33,1414.44 2049.11,1416.25 2051.89,1414.14 2054.67,1415.95 \n",
       "  2057.46,1414.24 2065.8,1407.51 2068.58,1404 2071.36,1407.31 2074.14,1405.71 2076.93,1405.71 2085.27,1411.53 2088.05,1418.26 2090.83,1414.24 2093.62,1410.43 \n",
       "  2096.4,1409.62 2104.74,1405.71 2107.52,1401.99 2110.31,1396.87 2113.09,1399.28 2115.87,1405.71 2124.21,1406.51 2126.99,1404.3 2129.78,1399.18 2132.56,1399.18 \n",
       "  2135.34,1405.3 2143.68,1397.67 2146.47,1396.16 2149.25,1400.18 2154.81,1398.67 2163.16,1382.6 2165.94,1382.9 2168.72,1386.02 2171.5,1391.14 2174.28,1383.71 \n",
       "  2182.63,1385.31 2185.41,1372.46 2188.19,1357.69 2190.97,1363.01 2193.75,1370.95 2202.1,1368.14 2204.88,1369.54 2207.66,1378.88 2210.44,1382.6 2213.22,1389.83 \n",
       "  2221.57,1388.13 2224.35,1384.81 2227.13,1381.3 2229.91,1383.4 2232.69,1382.7 2241.04,1383.61 2246.6,1375.07 2249.38,1375.57 2252.17,1368.04 2260.51,1371.45 \n",
       "  \n",
       "  \"/>\n",
       "<polyline clip-path=\"url(#clip7903)\" style=\"stroke:#3da44d; stroke-width:4; stroke-opacity:1; fill:none\" points=\"\n",
       "  235.525,577.566 238.306,582.589 241.088,564.407 243.869,644.77 246.651,639.747 254.996,647.281 257.777,689.974 260.559,730.155 263.341,669.883 266.122,600.771 \n",
       "  277.248,590.123 280.03,560.59 282.812,458.931 285.593,492.181 293.938,543.111 296.719,570.635 299.501,496.601 302.283,524.226 305.064,588.315 313.409,649.792 \n",
       "  316.19,594.543 318.972,624.679 321.754,592.032 324.535,558.179 332.88,534.874 335.661,481.533 338.443,469.579 341.225,494.09 344.006,511.669 352.351,507.952 \n",
       "  355.132,441.954 357.914,472.793 360.696,462.748 363.477,485.25 374.603,527.34 377.385,484.044 380.167,476.51 382.948,492.884 391.293,510.363 394.074,468.373 \n",
       "  396.856,408.704 399.638,386.705 402.419,393.636 410.764,343.409 413.545,382.385 416.327,408.101 419.109,411.215 421.89,383.591 430.235,398.659 433.016,453.908 \n",
       "  435.798,452.703 438.58,448.885 441.361,397.453 449.706,369.728 452.488,377.363 455.269,277.512 458.051,192.729 460.832,237.933 469.177,224.07 471.959,221.66 \n",
       "  474.74,254.709 477.522,338.989 480.303,333.364 488.648,298.808 491.43,426.283 494.211,353.455 496.993,360.989 499.774,338.387 508.119,345.921 510.901,413.124 \n",
       "  513.682,545.522 516.464,509.158 519.245,504.135 527.59,503.532 530.372,399.864 533.153,396.147 535.935,423.169 547.061,446.374 549.843,372.943 552.624,393.636 \n",
       "  555.406,427.991 558.187,380.477 566.532,374.751 569.314,418.749 572.095,477.816 574.877,488.464 577.658,486.857 586.003,494.09 588.785,545.522 591.566,607.1 \n",
       "  594.348,604.588 597.129,546.627 605.474,593.338 608.256,566.918 611.037,590.726 613.819,588.315 616.6,661.043 624.945,735.178 627.727,738.995 630.508,765.314 \n",
       "  633.29,735.178 636.071,742.712 647.198,777.871 649.979,757.177 652.761,791.633 655.542,705.042 663.887,698.111 666.669,691.883 669.45,678.723 672.232,663.655 \n",
       "  675.013,650.998 683.358,686.157 686.14,713.179 688.921,693.791 691.703,705.042 694.484,704.439 702.829,696.905 705.611,610.817 708.392,1093.7 711.174,1061.05 \n",
       "  713.955,1088.67 722.3,1075.51 725.082,1080.54 727.863,1081.74 730.645,1086.16 733.426,1079.83 741.771,1075.51 747.334,1089.28 750.116,1100.63 752.897,1075.51 \n",
       "  761.242,1059.14 764.024,1042.16 766.805,1032.72 769.587,1049.1 772.368,1027.7 780.713,1025.29 783.495,1027.7 786.276,1079.23 789.058,1055.42 791.839,1067.28 \n",
       "  800.184,1121.92 802.966,1106.25 805.747,1104.34 808.529,1098.02 811.31,1128.15 819.655,1109.37 822.437,1104.34 825.218,1125.04 828,1154.57 830.782,1133.88 \n",
       "  839.126,1125.04 841.908,1133.88 844.689,1124.44 847.471,1123.13 850.253,1141.41 858.597,1133.88 861.379,1131.97 864.16,1128.86 866.942,1113.79 869.724,1098.02 \n",
       "  878.068,1100.63 880.85,1092.99 883.631,1086.16 886.413,1062.86 889.195,1032.72 897.539,1025.89 900.321,1019.56 903.102,1009.42 905.884,1007.01 908.666,985.106 \n",
       "  919.792,973.755 922.573,1018.96 925.355,1013.94 928.137,1011.43 936.481,1015.24 939.263,1026.49 942.044,1029 944.826,1028.4 947.608,1054.12 955.952,1045.98 \n",
       "  958.734,1010.82 961.515,1010.82 964.297,1044.07 967.079,1096.81 975.423,1076.12 978.205,1082.95 980.986,1114.39 983.768,1115.7 986.55,1344.13 994.894,1363.01 \n",
       "  997.676,1376.17 1000.46,1379.29 1003.24,1378.08 1006.02,1388.13 1014.37,1386.92 1017.15,1393.15 1019.93,1407.01 1022.71,1403.19 1025.49,1398.17 1033.84,1384.31 \n",
       "  1036.62,1401.29 1039.4,1410.73 1042.18,1415.15 1044.96,1408.82 1053.31,1403.8 1056.09,1410.13 1058.87,1413.84 1061.65,1423.28 1064.43,1419.47 1072.78,1410.73 \n",
       "  1075.56,1405.71 1078.34,1403.8 1081.12,1387.52 1083.9,1378.68 1092.25,1389.33 1095.03,1390.03 1097.81,1400.08 1100.59,1407.61 1103.38,1407.61 1111.72,1415.75 \n",
       "  1114.5,1402.59 1117.28,1405.71 1120.07,1409.42 1122.85,1415.75 1131.19,1415.75 1133.97,1410.73 1136.75,1414.44 1142.32,1410.13 1150.66,1413.24 1153.44,1418.86 \n",
       "  1156.23,1425.8 1159.01,1437.15 1161.79,1430.22 1170.13,1433.93 1172.92,1434.54 1175.7,1458.44 1178.48,1458.44 1181.26,1454.02 1189.6,1449.6 1192.39,1448.4 \n",
       "  1195.17,1449.6 1197.95,1454.02 1200.73,1458.44 1209.08,1459.05 1211.86,1458.44 1214.64,1462.26 1217.42,1459.65 1220.2,1457.24 1231.33,1455.93 1234.11,1456.53 \n",
       "  1236.89,1455.33 1239.67,1453.42 1250.8,1452.82 1253.58,1454.02 1256.36,1430.22 1259.14,1437.75 1267.49,1438.96 1270.27,1432.73 1273.05,1437.75 1275.83,1435.84 \n",
       "  1278.61,1427.7 1289.74,1428.31 1292.52,1433.33 1295.3,1422.08 1298.09,1411.33 1306.43,1413.84 1309.21,1407.61 1311.99,1402.59 1314.78,1400.68 1317.56,1407.61 \n",
       "  1325.9,1402.59 1328.68,1389.33 1331.46,1383.71 1334.25,1393.15 1337.03,1393.15 1345.37,1400.68 1348.15,1398.17 1350.94,1400.08 1353.72,1396.26 1356.5,1411.33 \n",
       "  1364.84,1410.13 1367.63,1408.22 1370.41,1413.24 1373.19,1401.29 1375.97,1410.73 1387.1,1416.35 1389.88,1415.75 1392.66,1418.26 1395.44,1415.75 1403.79,1412.64 \n",
       "  1406.57,1411.33 1409.35,1417.06 1412.13,1426.4 1414.91,1415.75 1423.26,1405.71 1426.04,1391.24 1428.82,1390.64 1431.6,1393.75 1434.38,1398.17 1442.73,1417.06 \n",
       "  1445.51,1416.35 1448.29,1413.84 1451.07,1401.29 1453.85,1409.42 1462.2,1403.19 1464.98,1401.29 1467.76,1404.4 1470.54,1396.26 1473.32,1378.08 1481.67,1386.82 \n",
       "  1484.45,1379.09 1487.23,1383.1 1490.01,1383.1 1492.8,1384.71 1501.14,1384.11 1503.92,1396.87 1506.7,1410.73 1509.49,1398.17 1512.27,1399.18 1520.61,1397.57 \n",
       "  1523.39,1390.34 1526.17,1385.31 1528.96,1386.62 1540.08,1389.53 1542.86,1402.19 1545.65,1387.32 1548.43,1362.01 1551.21,1351.96 1559.55,1357.99 1562.34,1362.91 \n",
       "  1565.12,1362.31 1567.9,1351.16 1570.68,1350.46 1579.02,1349.25 1581.81,1345.94 1584.59,1340.31 1587.37,1350.66 1590.15,1358.39 1598.5,1349.55 1601.28,1358.49 \n",
       "  1604.06,1361.3 1606.84,1368.54 1609.62,1370.45 1617.97,1370.55 1620.75,1367.63 1623.53,1369.54 1626.31,1365.52 1629.09,1366.83 1637.44,1367.53 1640.22,1364.02 \n",
       "  1643,1369.44 1645.78,1371.85 1648.56,1373.06 1659.69,1390.03 1662.47,1405.2 1665.25,1403.29 1668.04,1398.37 1676.38,1393.55 1679.16,1394.66 1681.94,1394.86 \n",
       "  1684.72,1393.65 1687.51,1391.04 1695.85,1398.67 1698.63,1400.58 1701.41,1397.57 1704.2,1400.48 1706.98,1404.7 1715.32,1398.17 1718.1,1398.07 1720.89,1398.37 \n",
       "  1723.67,1387.12 1726.45,1380.49 1734.79,1373.56 1737.57,1367.93 1740.36,1373.06 1743.14,1368.64 1745.92,1366.03 1754.26,1366.63 1757.05,1363.01 1762.61,1367.93 \n",
       "  1765.39,1380.89 1773.73,1381.3 1776.52,1389.73 1779.3,1388.13 1782.08,1365.02 1784.86,1359.6 1793.21,1358.89 1795.99,1367.93 1798.77,1393.95 1801.55,1400.68 \n",
       "  1804.33,1403.29 1812.68,1403.09 1815.46,1410.93 1818.24,1418.56 1821.02,1419.77 1823.8,1413.24 1832.15,1413.14 1834.93,1413.14 1837.71,1408.72 1840.49,1405.6 \n",
       "  1843.27,1408.22 1851.62,1408.22 1854.4,1408.42 1857.18,1412.84 1859.96,1411.03 1862.75,1412.34 1871.09,1410.63 1873.87,1411.53 1876.65,1416.25 1879.43,1418.56 \n",
       "  1882.22,1418.36 1890.56,1420.17 1893.34,1421.28 1896.12,1422.18 1898.91,1422.48 1901.69,1421.78 1910.03,1416.65 1912.81,1414.24 1915.6,1419.97 1918.38,1425.49 \n",
       "  1921.16,1421.78 1932.28,1416.45 1935.07,1417.06 1937.85,1421.78 1940.63,1426.3 1948.97,1429.11 1968.45,1441.06 1971.23,1436.65 1974.01,1442.37 1976.79,1443.38 \n",
       "  1979.57,1451.61 1987.92,1438.85 1990.7,1444.88 1993.48,1449.1 1996.26,1446.39 1999.04,1444.48 2007.39,1446.09 2010.17,1449.6 2012.95,1450.11 2015.73,1448.5 \n",
       "  2018.51,1448.5 2026.86,1443.38 2029.64,1442.07 2032.42,1438.85 2035.2,1429.81 2037.98,1429.71 2046.33,1418.76 2049.11,1420.57 2051.89,1428.71 2054.67,1425.39 \n",
       "  2057.46,1419.47 2065.8,1417.36 2068.58,1419.57 2071.36,1420.77 2074.14,1416.65 2076.93,1412.03 2085.27,1422.28 2088.05,1427.7 2090.83,1423.89 2093.62,1425.8 \n",
       "  2096.4,1416.65 2104.74,1412.13 2107.52,1412.94 2110.31,1404.9 2113.09,1412.54 2115.87,1412.74 2124.21,1418.66 2126.99,1411.13 2129.78,1406.71 2132.56,1405.91 \n",
       "  2135.34,1414.24 2143.68,1408.62 2146.47,1403.19 2149.25,1405.6 2154.81,1402.49 2163.16,1399.38 2165.94,1393.15 2168.72,1394.05 2171.5,1396.26 2174.28,1395.66 \n",
       "  2182.63,1392.14 2185.41,1390.94 2188.19,1376.37 2190.97,1376.67 2193.75,1378.08 2202.1,1375.77 2204.88,1381.6 2207.66,1385.61 2210.44,1393.15 2213.22,1397.27 \n",
       "  2221.57,1396.26 2224.35,1395.96 2227.13,1393.45 2229.91,1391.94 2232.69,1390.14 2241.04,1389.13 2246.6,1386.72 2249.38,1382.3 2252.17,1378.48 2260.51,1379.79 \n",
       "  \n",
       "  \"/>\n",
       "<polyline clip-path=\"url(#clip7903)\" style=\"stroke:#c271d2; stroke-width:4; stroke-opacity:1; fill:none\" points=\"\n",
       "  235.525,474.602 238.306,569.43 241.088,554.362 243.869,644.77 246.651,599.566 254.996,617.145 257.777,667.372 260.559,723.224 263.341,627.19 266.122,590.123 \n",
       "  277.248,554.964 280.03,528.646 282.812,458.931 285.593,480.93 293.938,531.76 296.719,471.487 299.501,492.181 302.283,494.09 305.064,578.27 313.409,556.873 \n",
       "  316.19,592.032 318.972,606.497 321.754,561.293 324.535,514.18 332.88,453.305 335.661,445.068 338.443,467.771 341.225,458.931 344.006,506.646 352.351,435.726 \n",
       "  355.132,403.681 357.914,452.703 360.696,445.068 363.477,481.533 374.603,455.817 377.385,431.306 380.167,441.854 382.948,490.272 391.293,461.442 394.074,447.68 \n",
       "  396.856,290.068 399.638,373.545 402.419,313.273 410.764,336.478 413.545,364.705 416.327,373.545 419.109,371.034 421.89,335.875 430.235,380.477 433.016,451.397 \n",
       "  435.798,431.306 438.58,377.965 441.361,343.409 449.706,363.5 452.488,243.558 455.269,150.639 458.051,179.57 460.832,205.888 469.177,197.149 471.959,201.569 \n",
       "  474.74,233.513 477.522,335.875 480.303,234.819 488.648,259.932 491.43,320.204 494.211,289.365 496.993,341.501 499.774,275.603 508.119,343.409 510.901,399.261 \n",
       "  513.682,501.624 516.464,455.817 519.245,475.204 527.59,354.66 530.372,324.524 533.153,382.385 535.935,404.887 547.061,388.613 549.843,310.159 552.624,380.477 \n",
       "  555.406,325.83 558.187,352.852 566.532,350.341 569.314,414.932 572.095,443.26 574.877,487.158 577.658,462.748 586.003,492.884 588.785,539.896 591.566,601.474 \n",
       "  594.348,566.316 597.129,517.997 605.474,584.498 608.256,537.385 611.037,580.68 613.819,587.009 616.6,654.815 624.945,695.599 627.727,737.087 630.508,718.201 \n",
       "  633.29,722.42 636.071,731.361 647.198,719.507 649.979,755.269 652.761,703.836 655.542,669.28 663.887,681.837 666.669,666.066 669.45,629.099 672.232,646.678 \n",
       "  675.013,637.236 683.358,683.043 686.14,649.792 688.921,690.577 691.703,671.089 694.484,683.043 702.829,628.496 705.611,581.986 708.392,1040.36 711.174,1059.14 \n",
       "  713.955,1079.83 722.3,1055.42 725.082,1079.23 727.863,1052.21 730.645,1084.25 733.426,1072.9 741.771,1063.56 747.334,1080.54 750.116,1078.63 752.897,1052.21 \n",
       "  761.242,1025.29 764.024,1027.1 766.805,1007.61 769.587,1031.52 772.368,1019.56 780.713,1013.33 783.495,1023.98 786.276,1069.79 789.058,1045.38 791.839,1061.05 \n",
       "  800.184,1109.97 802.966,1096.21 805.747,1096.21 808.529,1076.72 811.31,1113.79 819.655,1088.67 822.437,1103.74 825.218,1124.44 828,1116.9 830.782,1123.13 \n",
       "  839.126,1117.5 841.908,1129.46 844.689,1121.92 847.471,1121.32 850.253,1120.02 858.597,1126.34 861.379,1130.06 864.16,1111.88 866.942,1082.35 869.724,1096.81 \n",
       "  878.068,1091.79 880.85,1079.83 883.631,1053.52 886.413,1035.43 889.195,1028.4 897.539,1015.85 900.321,1004.49 903.102,1001.38 905.884,986.915 908.666,961.801 \n",
       "  919.792,971.847 922.573,1012.03 925.355,976.266 928.137,1007.61 936.481,1012.03 939.263,1018.96 942.044,1016.45 944.826,1027.9 947.608,1044.27 955.952,989.727 \n",
       "  958.734,996.96 961.515,985.81 964.297,1029.61 967.079,1074.81 975.423,1061.65 978.205,1082.35 980.986,1107.46 983.768,1061.65 986.55,1340.41 994.894,1355.48 \n",
       "  997.676,1374.97 1000.46,1361.81 1003.24,1377.48 1006.02,1376.17 1014.37,1380.59 1017.15,1389.33 1019.93,1401.99 1022.71,1398.17 1025.49,1377.48 1033.84,1383.1 \n",
       "  1036.62,1396.97 1039.4,1396.97 1042.18,1408.82 1044.96,1403.19 1053.31,1394.35 1056.09,1409.42 1058.87,1413.24 1061.65,1413.24 1064.43,1412.64 1072.78,1405.1 \n",
       "  1075.56,1402.59 1078.34,1393.15 1081.12,1374.97 1083.9,1375.57 1092.25,1383.71 1095.03,1385.01 1097.81,1397.57 1100.59,1396.26 1103.38,1407.61 1111.72,1404.4 \n",
       "  1114.5,1395.66 1117.28,1399.38 1120.07,1408.22 1122.85,1413.24 1131.19,1408.82 1133.97,1410.13 1136.75,1413.24 1142.32,1405.1 1150.66,1411.33 1153.44,1417.96 \n",
       "  1156.23,1422.68 1159.01,1433.33 1161.79,1427.7 1170.13,1431.42 1172.92,1428.31 1175.7,1455.33 1178.48,1455.33 1181.26,1447.8 1189.6,1446.49 1192.39,1444.58 \n",
       "  1195.17,1448.4 1197.95,1454.02 1200.73,1457.84 1209.08,1455.93 1211.86,1458.44 1214.64,1454.63 1217.42,1457.84 1220.2,1448.4 1231.33,1451.51 1234.11,1450.31 \n",
       "  1236.89,1450.31 1239.67,1449.6 1250.8,1449.6 1253.58,1434.54 1256.36,1427.7 1259.14,1434.54 1267.49,1432.73 1270.27,1426.4 1273.05,1432.73 1275.83,1418.26 \n",
       "  1278.61,1426.4 1289.74,1427.1 1292.52,1430.22 1295.3,1411.33 1298.09,1403.19 1306.43,1405.71 1309.21,1393.15 1311.99,1393.15 1314.78,1398.77 1317.56,1402.59 \n",
       "  1325.9,1381.19 1328.68,1380.59 1331.46,1381.9 1334.25,1386.92 1337.03,1391.94 1345.37,1396.26 1348.15,1386.92 1350.94,1390.64 1353.72,1390.64 1356.5,1407.01 \n",
       "  1364.84,1401.29 1367.63,1407.01 1370.41,1403.19 1373.19,1397.57 1375.97,1408.22 1387.1,1415.15 1389.88,1409.42 1392.66,1410.13 1395.44,1410.13 1403.79,1403.19 \n",
       "  1406.57,1404.4 1409.35,1415.75 1412.13,1410.73 1414.91,1405.71 1423.26,1394.35 1426.04,1383.1 1428.82,1385.61 1431.6,1390.03 1434.38,1395.66 1442.73,1412.03 \n",
       "  1445.51,1402.59 1448.29,1393.75 1451.07,1401.29 1453.85,1401.99 1462.2,1392.55 1464.98,1401.29 1467.76,1396.97 1470.54,1381.9 1473.32,1368.04 1481.67,1380.29 \n",
       "  1484.45,1369.34 1487.23,1376.37 1490.01,1372.76 1492.8,1377.38 1501.14,1382.2 1503.92,1395.76 1506.7,1403.19 1509.49,1389.43 1512.27,1392.24 1520.61,1392.75 \n",
       "  1523.39,1377.68 1526.17,1380.09 1528.96,1373.86 1540.08,1383.71 1542.86,1394.15 1545.65,1370.14 1548.43,1340.71 1551.21,1347.54 1559.55,1355.48 1562.34,1357.69 \n",
       "  1565.12,1350.76 1567.9,1351.06 1570.68,1335.89 1579.02,1343.02 1581.81,1338.6 1584.59,1331.97 1587.37,1348.35 1590.15,1340.41 1598.5,1348.35 1601.28,1352.26 \n",
       "  1604.06,1358.19 1606.84,1368.04 1609.62,1369.54 1617.97,1365.12 1620.75,1366.23 1623.53,1356.99 1626.31,1362.51 1629.09,1362.71 1637.44,1362.41 1640.22,1363.01 \n",
       "  1643,1365.72 1645.78,1366.03 1648.56,1370.45 1659.69,1383.4 1662.47,1400.38 1665.25,1398.67 1668.04,1389.23 1676.38,1391.54 1679.16,1388.73 1681.94,1390.84 \n",
       "  1684.72,1381.5 1687.51,1384.91 1695.85,1397.77 1698.63,1395.06 1701.41,1393.45 1704.2,1399.38 1706.98,1393.75 1715.32,1394.86 1718.1,1396.26 1720.89,1381.4 \n",
       "  1723.67,1373.16 1726.45,1375.47 1734.79,1358.09 1737.57,1360.5 1740.36,1364.62 1743.14,1362.61 1745.92,1365.52 1754.26,1358.99 1757.05,1359.6 1762.61,1366.13 \n",
       "  1765.39,1377.78 1773.73,1371.05 1776.52,1386.72 1779.3,1372.66 1782.08,1354.37 1784.86,1349.45 1793.21,1358.39 1795.99,1346.94 1798.77,1390.24 1801.55,1398.57 \n",
       "  1804.33,1398.37 1812.68,1402.79 1815.46,1407.31 1818.24,1413.54 1821.02,1412.34 1823.8,1408.62 1832.15,1408.92 1834.93,1410.33 1837.71,1407.61 1840.49,1399.98 \n",
       "  1843.27,1403.19 1851.62,1406.91 1854.4,1405.71 1857.18,1409.22 1859.96,1407.71 1862.75,1408.02 1871.09,1407.31 1873.87,1410.93 1876.65,1413.84 1879.43,1411.73 \n",
       "  1882.22,1417.56 1890.56,1417.06 1893.34,1419.07 1896.12,1416.15 1898.91,1420.17 1901.69,1412.54 1910.03,1409.02 1912.81,1414.24 1915.6,1419.97 1918.38,1419.97 \n",
       "  1921.16,1412.74 1932.28,1415.75 1935.07,1412.74 1937.85,1421.07 1940.63,1425.49 1948.97,1424.59 1968.45,1428.41 1971.23,1435.54 1974.01,1428.11 1976.79,1441.57 \n",
       "  1979.57,1441.06 1987.92,1433.83 1990.7,1442.97 1993.48,1446.89 1996.26,1443.27 1999.04,1443.27 2007.39,1442.97 2010.17,1447.9 2012.95,1448.6 2015.73,1439.56 \n",
       "  2018.51,1436.95 2026.86,1436.34 2029.64,1438.35 2032.42,1430.12 2035.2,1420.87 2037.98,1418.16 2046.33,1418.36 2049.11,1418.16 2051.89,1428.41 2054.67,1418.26 \n",
       "  2057.46,1415.25 2065.8,1408.02 2068.58,1416.86 2071.36,1408.72 2074.14,1406.31 2076.93,1411.53 2085.27,1421.98 2088.05,1422.28 2090.83,1422.68 2093.62,1412.34 \n",
       "  2096.4,1412.54 2104.74,1407.51 2107.52,1402.49 2110.31,1402.29 2113.09,1411.13 2115.87,1411.13 2124.21,1410.73 2126.99,1404.5 2129.78,1402.09 2132.56,1403.7 \n",
       "  2135.34,1408.52 2143.68,1398.17 2146.47,1402.89 2149.25,1401.39 2154.81,1399.78 2163.16,1384.41 2165.94,1388.13 2168.72,1392.85 2171.5,1393.95 2174.28,1385.11 \n",
       "  2182.63,1387.62 2185.41,1374.06 2188.19,1360.4 2190.97,1370.25 2193.75,1372.66 2202.1,1372.66 2204.88,1380.29 2207.66,1383.2 2210.44,1388.13 2213.22,1394.25 \n",
       "  2221.57,1391.94 2224.35,1388.03 2227.13,1381.9 2229.91,1391.44 2232.69,1388.13 2241.04,1384.51 2246.6,1383.2 2249.38,1377.38 2252.17,1373.76 2260.51,1379.09 \n",
       "  \n",
       "  \"/>\n",
       "<polygon clip-path=\"url(#clip7901)\" points=\"\n",
       "1886.23,433.164 2249.26,433.164 2249.26,130.764 1886.23,130.764 \n",
       "  \" fill=\"#ffffff\" fill-opacity=\"1\"/>\n",
       "<polyline clip-path=\"url(#clip7901)\" style=\"stroke:#000000; stroke-width:4; stroke-opacity:1; fill:none\" points=\"\n",
       "  1886.23,433.164 2249.26,433.164 2249.26,130.764 1886.23,130.764 1886.23,433.164 \n",
       "  \"/>\n",
       "<polyline clip-path=\"url(#clip7901)\" style=\"stroke:#009af9; stroke-width:4; stroke-opacity:1; fill:none\" points=\"\n",
       "  1910.23,191.244 2054.23,191.244 \n",
       "  \"/>\n",
       "<g clip-path=\"url(#clip7901)\">\n",
       "<text style=\"fill:#000000; fill-opacity:1; font-family:Arial,Helvetica Neue,Helvetica,sans-serif; font-size:48px; text-anchor:start;\" transform=\"rotate(0, 2078.23, 208.744)\" x=\"2078.23\" y=\"208.744\">Open</text>\n",
       "</g>\n",
       "<polyline clip-path=\"url(#clip7901)\" style=\"stroke:#e26f46; stroke-width:4; stroke-opacity:1; fill:none\" points=\"\n",
       "  1910.23,251.724 2054.23,251.724 \n",
       "  \"/>\n",
       "<g clip-path=\"url(#clip7901)\">\n",
       "<text style=\"fill:#000000; fill-opacity:1; font-family:Arial,Helvetica Neue,Helvetica,sans-serif; font-size:48px; text-anchor:start;\" transform=\"rotate(0, 2078.23, 269.224)\" x=\"2078.23\" y=\"269.224\">High</text>\n",
       "</g>\n",
       "<polyline clip-path=\"url(#clip7901)\" style=\"stroke:#3da44d; stroke-width:4; stroke-opacity:1; fill:none\" points=\"\n",
       "  1910.23,312.204 2054.23,312.204 \n",
       "  \"/>\n",
       "<g clip-path=\"url(#clip7901)\">\n",
       "<text style=\"fill:#000000; fill-opacity:1; font-family:Arial,Helvetica Neue,Helvetica,sans-serif; font-size:48px; text-anchor:start;\" transform=\"rotate(0, 2078.23, 329.704)\" x=\"2078.23\" y=\"329.704\">Low</text>\n",
       "</g>\n",
       "<polyline clip-path=\"url(#clip7901)\" style=\"stroke:#c271d2; stroke-width:4; stroke-opacity:1; fill:none\" points=\"\n",
       "  1910.23,372.684 2054.23,372.684 \n",
       "  \"/>\n",
       "<g clip-path=\"url(#clip7901)\">\n",
       "<text style=\"fill:#000000; fill-opacity:1; font-family:Arial,Helvetica Neue,Helvetica,sans-serif; font-size:48px; text-anchor:start;\" transform=\"rotate(0, 2078.23, 390.184)\" x=\"2078.23\" y=\"390.184\">Close</text>\n",
       "</g>\n",
       "</svg>\n"
      ]
     },
     "execution_count": 169,
     "metadata": {},
     "output_type": "execute_result"
    }
   ],
   "source": [
    "plot(MarketData.ohlc)"
   ]
  },
  {
   "cell_type": "code",
   "execution_count": 185,
   "metadata": {},
   "outputs": [
    {
     "data": {
      "image/svg+xml": [
       "<?xml version=\"1.0\" encoding=\"utf-8\"?>\n",
       "<svg xmlns=\"http://www.w3.org/2000/svg\" xmlns:xlink=\"http://www.w3.org/1999/xlink\" width=\"600\" height=\"400\" viewBox=\"0 0 2400 1600\">\n",
       "<defs>\n",
       "  <clipPath id=\"clip8700\">\n",
       "    <rect x=\"0\" y=\"0\" width=\"2000\" height=\"2000\"/>\n",
       "  </clipPath>\n",
       "</defs>\n",
       "<defs>\n",
       "  <clipPath id=\"clip8701\">\n",
       "    <rect x=\"0\" y=\"0\" width=\"2400\" height=\"1600\"/>\n",
       "  </clipPath>\n",
       "</defs>\n",
       "<polygon clip-path=\"url(#clip8701)\" points=\"\n",
       "0,1600 2400,1600 2400,0 0,0 \n",
       "  \" fill=\"#ffffff\" fill-opacity=\"1\"/>\n",
       "<defs>\n",
       "  <clipPath id=\"clip8702\">\n",
       "    <rect x=\"480\" y=\"0\" width=\"1681\" height=\"1600\"/>\n",
       "  </clipPath>\n",
       "</defs>\n",
       "<polygon clip-path=\"url(#clip8701)\" points=\"\n",
       "174.775,1503.47 2321.26,1503.47 2321.26,47.2441 174.775,47.2441 \n",
       "  \" fill=\"#ffffff\" fill-opacity=\"1\"/>\n",
       "<defs>\n",
       "  <clipPath id=\"clip8703\">\n",
       "    <rect x=\"174\" y=\"47\" width=\"2147\" height=\"1457\"/>\n",
       "  </clipPath>\n",
       "</defs>\n",
       "<polyline clip-path=\"url(#clip8703)\" style=\"stroke:#000000; stroke-width:2; stroke-opacity:0.1; fill:none\" points=\"\n",
       "  229.962,1503.47 229.962,47.2441 \n",
       "  \"/>\n",
       "<polyline clip-path=\"url(#clip8703)\" style=\"stroke:#000000; stroke-width:2; stroke-opacity:0.1; fill:none\" points=\"\n",
       "  1248.02,1503.47 1248.02,47.2441 \n",
       "  \"/>\n",
       "<polyline clip-path=\"url(#clip8703)\" style=\"stroke:#000000; stroke-width:2; stroke-opacity:0.1; fill:none\" points=\"\n",
       "  2263.29,1503.47 2263.29,47.2441 \n",
       "  \"/>\n",
       "<polyline clip-path=\"url(#clip8703)\" style=\"stroke:#000000; stroke-width:2; stroke-opacity:0.1; fill:none\" points=\"\n",
       "  174.775,1407.82 2321.26,1407.82 \n",
       "  \"/>\n",
       "<polyline clip-path=\"url(#clip8703)\" style=\"stroke:#000000; stroke-width:2; stroke-opacity:0.1; fill:none\" points=\"\n",
       "  174.775,1205.43 2321.26,1205.43 \n",
       "  \"/>\n",
       "<polyline clip-path=\"url(#clip8703)\" style=\"stroke:#000000; stroke-width:2; stroke-opacity:0.1; fill:none\" points=\"\n",
       "  174.775,1003.04 2321.26,1003.04 \n",
       "  \"/>\n",
       "<polyline clip-path=\"url(#clip8703)\" style=\"stroke:#000000; stroke-width:2; stroke-opacity:0.1; fill:none\" points=\"\n",
       "  174.775,800.658 2321.26,800.658 \n",
       "  \"/>\n",
       "<polyline clip-path=\"url(#clip8703)\" style=\"stroke:#000000; stroke-width:2; stroke-opacity:0.1; fill:none\" points=\"\n",
       "  174.775,598.271 2321.26,598.271 \n",
       "  \"/>\n",
       "<polyline clip-path=\"url(#clip8703)\" style=\"stroke:#000000; stroke-width:2; stroke-opacity:0.1; fill:none\" points=\"\n",
       "  174.775,395.884 2321.26,395.884 \n",
       "  \"/>\n",
       "<polyline clip-path=\"url(#clip8703)\" style=\"stroke:#000000; stroke-width:2; stroke-opacity:0.1; fill:none\" points=\"\n",
       "  174.775,193.497 2321.26,193.497 \n",
       "  \"/>\n",
       "<polyline clip-path=\"url(#clip8701)\" style=\"stroke:#000000; stroke-width:4; stroke-opacity:1; fill:none\" points=\"\n",
       "  174.775,1503.47 2321.26,1503.47 \n",
       "  \"/>\n",
       "<polyline clip-path=\"url(#clip8701)\" style=\"stroke:#000000; stroke-width:4; stroke-opacity:1; fill:none\" points=\"\n",
       "  174.775,1503.47 174.775,47.2441 \n",
       "  \"/>\n",
       "<polyline clip-path=\"url(#clip8701)\" style=\"stroke:#000000; stroke-width:4; stroke-opacity:1; fill:none\" points=\"\n",
       "  229.962,1503.47 229.962,1481.63 \n",
       "  \"/>\n",
       "<polyline clip-path=\"url(#clip8701)\" style=\"stroke:#000000; stroke-width:4; stroke-opacity:1; fill:none\" points=\"\n",
       "  1248.02,1503.47 1248.02,1481.63 \n",
       "  \"/>\n",
       "<polyline clip-path=\"url(#clip8701)\" style=\"stroke:#000000; stroke-width:4; stroke-opacity:1; fill:none\" points=\"\n",
       "  2263.29,1503.47 2263.29,1481.63 \n",
       "  \"/>\n",
       "<polyline clip-path=\"url(#clip8701)\" style=\"stroke:#000000; stroke-width:4; stroke-opacity:1; fill:none\" points=\"\n",
       "  174.775,1407.82 206.972,1407.82 \n",
       "  \"/>\n",
       "<polyline clip-path=\"url(#clip8701)\" style=\"stroke:#000000; stroke-width:4; stroke-opacity:1; fill:none\" points=\"\n",
       "  174.775,1205.43 206.972,1205.43 \n",
       "  \"/>\n",
       "<polyline clip-path=\"url(#clip8701)\" style=\"stroke:#000000; stroke-width:4; stroke-opacity:1; fill:none\" points=\"\n",
       "  174.775,1003.04 206.972,1003.04 \n",
       "  \"/>\n",
       "<polyline clip-path=\"url(#clip8701)\" style=\"stroke:#000000; stroke-width:4; stroke-opacity:1; fill:none\" points=\"\n",
       "  174.775,800.658 206.972,800.658 \n",
       "  \"/>\n",
       "<polyline clip-path=\"url(#clip8701)\" style=\"stroke:#000000; stroke-width:4; stroke-opacity:1; fill:none\" points=\"\n",
       "  174.775,598.271 206.972,598.271 \n",
       "  \"/>\n",
       "<polyline clip-path=\"url(#clip8701)\" style=\"stroke:#000000; stroke-width:4; stroke-opacity:1; fill:none\" points=\"\n",
       "  174.775,395.884 206.972,395.884 \n",
       "  \"/>\n",
       "<polyline clip-path=\"url(#clip8701)\" style=\"stroke:#000000; stroke-width:4; stroke-opacity:1; fill:none\" points=\"\n",
       "  174.775,193.497 206.972,193.497 \n",
       "  \"/>\n",
       "<g clip-path=\"url(#clip8701)\">\n",
       "<text style=\"fill:#000000; fill-opacity:1; font-family:Arial,Helvetica Neue,Helvetica,sans-serif; font-size:48px; text-anchor:middle;\" transform=\"rotate(0, 229.962, 1557.47)\" x=\"229.962\" y=\"1557.47\">2000-01-01</text>\n",
       "</g>\n",
       "<g clip-path=\"url(#clip8701)\">\n",
       "<text style=\"fill:#000000; fill-opacity:1; font-family:Arial,Helvetica Neue,Helvetica,sans-serif; font-size:48px; text-anchor:middle;\" transform=\"rotate(0, 1248.02, 1557.47)\" x=\"1248.02\" y=\"1557.47\">2001-01-01</text>\n",
       "</g>\n",
       "<g clip-path=\"url(#clip8701)\">\n",
       "<text style=\"fill:#000000; fill-opacity:1; font-family:Arial,Helvetica Neue,Helvetica,sans-serif; font-size:48px; text-anchor:middle;\" transform=\"rotate(0, 2263.29, 1557.47)\" x=\"2263.29\" y=\"1557.47\">2002-01-01</text>\n",
       "</g>\n",
       "<g clip-path=\"url(#clip8701)\">\n",
       "<text style=\"fill:#000000; fill-opacity:1; font-family:Arial,Helvetica Neue,Helvetica,sans-serif; font-size:48px; text-anchor:end;\" transform=\"rotate(0, 150.775, 1425.32)\" x=\"150.775\" y=\"1425.32\">20</text>\n",
       "</g>\n",
       "<g clip-path=\"url(#clip8701)\">\n",
       "<text style=\"fill:#000000; fill-opacity:1; font-family:Arial,Helvetica Neue,Helvetica,sans-serif; font-size:48px; text-anchor:end;\" transform=\"rotate(0, 150.775, 1222.93)\" x=\"150.775\" y=\"1222.93\">40</text>\n",
       "</g>\n",
       "<g clip-path=\"url(#clip8701)\">\n",
       "<text style=\"fill:#000000; fill-opacity:1; font-family:Arial,Helvetica Neue,Helvetica,sans-serif; font-size:48px; text-anchor:end;\" transform=\"rotate(0, 150.775, 1020.54)\" x=\"150.775\" y=\"1020.54\">60</text>\n",
       "</g>\n",
       "<g clip-path=\"url(#clip8701)\">\n",
       "<text style=\"fill:#000000; fill-opacity:1; font-family:Arial,Helvetica Neue,Helvetica,sans-serif; font-size:48px; text-anchor:end;\" transform=\"rotate(0, 150.775, 818.158)\" x=\"150.775\" y=\"818.158\">80</text>\n",
       "</g>\n",
       "<g clip-path=\"url(#clip8701)\">\n",
       "<text style=\"fill:#000000; fill-opacity:1; font-family:Arial,Helvetica Neue,Helvetica,sans-serif; font-size:48px; text-anchor:end;\" transform=\"rotate(0, 150.775, 615.771)\" x=\"150.775\" y=\"615.771\">100</text>\n",
       "</g>\n",
       "<g clip-path=\"url(#clip8701)\">\n",
       "<text style=\"fill:#000000; fill-opacity:1; font-family:Arial,Helvetica Neue,Helvetica,sans-serif; font-size:48px; text-anchor:end;\" transform=\"rotate(0, 150.775, 413.384)\" x=\"150.775\" y=\"413.384\">120</text>\n",
       "</g>\n",
       "<g clip-path=\"url(#clip8701)\">\n",
       "<text style=\"fill:#000000; fill-opacity:1; font-family:Arial,Helvetica Neue,Helvetica,sans-serif; font-size:48px; text-anchor:end;\" transform=\"rotate(0, 150.775, 210.997)\" x=\"150.775\" y=\"210.997\">140</text>\n",
       "</g>\n",
       "<polyline clip-path=\"url(#clip8703)\" style=\"stroke:#009af9; stroke-width:4; stroke-opacity:1; fill:none\" points=\"\n",
       "  235.525,471.779 238.306,490.803 241.088,491.411 243.869,527.435 246.651,588.151 254.996,575.502 257.777,604.545 260.559,643.808 263.341,610.92 266.122,575.502 \n",
       "  277.248,537.555 280.03,509.727 282.812,380.705 285.593,454.07 293.938,469.249 296.719,465.505 299.501,454.677 302.283,466.719 305.064,488.172 313.409,559.008 \n",
       "  316.19,547.674 318.972,576.818 321.754,555.264 324.535,497.077 332.88,454.07 335.661,435.147 338.443,425.028 341.225,457.814 344.006,455.386 352.351,437.576 \n",
       "  355.132,396.491 357.914,414.908 360.696,441.421 363.477,442.635 374.603,426.849 377.385,406.003 380.167,404.789 382.948,426.242 391.293,446.481 394.074,423.712 \n",
       "  396.856,273.845 399.638,315.536 402.419,312.602 410.764,303.595 413.545,320.596 416.327,356.014 419.109,345.287 421.89,315.536 430.235,330.108 433.016,352.877 \n",
       "  435.798,393.354 438.58,375.645 441.361,345.287 449.706,332.638 452.488,226.385 455.269,149.174 458.051,88.4582 460.832,153.627 469.177,145.43 471.959,173.258 \n",
       "  474.74,199.164 477.522,216.873 480.303,221.325 488.648,198.557 491.43,264.332 494.211,265.547 496.993,249.153 499.774,275.666 508.119,266.862 510.901,346.502 \n",
       "  513.682,406.003 516.464,395.884 519.245,416.123 527.59,356.014 530.372,326.263 533.153,292.161 535.935,347.817 547.061,390.824 549.843,307.34 552.624,314.929 \n",
       "  555.406,325.048 558.187,319.989 566.532,344.073 569.314,332.638 572.095,383.235 574.877,443.951 577.658,449.01 586.003,459.737 588.785,484.428 591.566,547.674 \n",
       "  594.348,555.264 597.129,492.018 605.474,516.709 608.256,506.59 611.037,560.93 613.819,548.281 616.6,605.86 624.945,661.517 627.727,665.261 630.508,701.994 \n",
       "  633.29,672.547 636.071,700.679 647.198,718.489 649.979,686.815 652.761,703.917 655.542,600.801 663.887,646.338 666.669,631.159 669.45,628.629 672.232,613.45 \n",
       "  675.013,619.117 683.358,634.296 686.14,652.005 688.921,636.218 691.703,665.261 694.484,661.517 702.829,619.724 705.611,558.401 708.392,1034.01 711.174,1027.13 \n",
       "  713.955,1057.49 722.3,1056.17 725.082,1048.58 727.863,1049.8 730.645,1064.37 733.426,1054.25 741.771,1060.62 747.334,1051.72 750.116,1074.49 752.897,1055.56 \n",
       "  761.242,1020.75 764.024,1010.63 766.805,1013.77 769.587,996.771 772.368,1013.16 780.713,1015.09 783.495,1014.38 786.276,1035.33 789.058,1032.8 791.839,1047.37 \n",
       "  800.184,1075.09 802.966,1097.96 805.747,1091.59 808.529,1071.35 811.31,1078.94 819.655,1087.84 822.437,1092.5 825.218,1104.85 828,1123.87 830.782,1091.59 \n",
       "  839.126,1113.75 841.908,1124.48 844.689,1120.02 847.471,1120.02 850.253,1124.48 858.597,1127.61 861.379,1125.08 864.16,1114.36 866.942,1079.55 869.724,1085.92 \n",
       "  878.068,1088.45 880.85,1075.8 883.631,1056.17 886.413,1037.25 889.195,1028.34 897.539,1013.16 900.321,1008.71 903.102,1003.04 905.884,987.866 908.666,966.413 \n",
       "  919.792,961.353 922.573,978.961 925.355,977.139 928.137,986.651 936.481,999.199 939.263,1002.44 942.044,1008.1 944.826,1006.89 947.608,1021.36 955.952,995.455 \n",
       "  958.734,997.985 961.515,988.473 964.297,1006.89 967.079,1079.55 975.423,1048.58 978.205,1056.17 980.986,1076.41 983.768,1065.68 986.55,1316.74 994.894,1339.51 \n",
       "  997.676,1357.22 1000.46,1369.87 1003.24,1362.28 1006.02,1378.07 1014.37,1378.67 1017.15,1383.13 1019.93,1397.7 1022.71,1399.62 1025.49,1386.37 1033.84,1374.93 \n",
       "  1036.62,1388.19 1039.4,1397.09 1042.18,1409.74 1044.96,1403.97 1053.31,1402.15 1056.09,1398.91 1058.87,1416.02 1061.65,1419.15 1064.43,1416.02 1072.78,1408.43 \n",
       "  1075.56,1405.29 1078.34,1398.91 1081.12,1383.13 1083.9,1377.46 1092.25,1381.31 1095.03,1389.5 1097.81,1393.25 1100.59,1402.76 1103.38,1409.03 1111.72,1407.82 \n",
       "  1114.5,1402.76 1117.28,1405.9 1120.07,1409.74 1122.85,1415.41 1131.19,1412.88 1133.97,1412.88 1136.75,1416.72 1142.32,1412.88 1150.66,1408.43 1153.44,1417.94 \n",
       "  1156.23,1424.92 1159.01,1438.18 1161.79,1433.12 1170.13,1436.25 1172.92,1433.72 1175.7,1458.42 1178.48,1459.63 1181.26,1455.28 1189.6,1454.57 1192.39,1448.3 \n",
       "  1195.17,1452.75 1197.95,1455.89 1200.73,1461.55 1209.08,1462.26 1211.86,1455.89 1214.64,1462.26 1217.42,1458.42 1220.2,1458.42 1231.33,1458.42 1234.11,1460.34 \n",
       "  1236.89,1459.02 1239.67,1458.42 1250.8,1455.89 1253.58,1441.31 1256.36,1423 1259.14,1434.33 1267.49,1438.38 1270.27,1431.7 1273.05,1438.18 1275.83,1423 \n",
       "  1278.61,1428.06 1289.74,1425.53 1292.52,1432.51 1295.3,1420.47 1298.09,1412.27 1306.43,1411.66 1309.21,1398.31 1311.99,1400.84 1314.78,1402.15 1317.56,1409.74 \n",
       "  1325.9,1390.11 1328.68,1387.58 1331.46,1382.52 1334.25,1392.64 1337.03,1388.19 1345.37,1402.15 1348.15,1393.75 1350.94,1398.91 1353.72,1397.09 1356.5,1399.62 \n",
       "  1364.84,1407.82 1367.63,1403.37 1370.41,1411.66 1373.19,1402.15 1375.97,1412.88 1387.1,1413.49 1389.88,1408.43 1392.66,1414.09 1395.44,1419.15 1403.79,1410.96 \n",
       "  1406.57,1413.49 1409.35,1413.49 1412.13,1420.47 1414.91,1403.37 1423.26,1402.76 1426.04,1386.97 1428.82,1391.43 1431.6,1396.48 1434.38,1400.84 1442.73,1409.03 \n",
       "  1445.51,1412.27 1448.29,1402.76 1451.07,1393.85 1453.85,1404.68 1462.2,1401.54 1464.98,1398.31 1467.76,1398.91 1470.54,1390.11 1473.32,1371.79 1481.67,1369.87 \n",
       "  1484.45,1376.95 1487.23,1382.52 1490.01,1372.91 1492.8,1380.29 1501.14,1380.9 1503.92,1393.65 1506.7,1405.29 1509.49,1382.52 1512.27,1397.29 1520.61,1394.26 \n",
       "  1523.39,1380.5 1526.17,1377.46 1528.96,1377.26 1540.08,1383.53 1542.86,1395.57 1545.65,1366.53 1548.43,1349.63 1551.21,1350.85 1559.55,1357.22 1562.34,1359.75 \n",
       "  1565.12,1358.64 1567.9,1346.09 1570.68,1344.17 1579.02,1335.77 1581.81,1342.04 1584.59,1340.02 1587.37,1344.57 1590.15,1348.62 1598.5,1349.53 1601.28,1352.67 \n",
       "  1604.06,1361.78 1606.84,1362.28 1609.62,1372.5 1617.97,1370.58 1620.75,1352.16 1623.53,1362.28 1626.31,1364 1629.09,1370.98 1637.44,1368.25 1640.22,1366.03 \n",
       "  1643,1369.87 1645.78,1374.42 1648.56,1374.53 1659.69,1382.52 1662.47,1400.13 1665.25,1405.39 1668.04,1396.79 1676.38,1396.59 1679.16,1396.69 1681.94,1398.41 \n",
       "  1684.72,1390.62 1687.51,1391.12 1695.85,1396.99 1698.63,1400.84 1701.41,1390.31 1704.2,1403.26 1706.98,1400.23 1715.32,1399.22 1718.1,1393.65 1720.89,1389.1 \n",
       "  1723.67,1377.46 1726.45,1377.46 1734.79,1367.34 1737.57,1369.67 1740.36,1367.34 1743.14,1368.25 1745.92,1356.21 1754.26,1365.01 1757.05,1365.52 1762.61,1369.67 \n",
       "  1765.39,1377.87 1773.73,1377.46 1776.52,1376.75 1779.3,1382.01 1782.08,1359.14 1784.86,1357.12 1793.21,1356.21 1795.99,1355 1798.77,1379.69 1801.55,1393.45 \n",
       "  1804.33,1407.21 1812.68,1402.76 1815.46,1408.63 1818.24,1414.9 1821.02,1419.96 1823.8,1415.41 1832.15,1414.29 1834.93,1413.69 1837.71,1410.04 1840.49,1409.13 \n",
       "  1843.27,1408.83 1851.62,1411.26 1854.4,1411.16 1857.18,1410.85 1859.96,1416.42 1862.75,1414.7 1871.09,1414.6 1873.87,1414.29 1876.65,1418.55 1879.43,1420.47 \n",
       "  1882.22,1423.5 1890.56,1425.73 1893.34,1426.64 1896.12,1425.53 1898.91,1424.62 1901.69,1421.78 1910.03,1414.9 1912.81,1416.52 1915.6,1419.66 1918.38,1426.24 \n",
       "  1921.16,1421.99 1932.28,1417.13 1935.07,1418.44 1937.85,1418.65 1940.63,1427.05 1948.97,1433.12 1968.45,1437.47 1971.23,1430.89 1974.01,1437.16 1976.79,1438.68 \n",
       "  1979.57,1445.77 1987.92,1439.8 1990.7,1446.07 1993.48,1449.41 1996.26,1450.83 1999.04,1449.21 2007.39,1448.4 2010.17,1450.02 2012.95,1454.77 2015.73,1445.77 \n",
       "  2018.51,1446.78 2026.86,1444.75 2029.64,1446.27 2032.42,1439.69 2035.2,1430.69 2037.98,1427.25 2046.33,1424.21 2049.11,1426.03 2051.89,1423.91 2054.67,1425.73 \n",
       "  2057.46,1424.01 2065.8,1417.23 2068.58,1413.69 2071.36,1417.03 2074.14,1415.41 2076.93,1415.41 2085.27,1421.28 2088.05,1428.06 2090.83,1424.01 2093.62,1420.16 \n",
       "  2096.4,1419.35 2104.74,1415.41 2107.52,1411.66 2110.31,1406.5 2113.09,1408.93 2115.87,1415.41 2124.21,1416.22 2126.99,1413.99 2129.78,1408.83 2132.56,1408.83 \n",
       "  2135.34,1415 2143.68,1407.31 2146.47,1405.79 2149.25,1409.84 2154.81,1408.32 2163.16,1392.13 2165.94,1392.44 2168.72,1395.57 2171.5,1400.74 2174.28,1393.25 \n",
       "  2182.63,1394.87 2185.41,1381.91 2188.19,1367.04 2190.97,1372.4 2193.75,1380.4 2202.1,1377.56 2204.88,1378.98 2207.66,1388.39 2210.44,1392.13 2213.22,1399.42 \n",
       "  2221.57,1397.7 2224.35,1394.36 2227.13,1390.82 2229.91,1392.94 2232.69,1392.23 2241.04,1393.15 2246.6,1384.54 2249.38,1385.05 2252.17,1377.46 2260.51,1380.9 \n",
       "  \n",
       "  \"/>\n",
       "<polygon clip-path=\"url(#clip8701)\" points=\"\n",
       "1910.3,251.724 2249.26,251.724 2249.26,130.764 1910.3,130.764 \n",
       "  \" fill=\"#ffffff\" fill-opacity=\"1\"/>\n",
       "<polyline clip-path=\"url(#clip8701)\" style=\"stroke:#000000; stroke-width:4; stroke-opacity:1; fill:none\" points=\"\n",
       "  1910.3,251.724 2249.26,251.724 2249.26,130.764 1910.3,130.764 1910.3,251.724 \n",
       "  \"/>\n",
       "<polyline clip-path=\"url(#clip8701)\" style=\"stroke:#009af9; stroke-width:4; stroke-opacity:1; fill:none\" points=\"\n",
       "  1934.3,191.244 2078.3,191.244 \n",
       "  \"/>\n",
       "<g clip-path=\"url(#clip8701)\">\n",
       "<text style=\"fill:#000000; fill-opacity:1; font-family:Arial,Helvetica Neue,Helvetica,sans-serif; font-size:48px; text-anchor:start;\" transform=\"rotate(0, 2102.3, 208.744)\" x=\"2102.3\" y=\"208.744\">High</text>\n",
       "</g>\n",
       "</svg>\n"
      ]
     },
     "execution_count": 185,
     "metadata": {},
     "output_type": "execute_result"
    }
   ],
   "source": [
    "plot(MarketData.ohlc[:High])"
   ]
  },
  {
   "cell_type": "code",
   "execution_count": 184,
   "metadata": {},
   "outputs": [
    {
     "data": {
      "image/svg+xml": [
       "<?xml version=\"1.0\" encoding=\"utf-8\"?>\n",
       "<svg xmlns=\"http://www.w3.org/2000/svg\" xmlns:xlink=\"http://www.w3.org/1999/xlink\" width=\"600\" height=\"400\" viewBox=\"0 0 2400 1600\">\n",
       "<defs>\n",
       "  <clipPath id=\"clip8500\">\n",
       "    <rect x=\"0\" y=\"0\" width=\"2000\" height=\"2000\"/>\n",
       "  </clipPath>\n",
       "</defs>\n",
       "<defs>\n",
       "  <clipPath id=\"clip8501\">\n",
       "    <rect x=\"0\" y=\"0\" width=\"2400\" height=\"1600\"/>\n",
       "  </clipPath>\n",
       "</defs>\n",
       "<polygon clip-path=\"url(#clip8501)\" points=\"\n",
       "0,1600 2400,1600 2400,0 0,0 \n",
       "  \" fill=\"#ffffff\" fill-opacity=\"1\"/>\n",
       "<defs>\n",
       "  <clipPath id=\"clip8502\">\n",
       "    <rect x=\"480\" y=\"0\" width=\"1681\" height=\"1600\"/>\n",
       "  </clipPath>\n",
       "</defs>\n",
       "<polygon clip-path=\"url(#clip8501)\" points=\"\n",
       "174.775,1503.47 2321.26,1503.47 2321.26,47.2441 174.775,47.2441 \n",
       "  \" fill=\"#ffffff\" fill-opacity=\"1\"/>\n",
       "<defs>\n",
       "  <clipPath id=\"clip8503\">\n",
       "    <rect x=\"174\" y=\"47\" width=\"2147\" height=\"1457\"/>\n",
       "  </clipPath>\n",
       "</defs>\n",
       "<polyline clip-path=\"url(#clip8503)\" style=\"stroke:#000000; stroke-width:2; stroke-opacity:0.1; fill:none\" points=\"\n",
       "  229.962,1503.47 229.962,47.2441 \n",
       "  \"/>\n",
       "<polyline clip-path=\"url(#clip8503)\" style=\"stroke:#000000; stroke-width:2; stroke-opacity:0.1; fill:none\" points=\"\n",
       "  1248.02,1503.47 1248.02,47.2441 \n",
       "  \"/>\n",
       "<polyline clip-path=\"url(#clip8503)\" style=\"stroke:#000000; stroke-width:2; stroke-opacity:0.1; fill:none\" points=\"\n",
       "  2263.29,1503.47 2263.29,47.2441 \n",
       "  \"/>\n",
       "<polyline clip-path=\"url(#clip8503)\" style=\"stroke:#000000; stroke-width:2; stroke-opacity:0.1; fill:none\" points=\"\n",
       "  174.775,1398.17 2321.26,1398.17 \n",
       "  \"/>\n",
       "<polyline clip-path=\"url(#clip8503)\" style=\"stroke:#000000; stroke-width:2; stroke-opacity:0.1; fill:none\" points=\"\n",
       "  174.775,1197.26 2321.26,1197.26 \n",
       "  \"/>\n",
       "<polyline clip-path=\"url(#clip8503)\" style=\"stroke:#000000; stroke-width:2; stroke-opacity:0.1; fill:none\" points=\"\n",
       "  174.775,996.357 2321.26,996.357 \n",
       "  \"/>\n",
       "<polyline clip-path=\"url(#clip8503)\" style=\"stroke:#000000; stroke-width:2; stroke-opacity:0.1; fill:none\" points=\"\n",
       "  174.775,795.45 2321.26,795.45 \n",
       "  \"/>\n",
       "<polyline clip-path=\"url(#clip8503)\" style=\"stroke:#000000; stroke-width:2; stroke-opacity:0.1; fill:none\" points=\"\n",
       "  174.775,594.543 2321.26,594.543 \n",
       "  \"/>\n",
       "<polyline clip-path=\"url(#clip8503)\" style=\"stroke:#000000; stroke-width:2; stroke-opacity:0.1; fill:none\" points=\"\n",
       "  174.775,393.636 2321.26,393.636 \n",
       "  \"/>\n",
       "<polyline clip-path=\"url(#clip8503)\" style=\"stroke:#000000; stroke-width:2; stroke-opacity:0.1; fill:none\" points=\"\n",
       "  174.775,192.729 2321.26,192.729 \n",
       "  \"/>\n",
       "<polyline clip-path=\"url(#clip8501)\" style=\"stroke:#000000; stroke-width:4; stroke-opacity:1; fill:none\" points=\"\n",
       "  174.775,1503.47 2321.26,1503.47 \n",
       "  \"/>\n",
       "<polyline clip-path=\"url(#clip8501)\" style=\"stroke:#000000; stroke-width:4; stroke-opacity:1; fill:none\" points=\"\n",
       "  174.775,1503.47 174.775,47.2441 \n",
       "  \"/>\n",
       "<polyline clip-path=\"url(#clip8501)\" style=\"stroke:#000000; stroke-width:4; stroke-opacity:1; fill:none\" points=\"\n",
       "  229.962,1503.47 229.962,1481.63 \n",
       "  \"/>\n",
       "<polyline clip-path=\"url(#clip8501)\" style=\"stroke:#000000; stroke-width:4; stroke-opacity:1; fill:none\" points=\"\n",
       "  1248.02,1503.47 1248.02,1481.63 \n",
       "  \"/>\n",
       "<polyline clip-path=\"url(#clip8501)\" style=\"stroke:#000000; stroke-width:4; stroke-opacity:1; fill:none\" points=\"\n",
       "  2263.29,1503.47 2263.29,1481.63 \n",
       "  \"/>\n",
       "<polyline clip-path=\"url(#clip8501)\" style=\"stroke:#000000; stroke-width:4; stroke-opacity:1; fill:none\" points=\"\n",
       "  174.775,1398.17 206.972,1398.17 \n",
       "  \"/>\n",
       "<polyline clip-path=\"url(#clip8501)\" style=\"stroke:#000000; stroke-width:4; stroke-opacity:1; fill:none\" points=\"\n",
       "  174.775,1197.26 206.972,1197.26 \n",
       "  \"/>\n",
       "<polyline clip-path=\"url(#clip8501)\" style=\"stroke:#000000; stroke-width:4; stroke-opacity:1; fill:none\" points=\"\n",
       "  174.775,996.357 206.972,996.357 \n",
       "  \"/>\n",
       "<polyline clip-path=\"url(#clip8501)\" style=\"stroke:#000000; stroke-width:4; stroke-opacity:1; fill:none\" points=\"\n",
       "  174.775,795.45 206.972,795.45 \n",
       "  \"/>\n",
       "<polyline clip-path=\"url(#clip8501)\" style=\"stroke:#000000; stroke-width:4; stroke-opacity:1; fill:none\" points=\"\n",
       "  174.775,594.543 206.972,594.543 \n",
       "  \"/>\n",
       "<polyline clip-path=\"url(#clip8501)\" style=\"stroke:#000000; stroke-width:4; stroke-opacity:1; fill:none\" points=\"\n",
       "  174.775,393.636 206.972,393.636 \n",
       "  \"/>\n",
       "<polyline clip-path=\"url(#clip8501)\" style=\"stroke:#000000; stroke-width:4; stroke-opacity:1; fill:none\" points=\"\n",
       "  174.775,192.729 206.972,192.729 \n",
       "  \"/>\n",
       "<g clip-path=\"url(#clip8501)\">\n",
       "<text style=\"fill:#000000; fill-opacity:1; font-family:Arial,Helvetica Neue,Helvetica,sans-serif; font-size:48px; text-anchor:middle;\" transform=\"rotate(0, 229.962, 1557.47)\" x=\"229.962\" y=\"1557.47\">2000-01-01</text>\n",
       "</g>\n",
       "<g clip-path=\"url(#clip8501)\">\n",
       "<text style=\"fill:#000000; fill-opacity:1; font-family:Arial,Helvetica Neue,Helvetica,sans-serif; font-size:48px; text-anchor:middle;\" transform=\"rotate(0, 1248.02, 1557.47)\" x=\"1248.02\" y=\"1557.47\">2001-01-01</text>\n",
       "</g>\n",
       "<g clip-path=\"url(#clip8501)\">\n",
       "<text style=\"fill:#000000; fill-opacity:1; font-family:Arial,Helvetica Neue,Helvetica,sans-serif; font-size:48px; text-anchor:middle;\" transform=\"rotate(0, 2263.29, 1557.47)\" x=\"2263.29\" y=\"1557.47\">2002-01-01</text>\n",
       "</g>\n",
       "<g clip-path=\"url(#clip8501)\">\n",
       "<text style=\"fill:#000000; fill-opacity:1; font-family:Arial,Helvetica Neue,Helvetica,sans-serif; font-size:48px; text-anchor:end;\" transform=\"rotate(0, 150.775, 1415.67)\" x=\"150.775\" y=\"1415.67\">20</text>\n",
       "</g>\n",
       "<g clip-path=\"url(#clip8501)\">\n",
       "<text style=\"fill:#000000; fill-opacity:1; font-family:Arial,Helvetica Neue,Helvetica,sans-serif; font-size:48px; text-anchor:end;\" transform=\"rotate(0, 150.775, 1214.76)\" x=\"150.775\" y=\"1214.76\">40</text>\n",
       "</g>\n",
       "<g clip-path=\"url(#clip8501)\">\n",
       "<text style=\"fill:#000000; fill-opacity:1; font-family:Arial,Helvetica Neue,Helvetica,sans-serif; font-size:48px; text-anchor:end;\" transform=\"rotate(0, 150.775, 1013.86)\" x=\"150.775\" y=\"1013.86\">60</text>\n",
       "</g>\n",
       "<g clip-path=\"url(#clip8501)\">\n",
       "<text style=\"fill:#000000; fill-opacity:1; font-family:Arial,Helvetica Neue,Helvetica,sans-serif; font-size:48px; text-anchor:end;\" transform=\"rotate(0, 150.775, 812.95)\" x=\"150.775\" y=\"812.95\">80</text>\n",
       "</g>\n",
       "<g clip-path=\"url(#clip8501)\">\n",
       "<text style=\"fill:#000000; fill-opacity:1; font-family:Arial,Helvetica Neue,Helvetica,sans-serif; font-size:48px; text-anchor:end;\" transform=\"rotate(0, 150.775, 612.043)\" x=\"150.775\" y=\"612.043\">100</text>\n",
       "</g>\n",
       "<g clip-path=\"url(#clip8501)\">\n",
       "<text style=\"fill:#000000; fill-opacity:1; font-family:Arial,Helvetica Neue,Helvetica,sans-serif; font-size:48px; text-anchor:end;\" transform=\"rotate(0, 150.775, 411.136)\" x=\"150.775\" y=\"411.136\">120</text>\n",
       "</g>\n",
       "<g clip-path=\"url(#clip8501)\">\n",
       "<text style=\"fill:#000000; fill-opacity:1; font-family:Arial,Helvetica Neue,Helvetica,sans-serif; font-size:48px; text-anchor:end;\" transform=\"rotate(0, 150.775, 210.229)\" x=\"150.775\" y=\"210.229\">140</text>\n",
       "</g>\n",
       "<polyline clip-path=\"url(#clip8503)\" style=\"stroke:#009af9; stroke-width:4; stroke-opacity:1; fill:none\" points=\"\n",
       "  235.525,468.976 238.306,487.861 241.088,488.464 243.869,524.226 246.651,584.498 254.996,571.941 257.777,600.771 260.559,639.747 263.341,607.1 266.122,571.941 \n",
       "  277.248,534.271 280.03,506.646 282.812,378.568 285.593,451.397 293.938,466.465 296.719,462.748 299.501,451.999 302.283,463.953 305.064,485.25 313.409,555.567 \n",
       "  316.19,544.316 318.972,573.247 321.754,551.85 324.535,494.09 332.88,451.397 335.661,432.612 338.443,422.567 341.225,455.114 344.006,452.703 352.351,435.023 \n",
       "  355.132,394.239 357.914,412.521 360.696,438.84 363.477,440.046 374.603,424.375 377.385,403.681 380.167,402.476 382.948,423.772 391.293,443.863 394.074,421.261 \n",
       "  396.856,272.489 399.638,313.876 402.419,310.963 410.764,302.022 413.545,318.899 416.327,354.057 419.109,343.409 421.89,313.876 430.235,328.341 433.016,350.943 \n",
       "  435.798,391.125 438.58,373.545 441.361,343.409 449.706,330.853 452.488,225.376 455.269,148.73 458.051,88.4582 460.832,153.15 469.177,145.014 471.959,172.638 \n",
       "  474.74,198.354 477.522,215.934 480.303,220.354 488.648,197.752 491.43,263.046 494.211,264.252 496.993,247.978 499.774,274.297 508.119,265.558 510.901,344.615 \n",
       "  513.682,403.681 516.464,393.636 519.245,413.727 527.59,354.057 530.372,324.524 533.153,290.671 535.935,345.921 547.061,388.613 549.843,305.739 552.624,313.273 \n",
       "  555.406,323.319 558.187,318.296 566.532,342.204 569.314,330.853 572.095,381.079 574.877,441.351 577.658,446.374 586.003,457.022 588.785,481.533 591.566,544.316 \n",
       "  594.348,551.85 597.129,489.067 605.474,513.578 608.256,503.532 611.037,557.476 613.819,544.919 616.6,602.077 624.945,657.327 627.727,661.043 630.508,697.508 \n",
       "  633.29,668.276 636.071,696.202 647.198,713.882 649.979,682.44 652.761,699.417 655.542,597.054 663.887,642.258 666.669,627.19 669.45,624.679 672.232,609.611 \n",
       "  675.013,615.236 683.358,630.305 686.14,647.884 688.921,632.213 691.703,661.043 694.484,657.327 702.829,615.839 705.611,554.964 708.392,1027.1 711.174,1020.27 \n",
       "  713.955,1050.4 722.3,1049.1 725.082,1041.56 727.863,1042.77 730.645,1057.23 733.426,1047.19 741.771,1053.52 747.334,1044.68 750.116,1067.28 752.897,1048.49 \n",
       "  761.242,1013.94 764.024,1003.89 766.805,1007.01 769.587,990.129 772.368,1006.4 780.713,1008.31 783.495,1007.61 786.276,1028.4 789.058,1025.89 791.839,1040.36 \n",
       "  800.184,1067.88 802.966,1090.58 805.747,1084.25 808.529,1064.16 811.31,1071.7 819.655,1080.54 822.437,1085.16 825.218,1097.41 828,1116.3 830.782,1084.25 \n",
       "  839.126,1106.25 841.908,1116.9 844.689,1112.48 847.471,1112.48 850.253,1116.9 858.597,1120.02 861.379,1117.5 864.16,1106.86 866.942,1072.3 869.724,1078.63 \n",
       "  878.068,1081.14 880.85,1068.58 883.631,1049.1 886.413,1030.31 889.195,1021.47 897.539,1006.4 900.321,1001.98 903.102,996.357 905.884,981.289 908.666,959.993 \n",
       "  919.792,954.97 922.573,972.449 925.355,970.641 928.137,980.084 936.481,992.54 939.263,995.754 942.044,1001.38 944.826,1000.17 947.608,1014.54 955.952,988.823 \n",
       "  958.734,991.335 961.515,981.892 964.297,1000.17 967.079,1072.3 975.423,1041.56 978.205,1049.1 980.986,1069.19 983.768,1058.54 986.55,1307.76 994.894,1330.37 \n",
       "  997.676,1347.94 1000.46,1360.5 1003.24,1352.97 1006.02,1368.64 1014.37,1369.24 1017.15,1373.66 1019.93,1388.13 1022.71,1390.03 1025.49,1376.88 1033.84,1365.52 \n",
       "  1036.62,1378.68 1039.4,1387.52 1042.18,1400.08 1044.96,1394.35 1053.31,1392.55 1056.09,1389.33 1058.87,1406.31 1061.65,1409.42 1064.43,1406.31 1072.78,1398.77 \n",
       "  1075.56,1395.66 1078.34,1389.33 1081.12,1373.66 1083.9,1368.04 1092.25,1371.85 1095.03,1379.99 1097.81,1383.71 1100.59,1393.15 1103.38,1399.38 1111.72,1398.17 \n",
       "  1114.5,1393.15 1117.28,1396.26 1120.07,1400.08 1122.85,1405.71 1131.19,1403.19 1133.97,1403.19 1136.75,1407.01 1142.32,1403.19 1150.66,1398.77 1153.44,1408.22 \n",
       "  1156.23,1415.15 1159.01,1428.31 1161.79,1423.28 1170.13,1426.4 1172.92,1423.89 1175.7,1448.4 1178.48,1449.6 1181.26,1445.28 1189.6,1444.58 1192.39,1438.35 \n",
       "  1195.17,1442.77 1197.95,1445.89 1200.73,1451.51 1209.08,1452.22 1211.86,1445.89 1214.64,1452.22 1217.42,1448.4 1220.2,1448.4 1231.33,1448.4 1234.11,1450.31 \n",
       "  1236.89,1449 1239.67,1448.4 1250.8,1445.89 1253.58,1431.42 1256.36,1413.24 1259.14,1424.49 1267.49,1428.51 1270.27,1421.88 1273.05,1428.31 1275.83,1413.24 \n",
       "  1278.61,1418.26 1289.74,1415.75 1292.52,1422.68 1295.3,1410.73 1298.09,1402.59 1306.43,1401.99 1309.21,1388.73 1311.99,1391.24 1314.78,1392.55 1317.56,1400.08 \n",
       "  1325.9,1380.59 1328.68,1378.08 1331.46,1373.06 1334.25,1383.1 1337.03,1378.68 1345.37,1392.55 1348.15,1384.21 1350.94,1389.33 1353.72,1387.52 1356.5,1390.03 \n",
       "  1364.84,1398.17 1367.63,1393.75 1370.41,1401.99 1373.19,1392.55 1375.97,1403.19 1387.1,1403.8 1389.88,1398.77 1392.66,1404.4 1395.44,1409.42 1403.79,1401.29 \n",
       "  1406.57,1403.8 1409.35,1403.8 1412.13,1410.73 1414.91,1393.75 1423.26,1393.15 1426.04,1377.48 1428.82,1381.9 1431.6,1386.92 1434.38,1391.24 1442.73,1399.38 \n",
       "  1445.51,1402.59 1448.29,1393.15 1451.07,1384.31 1453.85,1395.06 1462.2,1391.94 1464.98,1388.73 1467.76,1389.33 1470.54,1380.59 1473.32,1362.41 1481.67,1360.5 \n",
       "  1484.45,1367.53 1487.23,1373.06 1490.01,1363.51 1492.8,1370.85 1501.14,1371.45 1503.92,1384.11 1506.7,1395.66 1509.49,1373.06 1512.27,1387.72 1520.61,1384.71 \n",
       "  1523.39,1371.05 1526.17,1368.04 1528.96,1367.83 1540.08,1374.06 1542.86,1386.02 1545.65,1357.19 1548.43,1340.41 1551.21,1341.62 1559.55,1347.94 1562.34,1350.46 \n",
       "  1565.12,1349.35 1567.9,1336.89 1570.68,1334.99 1579.02,1326.65 1581.81,1332.88 1584.59,1330.87 1587.37,1335.39 1590.15,1339.41 1598.5,1340.31 1601.28,1343.42 \n",
       "  1604.06,1352.46 1606.84,1352.97 1609.62,1363.11 1617.97,1361.2 1620.75,1342.92 1623.53,1352.97 1626.31,1354.67 1629.09,1361.61 1637.44,1358.89 1640.22,1356.68 \n",
       "  1643,1360.5 1645.78,1365.02 1648.56,1365.12 1659.69,1373.06 1662.47,1390.54 1665.25,1395.76 1668.04,1387.22 1676.38,1387.02 1679.16,1387.12 1681.94,1388.83 \n",
       "  1684.72,1381.09 1687.51,1381.6 1695.85,1387.42 1698.63,1391.24 1701.41,1380.79 1704.2,1393.65 1706.98,1390.64 1715.32,1389.63 1718.1,1384.11 1720.89,1379.59 \n",
       "  1723.67,1368.04 1726.45,1368.04 1734.79,1357.99 1737.57,1360.3 1740.36,1357.99 1743.14,1358.89 1745.92,1346.94 1754.26,1355.68 1757.05,1356.18 1762.61,1360.3 \n",
       "  1765.39,1368.44 1773.73,1368.04 1776.52,1367.33 1779.3,1372.56 1782.08,1349.85 1784.86,1347.84 1793.21,1346.94 1795.99,1345.73 1798.77,1370.25 1801.55,1383.91 \n",
       "  1804.33,1397.57 1812.68,1393.15 1815.46,1398.97 1818.24,1405.2 1821.02,1410.23 1823.8,1405.71 1832.15,1404.6 1834.93,1404 1837.71,1400.38 1840.49,1399.48 \n",
       "  1843.27,1399.18 1851.62,1401.59 1854.4,1401.49 1857.18,1401.18 1859.96,1406.71 1862.75,1405 1871.09,1404.9 1873.87,1404.6 1876.65,1408.82 1879.43,1410.73 \n",
       "  1882.22,1413.74 1890.56,1415.95 1893.34,1416.86 1896.12,1415.75 1898.91,1414.85 1901.69,1412.03 1910.03,1405.2 1912.81,1406.81 1915.6,1409.92 1918.38,1416.45 \n",
       "  1921.16,1412.23 1932.28,1407.41 1935.07,1408.72 1937.85,1408.92 1940.63,1417.26 1948.97,1423.28 1968.45,1427.6 1971.23,1421.07 1974.01,1427.3 1976.79,1428.81 \n",
       "  1979.57,1435.84 1987.92,1429.91 1990.7,1436.14 1993.48,1439.46 1996.26,1440.86 1999.04,1439.26 2007.39,1438.45 2010.17,1440.06 2012.95,1444.78 2015.73,1435.84 \n",
       "  2018.51,1436.85 2026.86,1434.84 2029.64,1436.34 2032.42,1429.81 2035.2,1420.87 2037.98,1417.46 2046.33,1414.44 2049.11,1416.25 2051.89,1414.14 2054.67,1415.95 \n",
       "  2057.46,1414.24 2065.8,1407.51 2068.58,1404 2071.36,1407.31 2074.14,1405.71 2076.93,1405.71 2085.27,1411.53 2088.05,1418.26 2090.83,1414.24 2093.62,1410.43 \n",
       "  2096.4,1409.62 2104.74,1405.71 2107.52,1401.99 2110.31,1396.87 2113.09,1399.28 2115.87,1405.71 2124.21,1406.51 2126.99,1404.3 2129.78,1399.18 2132.56,1399.18 \n",
       "  2135.34,1405.3 2143.68,1397.67 2146.47,1396.16 2149.25,1400.18 2154.81,1398.67 2163.16,1382.6 2165.94,1382.9 2168.72,1386.02 2171.5,1391.14 2174.28,1383.71 \n",
       "  2182.63,1385.31 2185.41,1372.46 2188.19,1357.69 2190.97,1363.01 2193.75,1370.95 2202.1,1368.14 2204.88,1369.54 2207.66,1378.88 2210.44,1382.6 2213.22,1389.83 \n",
       "  2221.57,1388.13 2224.35,1384.81 2227.13,1381.3 2229.91,1383.4 2232.69,1382.7 2241.04,1383.61 2246.6,1375.07 2249.38,1375.57 2252.17,1368.04 2260.51,1371.45 \n",
       "  \n",
       "  \"/>\n",
       "<polyline clip-path=\"url(#clip8503)\" style=\"stroke:#e26f46; stroke-width:4; stroke-opacity:1; fill:none\" points=\"\n",
       "  235.525,577.566 238.306,582.589 241.088,564.407 243.869,644.77 246.651,639.747 254.996,647.281 257.777,689.974 260.559,730.155 263.341,669.883 266.122,600.771 \n",
       "  277.248,590.123 280.03,560.59 282.812,458.931 285.593,492.181 293.938,543.111 296.719,570.635 299.501,496.601 302.283,524.226 305.064,588.315 313.409,649.792 \n",
       "  316.19,594.543 318.972,624.679 321.754,592.032 324.535,558.179 332.88,534.874 335.661,481.533 338.443,469.579 341.225,494.09 344.006,511.669 352.351,507.952 \n",
       "  355.132,441.954 357.914,472.793 360.696,462.748 363.477,485.25 374.603,527.34 377.385,484.044 380.167,476.51 382.948,492.884 391.293,510.363 394.074,468.373 \n",
       "  396.856,408.704 399.638,386.705 402.419,393.636 410.764,343.409 413.545,382.385 416.327,408.101 419.109,411.215 421.89,383.591 430.235,398.659 433.016,453.908 \n",
       "  435.798,452.703 438.58,448.885 441.361,397.453 449.706,369.728 452.488,377.363 455.269,277.512 458.051,192.729 460.832,237.933 469.177,224.07 471.959,221.66 \n",
       "  474.74,254.709 477.522,338.989 480.303,333.364 488.648,298.808 491.43,426.283 494.211,353.455 496.993,360.989 499.774,338.387 508.119,345.921 510.901,413.124 \n",
       "  513.682,545.522 516.464,509.158 519.245,504.135 527.59,503.532 530.372,399.864 533.153,396.147 535.935,423.169 547.061,446.374 549.843,372.943 552.624,393.636 \n",
       "  555.406,427.991 558.187,380.477 566.532,374.751 569.314,418.749 572.095,477.816 574.877,488.464 577.658,486.857 586.003,494.09 588.785,545.522 591.566,607.1 \n",
       "  594.348,604.588 597.129,546.627 605.474,593.338 608.256,566.918 611.037,590.726 613.819,588.315 616.6,661.043 624.945,735.178 627.727,738.995 630.508,765.314 \n",
       "  633.29,735.178 636.071,742.712 647.198,777.871 649.979,757.177 652.761,791.633 655.542,705.042 663.887,698.111 666.669,691.883 669.45,678.723 672.232,663.655 \n",
       "  675.013,650.998 683.358,686.157 686.14,713.179 688.921,693.791 691.703,705.042 694.484,704.439 702.829,696.905 705.611,610.817 708.392,1093.7 711.174,1061.05 \n",
       "  713.955,1088.67 722.3,1075.51 725.082,1080.54 727.863,1081.74 730.645,1086.16 733.426,1079.83 741.771,1075.51 747.334,1089.28 750.116,1100.63 752.897,1075.51 \n",
       "  761.242,1059.14 764.024,1042.16 766.805,1032.72 769.587,1049.1 772.368,1027.7 780.713,1025.29 783.495,1027.7 786.276,1079.23 789.058,1055.42 791.839,1067.28 \n",
       "  800.184,1121.92 802.966,1106.25 805.747,1104.34 808.529,1098.02 811.31,1128.15 819.655,1109.37 822.437,1104.34 825.218,1125.04 828,1154.57 830.782,1133.88 \n",
       "  839.126,1125.04 841.908,1133.88 844.689,1124.44 847.471,1123.13 850.253,1141.41 858.597,1133.88 861.379,1131.97 864.16,1128.86 866.942,1113.79 869.724,1098.02 \n",
       "  878.068,1100.63 880.85,1092.99 883.631,1086.16 886.413,1062.86 889.195,1032.72 897.539,1025.89 900.321,1019.56 903.102,1009.42 905.884,1007.01 908.666,985.106 \n",
       "  919.792,973.755 922.573,1018.96 925.355,1013.94 928.137,1011.43 936.481,1015.24 939.263,1026.49 942.044,1029 944.826,1028.4 947.608,1054.12 955.952,1045.98 \n",
       "  958.734,1010.82 961.515,1010.82 964.297,1044.07 967.079,1096.81 975.423,1076.12 978.205,1082.95 980.986,1114.39 983.768,1115.7 986.55,1344.13 994.894,1363.01 \n",
       "  997.676,1376.17 1000.46,1379.29 1003.24,1378.08 1006.02,1388.13 1014.37,1386.92 1017.15,1393.15 1019.93,1407.01 1022.71,1403.19 1025.49,1398.17 1033.84,1384.31 \n",
       "  1036.62,1401.29 1039.4,1410.73 1042.18,1415.15 1044.96,1408.82 1053.31,1403.8 1056.09,1410.13 1058.87,1413.84 1061.65,1423.28 1064.43,1419.47 1072.78,1410.73 \n",
       "  1075.56,1405.71 1078.34,1403.8 1081.12,1387.52 1083.9,1378.68 1092.25,1389.33 1095.03,1390.03 1097.81,1400.08 1100.59,1407.61 1103.38,1407.61 1111.72,1415.75 \n",
       "  1114.5,1402.59 1117.28,1405.71 1120.07,1409.42 1122.85,1415.75 1131.19,1415.75 1133.97,1410.73 1136.75,1414.44 1142.32,1410.13 1150.66,1413.24 1153.44,1418.86 \n",
       "  1156.23,1425.8 1159.01,1437.15 1161.79,1430.22 1170.13,1433.93 1172.92,1434.54 1175.7,1458.44 1178.48,1458.44 1181.26,1454.02 1189.6,1449.6 1192.39,1448.4 \n",
       "  1195.17,1449.6 1197.95,1454.02 1200.73,1458.44 1209.08,1459.05 1211.86,1458.44 1214.64,1462.26 1217.42,1459.65 1220.2,1457.24 1231.33,1455.93 1234.11,1456.53 \n",
       "  1236.89,1455.33 1239.67,1453.42 1250.8,1452.82 1253.58,1454.02 1256.36,1430.22 1259.14,1437.75 1267.49,1438.96 1270.27,1432.73 1273.05,1437.75 1275.83,1435.84 \n",
       "  1278.61,1427.7 1289.74,1428.31 1292.52,1433.33 1295.3,1422.08 1298.09,1411.33 1306.43,1413.84 1309.21,1407.61 1311.99,1402.59 1314.78,1400.68 1317.56,1407.61 \n",
       "  1325.9,1402.59 1328.68,1389.33 1331.46,1383.71 1334.25,1393.15 1337.03,1393.15 1345.37,1400.68 1348.15,1398.17 1350.94,1400.08 1353.72,1396.26 1356.5,1411.33 \n",
       "  1364.84,1410.13 1367.63,1408.22 1370.41,1413.24 1373.19,1401.29 1375.97,1410.73 1387.1,1416.35 1389.88,1415.75 1392.66,1418.26 1395.44,1415.75 1403.79,1412.64 \n",
       "  1406.57,1411.33 1409.35,1417.06 1412.13,1426.4 1414.91,1415.75 1423.26,1405.71 1426.04,1391.24 1428.82,1390.64 1431.6,1393.75 1434.38,1398.17 1442.73,1417.06 \n",
       "  1445.51,1416.35 1448.29,1413.84 1451.07,1401.29 1453.85,1409.42 1462.2,1403.19 1464.98,1401.29 1467.76,1404.4 1470.54,1396.26 1473.32,1378.08 1481.67,1386.82 \n",
       "  1484.45,1379.09 1487.23,1383.1 1490.01,1383.1 1492.8,1384.71 1501.14,1384.11 1503.92,1396.87 1506.7,1410.73 1509.49,1398.17 1512.27,1399.18 1520.61,1397.57 \n",
       "  1523.39,1390.34 1526.17,1385.31 1528.96,1386.62 1540.08,1389.53 1542.86,1402.19 1545.65,1387.32 1548.43,1362.01 1551.21,1351.96 1559.55,1357.99 1562.34,1362.91 \n",
       "  1565.12,1362.31 1567.9,1351.16 1570.68,1350.46 1579.02,1349.25 1581.81,1345.94 1584.59,1340.31 1587.37,1350.66 1590.15,1358.39 1598.5,1349.55 1601.28,1358.49 \n",
       "  1604.06,1361.3 1606.84,1368.54 1609.62,1370.45 1617.97,1370.55 1620.75,1367.63 1623.53,1369.54 1626.31,1365.52 1629.09,1366.83 1637.44,1367.53 1640.22,1364.02 \n",
       "  1643,1369.44 1645.78,1371.85 1648.56,1373.06 1659.69,1390.03 1662.47,1405.2 1665.25,1403.29 1668.04,1398.37 1676.38,1393.55 1679.16,1394.66 1681.94,1394.86 \n",
       "  1684.72,1393.65 1687.51,1391.04 1695.85,1398.67 1698.63,1400.58 1701.41,1397.57 1704.2,1400.48 1706.98,1404.7 1715.32,1398.17 1718.1,1398.07 1720.89,1398.37 \n",
       "  1723.67,1387.12 1726.45,1380.49 1734.79,1373.56 1737.57,1367.93 1740.36,1373.06 1743.14,1368.64 1745.92,1366.03 1754.26,1366.63 1757.05,1363.01 1762.61,1367.93 \n",
       "  1765.39,1380.89 1773.73,1381.3 1776.52,1389.73 1779.3,1388.13 1782.08,1365.02 1784.86,1359.6 1793.21,1358.89 1795.99,1367.93 1798.77,1393.95 1801.55,1400.68 \n",
       "  1804.33,1403.29 1812.68,1403.09 1815.46,1410.93 1818.24,1418.56 1821.02,1419.77 1823.8,1413.24 1832.15,1413.14 1834.93,1413.14 1837.71,1408.72 1840.49,1405.6 \n",
       "  1843.27,1408.22 1851.62,1408.22 1854.4,1408.42 1857.18,1412.84 1859.96,1411.03 1862.75,1412.34 1871.09,1410.63 1873.87,1411.53 1876.65,1416.25 1879.43,1418.56 \n",
       "  1882.22,1418.36 1890.56,1420.17 1893.34,1421.28 1896.12,1422.18 1898.91,1422.48 1901.69,1421.78 1910.03,1416.65 1912.81,1414.24 1915.6,1419.97 1918.38,1425.49 \n",
       "  1921.16,1421.78 1932.28,1416.45 1935.07,1417.06 1937.85,1421.78 1940.63,1426.3 1948.97,1429.11 1968.45,1441.06 1971.23,1436.65 1974.01,1442.37 1976.79,1443.38 \n",
       "  1979.57,1451.61 1987.92,1438.85 1990.7,1444.88 1993.48,1449.1 1996.26,1446.39 1999.04,1444.48 2007.39,1446.09 2010.17,1449.6 2012.95,1450.11 2015.73,1448.5 \n",
       "  2018.51,1448.5 2026.86,1443.38 2029.64,1442.07 2032.42,1438.85 2035.2,1429.81 2037.98,1429.71 2046.33,1418.76 2049.11,1420.57 2051.89,1428.71 2054.67,1425.39 \n",
       "  2057.46,1419.47 2065.8,1417.36 2068.58,1419.57 2071.36,1420.77 2074.14,1416.65 2076.93,1412.03 2085.27,1422.28 2088.05,1427.7 2090.83,1423.89 2093.62,1425.8 \n",
       "  2096.4,1416.65 2104.74,1412.13 2107.52,1412.94 2110.31,1404.9 2113.09,1412.54 2115.87,1412.74 2124.21,1418.66 2126.99,1411.13 2129.78,1406.71 2132.56,1405.91 \n",
       "  2135.34,1414.24 2143.68,1408.62 2146.47,1403.19 2149.25,1405.6 2154.81,1402.49 2163.16,1399.38 2165.94,1393.15 2168.72,1394.05 2171.5,1396.26 2174.28,1395.66 \n",
       "  2182.63,1392.14 2185.41,1390.94 2188.19,1376.37 2190.97,1376.67 2193.75,1378.08 2202.1,1375.77 2204.88,1381.6 2207.66,1385.61 2210.44,1393.15 2213.22,1397.27 \n",
       "  2221.57,1396.26 2224.35,1395.96 2227.13,1393.45 2229.91,1391.94 2232.69,1390.14 2241.04,1389.13 2246.6,1386.72 2249.38,1382.3 2252.17,1378.48 2260.51,1379.79 \n",
       "  \n",
       "  \"/>\n",
       "<polyline clip-path=\"url(#clip8503)\" style=\"stroke:#3da44d; stroke-width:4; stroke-opacity:1; fill:none\" points=\"\n",
       "  235.525,577.566 238.306,582.589 241.088,564.407 243.869,644.77 246.651,639.747 254.996,647.281 257.777,689.974 260.559,730.155 263.341,669.883 266.122,600.771 \n",
       "  277.248,590.123 280.03,560.59 282.812,458.931 285.593,492.181 293.938,543.111 296.719,570.635 299.501,496.601 302.283,524.226 305.064,588.315 313.409,649.792 \n",
       "  316.19,594.543 318.972,624.679 321.754,592.032 324.535,558.179 332.88,534.874 335.661,481.533 338.443,469.579 341.225,494.09 344.006,511.669 352.351,507.952 \n",
       "  355.132,441.954 357.914,472.793 360.696,462.748 363.477,485.25 374.603,527.34 377.385,484.044 380.167,476.51 382.948,492.884 391.293,510.363 394.074,468.373 \n",
       "  396.856,408.704 399.638,386.705 402.419,393.636 410.764,343.409 413.545,382.385 416.327,408.101 419.109,411.215 421.89,383.591 430.235,398.659 433.016,453.908 \n",
       "  435.798,452.703 438.58,448.885 441.361,397.453 449.706,369.728 452.488,377.363 455.269,277.512 458.051,192.729 460.832,237.933 469.177,224.07 471.959,221.66 \n",
       "  474.74,254.709 477.522,338.989 480.303,333.364 488.648,298.808 491.43,426.283 494.211,353.455 496.993,360.989 499.774,338.387 508.119,345.921 510.901,413.124 \n",
       "  513.682,545.522 516.464,509.158 519.245,504.135 527.59,503.532 530.372,399.864 533.153,396.147 535.935,423.169 547.061,446.374 549.843,372.943 552.624,393.636 \n",
       "  555.406,427.991 558.187,380.477 566.532,374.751 569.314,418.749 572.095,477.816 574.877,488.464 577.658,486.857 586.003,494.09 588.785,545.522 591.566,607.1 \n",
       "  594.348,604.588 597.129,546.627 605.474,593.338 608.256,566.918 611.037,590.726 613.819,588.315 616.6,661.043 624.945,735.178 627.727,738.995 630.508,765.314 \n",
       "  633.29,735.178 636.071,742.712 647.198,777.871 649.979,757.177 652.761,791.633 655.542,705.042 663.887,698.111 666.669,691.883 669.45,678.723 672.232,663.655 \n",
       "  675.013,650.998 683.358,686.157 686.14,713.179 688.921,693.791 691.703,705.042 694.484,704.439 702.829,696.905 705.611,610.817 708.392,1093.7 711.174,1061.05 \n",
       "  713.955,1088.67 722.3,1075.51 725.082,1080.54 727.863,1081.74 730.645,1086.16 733.426,1079.83 741.771,1075.51 747.334,1089.28 750.116,1100.63 752.897,1075.51 \n",
       "  761.242,1059.14 764.024,1042.16 766.805,1032.72 769.587,1049.1 772.368,1027.7 780.713,1025.29 783.495,1027.7 786.276,1079.23 789.058,1055.42 791.839,1067.28 \n",
       "  800.184,1121.92 802.966,1106.25 805.747,1104.34 808.529,1098.02 811.31,1128.15 819.655,1109.37 822.437,1104.34 825.218,1125.04 828,1154.57 830.782,1133.88 \n",
       "  839.126,1125.04 841.908,1133.88 844.689,1124.44 847.471,1123.13 850.253,1141.41 858.597,1133.88 861.379,1131.97 864.16,1128.86 866.942,1113.79 869.724,1098.02 \n",
       "  878.068,1100.63 880.85,1092.99 883.631,1086.16 886.413,1062.86 889.195,1032.72 897.539,1025.89 900.321,1019.56 903.102,1009.42 905.884,1007.01 908.666,985.106 \n",
       "  919.792,973.755 922.573,1018.96 925.355,1013.94 928.137,1011.43 936.481,1015.24 939.263,1026.49 942.044,1029 944.826,1028.4 947.608,1054.12 955.952,1045.98 \n",
       "  958.734,1010.82 961.515,1010.82 964.297,1044.07 967.079,1096.81 975.423,1076.12 978.205,1082.95 980.986,1114.39 983.768,1115.7 986.55,1344.13 994.894,1363.01 \n",
       "  997.676,1376.17 1000.46,1379.29 1003.24,1378.08 1006.02,1388.13 1014.37,1386.92 1017.15,1393.15 1019.93,1407.01 1022.71,1403.19 1025.49,1398.17 1033.84,1384.31 \n",
       "  1036.62,1401.29 1039.4,1410.73 1042.18,1415.15 1044.96,1408.82 1053.31,1403.8 1056.09,1410.13 1058.87,1413.84 1061.65,1423.28 1064.43,1419.47 1072.78,1410.73 \n",
       "  1075.56,1405.71 1078.34,1403.8 1081.12,1387.52 1083.9,1378.68 1092.25,1389.33 1095.03,1390.03 1097.81,1400.08 1100.59,1407.61 1103.38,1407.61 1111.72,1415.75 \n",
       "  1114.5,1402.59 1117.28,1405.71 1120.07,1409.42 1122.85,1415.75 1131.19,1415.75 1133.97,1410.73 1136.75,1414.44 1142.32,1410.13 1150.66,1413.24 1153.44,1418.86 \n",
       "  1156.23,1425.8 1159.01,1437.15 1161.79,1430.22 1170.13,1433.93 1172.92,1434.54 1175.7,1458.44 1178.48,1458.44 1181.26,1454.02 1189.6,1449.6 1192.39,1448.4 \n",
       "  1195.17,1449.6 1197.95,1454.02 1200.73,1458.44 1209.08,1459.05 1211.86,1458.44 1214.64,1462.26 1217.42,1459.65 1220.2,1457.24 1231.33,1455.93 1234.11,1456.53 \n",
       "  1236.89,1455.33 1239.67,1453.42 1250.8,1452.82 1253.58,1454.02 1256.36,1430.22 1259.14,1437.75 1267.49,1438.96 1270.27,1432.73 1273.05,1437.75 1275.83,1435.84 \n",
       "  1278.61,1427.7 1289.74,1428.31 1292.52,1433.33 1295.3,1422.08 1298.09,1411.33 1306.43,1413.84 1309.21,1407.61 1311.99,1402.59 1314.78,1400.68 1317.56,1407.61 \n",
       "  1325.9,1402.59 1328.68,1389.33 1331.46,1383.71 1334.25,1393.15 1337.03,1393.15 1345.37,1400.68 1348.15,1398.17 1350.94,1400.08 1353.72,1396.26 1356.5,1411.33 \n",
       "  1364.84,1410.13 1367.63,1408.22 1370.41,1413.24 1373.19,1401.29 1375.97,1410.73 1387.1,1416.35 1389.88,1415.75 1392.66,1418.26 1395.44,1415.75 1403.79,1412.64 \n",
       "  1406.57,1411.33 1409.35,1417.06 1412.13,1426.4 1414.91,1415.75 1423.26,1405.71 1426.04,1391.24 1428.82,1390.64 1431.6,1393.75 1434.38,1398.17 1442.73,1417.06 \n",
       "  1445.51,1416.35 1448.29,1413.84 1451.07,1401.29 1453.85,1409.42 1462.2,1403.19 1464.98,1401.29 1467.76,1404.4 1470.54,1396.26 1473.32,1378.08 1481.67,1386.82 \n",
       "  1484.45,1379.09 1487.23,1383.1 1490.01,1383.1 1492.8,1384.71 1501.14,1384.11 1503.92,1396.87 1506.7,1410.73 1509.49,1398.17 1512.27,1399.18 1520.61,1397.57 \n",
       "  1523.39,1390.34 1526.17,1385.31 1528.96,1386.62 1540.08,1389.53 1542.86,1402.19 1545.65,1387.32 1548.43,1362.01 1551.21,1351.96 1559.55,1357.99 1562.34,1362.91 \n",
       "  1565.12,1362.31 1567.9,1351.16 1570.68,1350.46 1579.02,1349.25 1581.81,1345.94 1584.59,1340.31 1587.37,1350.66 1590.15,1358.39 1598.5,1349.55 1601.28,1358.49 \n",
       "  1604.06,1361.3 1606.84,1368.54 1609.62,1370.45 1617.97,1370.55 1620.75,1367.63 1623.53,1369.54 1626.31,1365.52 1629.09,1366.83 1637.44,1367.53 1640.22,1364.02 \n",
       "  1643,1369.44 1645.78,1371.85 1648.56,1373.06 1659.69,1390.03 1662.47,1405.2 1665.25,1403.29 1668.04,1398.37 1676.38,1393.55 1679.16,1394.66 1681.94,1394.86 \n",
       "  1684.72,1393.65 1687.51,1391.04 1695.85,1398.67 1698.63,1400.58 1701.41,1397.57 1704.2,1400.48 1706.98,1404.7 1715.32,1398.17 1718.1,1398.07 1720.89,1398.37 \n",
       "  1723.67,1387.12 1726.45,1380.49 1734.79,1373.56 1737.57,1367.93 1740.36,1373.06 1743.14,1368.64 1745.92,1366.03 1754.26,1366.63 1757.05,1363.01 1762.61,1367.93 \n",
       "  1765.39,1380.89 1773.73,1381.3 1776.52,1389.73 1779.3,1388.13 1782.08,1365.02 1784.86,1359.6 1793.21,1358.89 1795.99,1367.93 1798.77,1393.95 1801.55,1400.68 \n",
       "  1804.33,1403.29 1812.68,1403.09 1815.46,1410.93 1818.24,1418.56 1821.02,1419.77 1823.8,1413.24 1832.15,1413.14 1834.93,1413.14 1837.71,1408.72 1840.49,1405.6 \n",
       "  1843.27,1408.22 1851.62,1408.22 1854.4,1408.42 1857.18,1412.84 1859.96,1411.03 1862.75,1412.34 1871.09,1410.63 1873.87,1411.53 1876.65,1416.25 1879.43,1418.56 \n",
       "  1882.22,1418.36 1890.56,1420.17 1893.34,1421.28 1896.12,1422.18 1898.91,1422.48 1901.69,1421.78 1910.03,1416.65 1912.81,1414.24 1915.6,1419.97 1918.38,1425.49 \n",
       "  1921.16,1421.78 1932.28,1416.45 1935.07,1417.06 1937.85,1421.78 1940.63,1426.3 1948.97,1429.11 1968.45,1441.06 1971.23,1436.65 1974.01,1442.37 1976.79,1443.38 \n",
       "  1979.57,1451.61 1987.92,1438.85 1990.7,1444.88 1993.48,1449.1 1996.26,1446.39 1999.04,1444.48 2007.39,1446.09 2010.17,1449.6 2012.95,1450.11 2015.73,1448.5 \n",
       "  2018.51,1448.5 2026.86,1443.38 2029.64,1442.07 2032.42,1438.85 2035.2,1429.81 2037.98,1429.71 2046.33,1418.76 2049.11,1420.57 2051.89,1428.71 2054.67,1425.39 \n",
       "  2057.46,1419.47 2065.8,1417.36 2068.58,1419.57 2071.36,1420.77 2074.14,1416.65 2076.93,1412.03 2085.27,1422.28 2088.05,1427.7 2090.83,1423.89 2093.62,1425.8 \n",
       "  2096.4,1416.65 2104.74,1412.13 2107.52,1412.94 2110.31,1404.9 2113.09,1412.54 2115.87,1412.74 2124.21,1418.66 2126.99,1411.13 2129.78,1406.71 2132.56,1405.91 \n",
       "  2135.34,1414.24 2143.68,1408.62 2146.47,1403.19 2149.25,1405.6 2154.81,1402.49 2163.16,1399.38 2165.94,1393.15 2168.72,1394.05 2171.5,1396.26 2174.28,1395.66 \n",
       "  2182.63,1392.14 2185.41,1390.94 2188.19,1376.37 2190.97,1376.67 2193.75,1378.08 2202.1,1375.77 2204.88,1381.6 2207.66,1385.61 2210.44,1393.15 2213.22,1397.27 \n",
       "  2221.57,1396.26 2224.35,1395.96 2227.13,1393.45 2229.91,1391.94 2232.69,1390.14 2241.04,1389.13 2246.6,1386.72 2249.38,1382.3 2252.17,1378.48 2260.51,1379.79 \n",
       "  \n",
       "  \"/>\n",
       "<polygon clip-path=\"url(#clip8501)\" points=\"\n",
       "1910.3,372.684 2249.26,372.684 2249.26,130.764 1910.3,130.764 \n",
       "  \" fill=\"#ffffff\" fill-opacity=\"1\"/>\n",
       "<polyline clip-path=\"url(#clip8501)\" style=\"stroke:#000000; stroke-width:4; stroke-opacity:1; fill:none\" points=\"\n",
       "  1910.3,372.684 2249.26,372.684 2249.26,130.764 1910.3,130.764 1910.3,372.684 \n",
       "  \"/>\n",
       "<polyline clip-path=\"url(#clip8501)\" style=\"stroke:#009af9; stroke-width:4; stroke-opacity:1; fill:none\" points=\"\n",
       "  1934.3,191.244 2078.3,191.244 \n",
       "  \"/>\n",
       "<g clip-path=\"url(#clip8501)\">\n",
       "<text style=\"fill:#000000; fill-opacity:1; font-family:Arial,Helvetica Neue,Helvetica,sans-serif; font-size:48px; text-anchor:start;\" transform=\"rotate(0, 2102.3, 208.744)\" x=\"2102.3\" y=\"208.744\">High</text>\n",
       "</g>\n",
       "<polyline clip-path=\"url(#clip8501)\" style=\"stroke:#e26f46; stroke-width:4; stroke-opacity:1; fill:none\" points=\"\n",
       "  1934.3,251.724 2078.3,251.724 \n",
       "  \"/>\n",
       "<g clip-path=\"url(#clip8501)\">\n",
       "<text style=\"fill:#000000; fill-opacity:1; font-family:Arial,Helvetica Neue,Helvetica,sans-serif; font-size:48px; text-anchor:start;\" transform=\"rotate(0, 2102.3, 269.224)\" x=\"2102.3\" y=\"269.224\">Low</text>\n",
       "</g>\n",
       "<polyline clip-path=\"url(#clip8501)\" style=\"stroke:#3da44d; stroke-width:4; stroke-opacity:1; fill:none\" points=\"\n",
       "  1934.3,312.204 2078.3,312.204 \n",
       "  \"/>\n",
       "<g clip-path=\"url(#clip8501)\">\n",
       "<text style=\"fill:#000000; fill-opacity:1; font-family:Arial,Helvetica Neue,Helvetica,sans-serif; font-size:48px; text-anchor:start;\" transform=\"rotate(0, 2102.3, 329.704)\" x=\"2102.3\" y=\"329.704\">Low</text>\n",
       "</g>\n",
       "</svg>\n"
      ]
     },
     "execution_count": 184,
     "metadata": {},
     "output_type": "execute_result"
    }
   ],
   "source": [
    "plot!(MarketData.ohlc[:Low])"
   ]
  },
  {
   "cell_type": "code",
   "execution_count": 173,
   "metadata": {},
   "outputs": [
    {
     "data": {
      "text/plain": [
       "(:timestamp, :values, :colnames, :meta)"
      ]
     },
     "execution_count": 173,
     "metadata": {},
     "output_type": "execute_result"
    }
   ],
   "source": [
    "fieldnames(typeof(MarketData.ohlc))"
   ]
  },
  {
   "cell_type": "code",
   "execution_count": 174,
   "metadata": {},
   "outputs": [
    {
     "data": {
      "text/plain": [
       "6×4 TimeArray{Float64,2,Date,Array{Float64,2}} 2000-01-03 to 2000-01-10\n",
       "│            │ Open   │ High   │ Low    │ Close  │\n",
       "├────────────┼────────┼────────┼────────┼────────┤\n",
       "│ 2000-01-03 │ 104.88 │ 112.5  │ 101.69 │ 111.94 │\n",
       "│ 2000-01-04 │ 108.25 │ 110.62 │ 101.19 │ 102.5  │\n",
       "│ 2000-01-05 │ 103.75 │ 110.56 │ 103.0  │ 104.0  │\n",
       "│ 2000-01-06 │ 106.12 │ 107.0  │ 95.0   │ 95.0   │\n",
       "│ 2000-01-07 │ 96.5   │ 101.0  │ 95.5   │ 99.5   │\n",
       "│ 2000-01-10 │ 102.0  │ 102.25 │ 94.75  │ 97.75  │"
      ]
     },
     "execution_count": 174,
     "metadata": {},
     "output_type": "execute_result"
    }
   ],
   "source": [
    "MarketData.ohlc |> head"
   ]
  },
  {
   "cell_type": "code",
   "execution_count": 176,
   "metadata": {},
   "outputs": [
    {
     "data": {
      "text/plain": [
       "2000-01-03"
      ]
     },
     "execution_count": 176,
     "metadata": {},
     "output_type": "execute_result"
    }
   ],
   "source": [
    "timestamp(MarketData.ohlc)[1]"
   ]
  },
  {
   "cell_type": "code",
   "execution_count": 177,
   "metadata": {},
   "outputs": [
    {
     "data": {
      "text/plain": [
       "500-element Array{Date,1}:\n",
       " 2000-01-03\n",
       " 2000-01-04\n",
       " 2000-01-05\n",
       " 2000-01-06\n",
       " 2000-01-07\n",
       " 2000-01-10\n",
       " 2000-01-11\n",
       " 2000-01-12\n",
       " 2000-01-13\n",
       " 2000-01-14\n",
       " 2000-01-18\n",
       " 2000-01-19\n",
       " 2000-01-20\n",
       " ⋮         \n",
       " 2001-12-13\n",
       " 2001-12-14\n",
       " 2001-12-17\n",
       " 2001-12-18\n",
       " 2001-12-19\n",
       " 2001-12-20\n",
       " 2001-12-21\n",
       " 2001-12-24\n",
       " 2001-12-26\n",
       " 2001-12-27\n",
       " 2001-12-28\n",
       " 2001-12-31"
      ]
     },
     "execution_count": 177,
     "metadata": {},
     "output_type": "execute_result"
    }
   ],
   "source": [
    "timestamp(MarketData.ohlc)"
   ]
  },
  {
   "cell_type": "code",
   "execution_count": 178,
   "metadata": {},
   "outputs": [
    {
     "data": {
      "text/plain": [
       "500×4 Array{Float64,2}:\n",
       " 104.88  112.5   101.69  111.94\n",
       " 108.25  110.62  101.19  102.5 \n",
       " 103.75  110.56  103.0   104.0 \n",
       " 106.12  107.0    95.0    95.0 \n",
       "  96.5   101.0    95.5    99.5 \n",
       " 102.0   102.25   94.75   97.75\n",
       "  95.94   99.38   90.5    92.75\n",
       "  95.0    95.5    86.5    87.19\n",
       "  94.48   98.75   92.5    96.75\n",
       " 100.0   102.25   99.38  100.44\n",
       " 101.0   106.0   100.44  103.94\n",
       " 105.62  108.75  103.38  106.56\n",
       " 115.5   121.5   113.5   113.5 \n",
       "   ⋮                           \n",
       "  21.49   21.55   20.5    21.0 \n",
       "  20.73   20.83   20.09   20.39\n",
       "  20.4    21.0    20.19   20.62\n",
       "  20.89   21.33   20.22   21.01\n",
       "  20.58   21.68   20.47   21.62\n",
       "  21.4    21.47   20.62   20.67\n",
       "  21.01   21.54   20.8    21.0 \n",
       "  20.9    21.45   20.9    21.36\n",
       "  21.35   22.3    21.14   21.49\n",
       "  21.58   22.25   21.58   22.07\n",
       "  21.97   23.0    21.96   22.43\n",
       "  22.51   22.66   21.83   21.9 "
      ]
     },
     "execution_count": 178,
     "metadata": {},
     "output_type": "execute_result"
    }
   ],
   "source": [
    "values(MarketData.ohlc)"
   ]
  },
  {
   "cell_type": "code",
   "execution_count": 180,
   "metadata": {},
   "outputs": [
    {
     "data": {
      "text/plain": [
       "4-element Array{Symbol,1}:\n",
       " :Open \n",
       " :High \n",
       " :Low  \n",
       " :Close"
      ]
     },
     "execution_count": 180,
     "metadata": {},
     "output_type": "execute_result"
    }
   ],
   "source": [
    "colnames(MarketData.ohlc)"
   ]
  },
  {
   "cell_type": "code",
   "execution_count": 182,
   "metadata": {},
   "outputs": [
    {
     "data": {
      "text/plain": [
       "500×4 TimeArray{Float64,2,Date,Array{Float64,2}} 2000-01-03 to 2001-12-31\n",
       "│            │ Opening │ Maximum │ Minimum │ Closing │\n",
       "├────────────┼─────────┼─────────┼─────────┼─────────┤\n",
       "│ 2000-01-03 │ 104.88  │ 112.5   │ 101.69  │ 111.94  │\n",
       "│ 2000-01-04 │ 108.25  │ 110.62  │ 101.19  │ 102.5   │\n",
       "│ 2000-01-05 │ 103.75  │ 110.56  │ 103.0   │ 104.0   │\n",
       "│ 2000-01-06 │ 106.12  │ 107.0   │ 95.0    │ 95.0    │\n",
       "│ 2000-01-07 │ 96.5    │ 101.0   │ 95.5    │ 99.5    │\n",
       "│ 2000-01-10 │ 102.0   │ 102.25  │ 94.75   │ 97.75   │\n",
       "│ 2000-01-11 │ 95.94   │ 99.38   │ 90.5    │ 92.75   │\n",
       "│ 2000-01-12 │ 95.0    │ 95.5    │ 86.5    │ 87.19   │\n",
       "│ 2000-01-13 │ 94.48   │ 98.75   │ 92.5    │ 96.75   │\n",
       "│ 2000-01-14 │ 100.0   │ 102.25  │ 99.38   │ 100.44  │\n",
       "│ 2000-01-18 │ 101.0   │ 106.0   │ 100.44  │ 103.94  │\n",
       "│ 2000-01-19 │ 105.62  │ 108.75  │ 103.38  │ 106.56  │\n",
       "   ⋮\n",
       "│ 2001-12-14 │ 20.73   │ 20.83   │ 20.09   │ 20.39   │\n",
       "│ 2001-12-17 │ 20.4    │ 21.0    │ 20.19   │ 20.62   │\n",
       "│ 2001-12-18 │ 20.89   │ 21.33   │ 20.22   │ 21.01   │\n",
       "│ 2001-12-19 │ 20.58   │ 21.68   │ 20.47   │ 21.62   │\n",
       "│ 2001-12-20 │ 21.4    │ 21.47   │ 20.62   │ 20.67   │\n",
       "│ 2001-12-21 │ 21.01   │ 21.54   │ 20.8    │ 21.0    │\n",
       "│ 2001-12-24 │ 20.9    │ 21.45   │ 20.9    │ 21.36   │\n",
       "│ 2001-12-26 │ 21.35   │ 22.3    │ 21.14   │ 21.49   │\n",
       "│ 2001-12-27 │ 21.58   │ 22.25   │ 21.58   │ 22.07   │\n",
       "│ 2001-12-28 │ 21.97   │ 23.0    │ 21.96   │ 22.43   │\n",
       "│ 2001-12-31 │ 22.51   │ 22.66   │ 21.83   │ 21.9    │"
      ]
     },
     "execution_count": 182,
     "metadata": {},
     "output_type": "execute_result"
    }
   ],
   "source": [
    "rename(MarketData.ohlc, [:Opening, :Maximum, :Minimum, :Closing])"
   ]
  },
  {
   "cell_type": "code",
   "execution_count": 186,
   "metadata": {},
   "outputs": [
    {
     "data": {
      "text/plain": [
       "500×1 TimeArray{Float64,1,Date,Array{Float64,1}} 2000-01-03 to 2001-12-31\n",
       "│            │ High   │\n",
       "├────────────┼────────┤\n",
       "│ 2000-01-03 │ 112.5  │\n",
       "│ 2000-01-04 │ 110.62 │\n",
       "│ 2000-01-05 │ 110.56 │\n",
       "│ 2000-01-06 │ 107.0  │\n",
       "│ 2000-01-07 │ 101.0  │\n",
       "│ 2000-01-10 │ 102.25 │\n",
       "│ 2000-01-11 │ 99.38  │\n",
       "│ 2000-01-12 │ 95.5   │\n",
       "│ 2000-01-13 │ 98.75  │\n",
       "│ 2000-01-14 │ 102.25 │\n",
       "│ 2000-01-18 │ 106.0  │\n",
       "│ 2000-01-19 │ 108.75 │\n",
       "   ⋮\n",
       "│ 2001-12-14 │ 20.83  │\n",
       "│ 2001-12-17 │ 21.0   │\n",
       "│ 2001-12-18 │ 21.33  │\n",
       "│ 2001-12-19 │ 21.68  │\n",
       "│ 2001-12-20 │ 21.47  │\n",
       "│ 2001-12-21 │ 21.54  │\n",
       "│ 2001-12-24 │ 21.45  │\n",
       "│ 2001-12-26 │ 22.3   │\n",
       "│ 2001-12-27 │ 22.25  │\n",
       "│ 2001-12-28 │ 23.0   │\n",
       "│ 2001-12-31 │ 22.66  │"
      ]
     },
     "execution_count": 186,
     "metadata": {},
     "output_type": "execute_result"
    }
   ],
   "source": [
    "MarketData.ohlc[:High]"
   ]
  },
  {
   "cell_type": "code",
   "execution_count": 187,
   "metadata": {},
   "outputs": [
    {
     "data": {
      "text/plain": [
       "500×2 TimeArray{Float64,2,Date,Array{Float64,2}} 2000-01-03 to 2001-12-31\n",
       "│            │ High   │ Low    │\n",
       "├────────────┼────────┼────────┤\n",
       "│ 2000-01-03 │ 112.5  │ 101.69 │\n",
       "│ 2000-01-04 │ 110.62 │ 101.19 │\n",
       "│ 2000-01-05 │ 110.56 │ 103.0  │\n",
       "│ 2000-01-06 │ 107.0  │ 95.0   │\n",
       "│ 2000-01-07 │ 101.0  │ 95.5   │\n",
       "│ 2000-01-10 │ 102.25 │ 94.75  │\n",
       "│ 2000-01-11 │ 99.38  │ 90.5   │\n",
       "│ 2000-01-12 │ 95.5   │ 86.5   │\n",
       "│ 2000-01-13 │ 98.75  │ 92.5   │\n",
       "│ 2000-01-14 │ 102.25 │ 99.38  │\n",
       "│ 2000-01-18 │ 106.0  │ 100.44 │\n",
       "│ 2000-01-19 │ 108.75 │ 103.38 │\n",
       "   ⋮\n",
       "│ 2001-12-14 │ 20.83  │ 20.09  │\n",
       "│ 2001-12-17 │ 21.0   │ 20.19  │\n",
       "│ 2001-12-18 │ 21.33  │ 20.22  │\n",
       "│ 2001-12-19 │ 21.68  │ 20.47  │\n",
       "│ 2001-12-20 │ 21.47  │ 20.62  │\n",
       "│ 2001-12-21 │ 21.54  │ 20.8   │\n",
       "│ 2001-12-24 │ 21.45  │ 20.9   │\n",
       "│ 2001-12-26 │ 22.3   │ 21.14  │\n",
       "│ 2001-12-27 │ 22.25  │ 21.58  │\n",
       "│ 2001-12-28 │ 23.0   │ 21.96  │\n",
       "│ 2001-12-31 │ 22.66  │ 21.83  │"
      ]
     },
     "execution_count": 187,
     "metadata": {},
     "output_type": "execute_result"
    }
   ],
   "source": [
    "MarketData.ohlc[:High, :Low]"
   ]
  },
  {
   "cell_type": "code",
   "execution_count": 189,
   "metadata": {},
   "outputs": [
    {
     "data": {
      "text/plain": [
       "144.19"
      ]
     },
     "execution_count": 189,
     "metadata": {},
     "output_type": "execute_result"
    }
   ],
   "source": [
    "maximum(values(MarketData.ohlc[:Close]))"
   ]
  },
  {
   "cell_type": "code",
   "execution_count": 192,
   "metadata": {},
   "outputs": [
    {
     "data": {
      "text/plain": [
       "1-element Array{Int64,1}:\n",
       " 56"
      ]
     },
     "execution_count": 192,
     "metadata": {},
     "output_type": "execute_result"
    }
   ],
   "source": [
    "findall(values(MarketData.ohlc[:Close]) .== 144.19)"
   ]
  },
  {
   "cell_type": "code",
   "execution_count": 193,
   "metadata": {},
   "outputs": [
    {
     "data": {
      "text/plain": [
       "1×4 TimeArray{Float64,2,Date,Array{Float64,2}} 2000-03-22 to 2000-03-22\n",
       "│            │ Open   │ High   │ Low    │ Close  │\n",
       "├────────────┼────────┼────────┼────────┼────────┤\n",
       "│ 2000-03-22 │ 132.78 │ 144.38 │ 131.56 │ 144.19 │"
      ]
     },
     "execution_count": 193,
     "metadata": {},
     "output_type": "execute_result"
    }
   ],
   "source": [
    "MarketData.ohlc[56]"
   ]
  },
  {
   "cell_type": "code",
   "execution_count": 194,
   "metadata": {},
   "outputs": [
    {
     "data": {
      "text/plain": [
       "11×4 TimeArray{Float64,2,Date,Array{Float64,2}} 2000-03-14 to 2000-03-28\n",
       "│            │ Open   │ High   │ Low    │ Close  │\n",
       "├────────────┼────────┼────────┼────────┼────────┤\n",
       "│ 2000-03-14 │ 121.22 │ 124.25 │ 114.0  │ 114.25 │\n",
       "│ 2000-03-15 │ 115.62 │ 120.25 │ 114.12 │ 116.25 │\n",
       "│ 2000-03-16 │ 117.31 │ 122.0  │ 114.5  │ 121.56 │\n",
       "│ 2000-03-17 │ 120.12 │ 125.0  │ 119.62 │ 125.0  │\n",
       "│ 2000-03-20 │ 123.5  │ 126.25 │ 122.38 │ 123.0  │\n",
       "│ 2000-03-21 │ 122.56 │ 136.75 │ 121.62 │ 134.94 │\n",
       "│ 2000-03-22 │ 132.78 │ 144.38 │ 131.56 │ 144.19 │\n",
       "│ 2000-03-23 │ 142.0  │ 150.38 │ 140.0  │ 141.31 │\n",
       "│ 2000-03-24 │ 142.44 │ 143.94 │ 135.5  │ 138.69 │\n",
       "│ 2000-03-27 │ 137.62 │ 144.75 │ 136.88 │ 139.56 │\n",
       "│ 2000-03-28 │ 137.25 │ 142.0  │ 137.12 │ 139.12 │"
      ]
     },
     "execution_count": 194,
     "metadata": {},
     "output_type": "execute_result"
    }
   ],
   "source": [
    "MarketData.ohlc[50:60]"
   ]
  },
  {
   "cell_type": "code",
   "execution_count": 195,
   "metadata": {},
   "outputs": [
    {
     "data": {
      "text/plain": [
       "10×4 TimeArray{Float64,2,Date,Array{Float64,2}} 2000-01-11 to 2000-04-11\n",
       "│            │ Open   │ High   │ Low    │ Close  │\n",
       "├────────────┼────────┼────────┼────────┼────────┤\n",
       "│ 2000-01-11 │ 95.94  │ 99.38  │ 90.5   │ 92.75  │\n",
       "│ 2000-01-21 │ 114.25 │ 114.25 │ 110.19 │ 111.31 │\n",
       "│ 2000-02-01 │ 104.0  │ 105.0  │ 100.0  │ 100.25 │\n",
       "│ 2000-02-10 │ 112.88 │ 113.88 │ 110.0  │ 113.5  │\n",
       "│ 2000-02-22 │ 110.12 │ 116.94 │ 106.69 │ 113.81 │\n",
       "│ 2000-03-02 │ 127.0  │ 127.94 │ 120.69 │ 122.0  │\n",
       "│ 2000-03-13 │ 122.12 │ 126.5  │ 119.5  │ 121.31 │\n",
       "│ 2000-03-22 │ 132.78 │ 144.38 │ 131.56 │ 144.19 │\n",
       "│ 2000-03-31 │ 127.44 │ 137.25 │ 126.0  │ 135.81 │\n",
       "│ 2000-04-11 │ 123.5  │ 124.88 │ 118.06 │ 119.44 │"
      ]
     },
     "execution_count": 195,
     "metadata": {},
     "output_type": "execute_result"
    }
   ],
   "source": [
    "MarketData.ohlc[7:7:70]"
   ]
  },
  {
   "cell_type": "code",
   "execution_count": 198,
   "metadata": {},
   "outputs": [
    {
     "data": {
      "text/plain": [
       "\"Wednesday\""
      ]
     },
     "execution_count": 198,
     "metadata": {},
     "output_type": "execute_result"
    }
   ],
   "source": [
    "dayname(timestamp(MarketData.ohlc)[56])"
   ]
  },
  {
   "cell_type": "code",
   "execution_count": 199,
   "metadata": {},
   "outputs": [
    {
     "data": {
      "text/plain": [
       "71×4 TimeArray{Float64,2,Date,Array{Float64,2}} 2000-01-11 to 2001-12-26\n",
       "│            │ Open   │ High   │ Low    │ Close  │\n",
       "├────────────┼────────┼────────┼────────┼────────┤\n",
       "│ 2000-01-11 │ 95.94  │ 99.38  │ 90.5   │ 92.75  │\n",
       "│ 2000-01-21 │ 114.25 │ 114.25 │ 110.19 │ 111.31 │\n",
       "│ 2000-02-01 │ 104.0  │ 105.0  │ 100.0  │ 100.25 │\n",
       "│ 2000-02-10 │ 112.88 │ 113.88 │ 110.0  │ 113.5  │\n",
       "│ 2000-02-22 │ 110.12 │ 116.94 │ 106.69 │ 113.81 │\n",
       "│ 2000-03-02 │ 127.0  │ 127.94 │ 120.69 │ 122.0  │\n",
       "│ 2000-03-13 │ 122.12 │ 126.5  │ 119.5  │ 121.31 │\n",
       "│ 2000-03-22 │ 132.78 │ 144.38 │ 131.56 │ 144.19 │\n",
       "│ 2000-03-31 │ 127.44 │ 137.25 │ 126.0  │ 135.81 │\n",
       "│ 2000-04-11 │ 123.5  │ 124.88 │ 118.06 │ 119.44 │\n",
       "│ 2000-04-20 │ 123.69 │ 124.75 │ 117.06 │ 118.88 │\n",
       "│ 2000-05-02 │ 123.25 │ 126.25 │ 117.5  │ 117.88 │\n",
       "   ⋮\n",
       "│ 2001-09-17 │ 16.0   │ 17.07  │ 15.73  │ 16.99  │\n",
       "│ 2001-09-26 │ 15.81  │ 15.89  │ 14.93  │ 15.15  │\n",
       "│ 2001-10-05 │ 15.4   │ 16.15  │ 14.99  │ 16.14  │\n",
       "│ 2001-10-16 │ 18.09  │ 18.2   │ 17.77  │ 18.01  │\n",
       "│ 2001-10-25 │ 18.44  │ 19.25  │ 18.16  │ 19.19  │\n",
       "│ 2001-11-05 │ 18.84  │ 19.25  │ 18.61  │ 19.07  │\n",
       "│ 2001-11-14 │ 19.59  │ 19.9   │ 19.15  │ 19.61  │\n",
       "│ 2001-11-26 │ 19.94  │ 21.55  │ 19.88  │ 21.37  │\n",
       "│ 2001-12-05 │ 22.36  │ 24.03  │ 22.17  │ 23.76  │\n",
       "│ 2001-12-14 │ 20.73  │ 20.83  │ 20.09  │ 20.39  │\n",
       "│ 2001-12-26 │ 21.35  │ 22.3   │ 21.14  │ 21.49  │"
      ]
     },
     "execution_count": 199,
     "metadata": {},
     "output_type": "execute_result"
    }
   ],
   "source": [
    "MarketData.ohlc[7:7:end]"
   ]
  },
  {
   "cell_type": "code",
   "execution_count": 202,
   "metadata": {},
   "outputs": [
    {
     "data": {
      "text/plain": [
       "13×4 TimeArray{Float64,2,Date,Array{Float64,2}} 2000-01-11 to 2000-04-11\n",
       "│            │ Open   │ High   │ Low    │ Close  │\n",
       "├────────────┼────────┼────────┼────────┼────────┤\n",
       "│ 2000-01-11 │ 95.94  │ 99.38  │ 90.5   │ 92.75  │\n",
       "│ 2000-01-21 │ 114.25 │ 114.25 │ 110.19 │ 111.31 │\n",
       "│ 2000-02-01 │ 104.0  │ 105.0  │ 100.0  │ 100.25 │\n",
       "│ 2000-02-10 │ 112.88 │ 113.88 │ 110.0  │ 113.5  │\n",
       "│ 2000-02-22 │ 110.12 │ 116.94 │ 106.69 │ 113.81 │\n",
       "│ 2000-03-02 │ 127.0  │ 127.94 │ 120.69 │ 122.0  │\n",
       "│ 2000-03-13 │ 122.12 │ 126.5  │ 119.5  │ 121.31 │\n",
       "│ 2000-03-20 │ 123.5  │ 126.25 │ 122.38 │ 123.0  │\n",
       "│ 2000-03-21 │ 122.56 │ 136.75 │ 121.62 │ 134.94 │\n",
       "│ 2000-03-22 │ 132.78 │ 144.38 │ 131.56 │ 144.19 │\n",
       "│ 2000-03-23 │ 142.0  │ 150.38 │ 140.0  │ 141.31 │\n",
       "│ 2000-03-31 │ 127.44 │ 137.25 │ 126.0  │ 135.81 │\n",
       "│ 2000-04-11 │ 123.5  │ 124.88 │ 118.06 │ 119.44 │"
      ]
     },
     "execution_count": 202,
     "metadata": {},
     "output_type": "execute_result"
    }
   ],
   "source": [
    "MarketData.ohlc[[7:7:49; 54;55;56;57; 63:7:70]]"
   ]
  },
  {
   "cell_type": "code",
   "execution_count": 203,
   "metadata": {},
   "outputs": [
    {
     "data": {
      "text/plain": [
       "1×4 TimeArray{Float64,2,Date,Array{Float64,2}} 2000-03-22 to 2000-03-22\n",
       "│            │ Open   │ High   │ Low    │ Close  │\n",
       "├────────────┼────────┼────────┼────────┼────────┤\n",
       "│ 2000-03-22 │ 132.78 │ 144.38 │ 131.56 │ 144.19 │"
      ]
     },
     "execution_count": 203,
     "metadata": {},
     "output_type": "execute_result"
    }
   ],
   "source": [
    "MarketData.ohlc[Date(2000, 03, 22)]"
   ]
  },
  {
   "cell_type": "code",
   "execution_count": 205,
   "metadata": {},
   "outputs": [
    {
     "data": {
      "text/plain": [
       "29×4 TimeArray{Float64,2,Date,Array{Float64,2}} 2000-03-20 to 2000-04-28\n",
       "│            │ Open   │ High   │ Low    │ Close  │\n",
       "├────────────┼────────┼────────┼────────┼────────┤\n",
       "│ 2000-03-20 │ 123.5  │ 126.25 │ 122.38 │ 123.0  │\n",
       "│ 2000-03-21 │ 122.56 │ 136.75 │ 121.62 │ 134.94 │\n",
       "│ 2000-03-22 │ 132.78 │ 144.38 │ 131.56 │ 144.19 │\n",
       "│ 2000-03-23 │ 142.0  │ 150.38 │ 140.0  │ 141.31 │\n",
       "│ 2000-03-24 │ 142.44 │ 143.94 │ 135.5  │ 138.69 │\n",
       "│ 2000-03-27 │ 137.62 │ 144.75 │ 136.88 │ 139.56 │\n",
       "│ 2000-03-28 │ 137.25 │ 142.0  │ 137.12 │ 139.12 │\n",
       "│ 2000-03-29 │ 139.38 │ 139.44 │ 133.83 │ 135.94 │\n",
       "│ 2000-03-30 │ 133.56 │ 137.69 │ 125.44 │ 125.75 │\n",
       "│ 2000-03-31 │ 127.44 │ 137.25 │ 126.0  │ 135.81 │\n",
       "│ 2000-04-03 │ 135.5  │ 139.5  │ 129.44 │ 133.31 │\n",
       "│ 2000-04-04 │ 132.62 │ 133.0  │ 116.75 │ 127.31 │\n",
       "   ⋮\n",
       "│ 2000-04-13 │ 111.5  │ 120.0  │ 108.5  │ 113.81 │\n",
       "│ 2000-04-14 │ 109.31 │ 118.0  │ 109.0  │ 111.88 │\n",
       "│ 2000-04-17 │ 109.5  │ 123.94 │ 109.06 │ 123.88 │\n",
       "│ 2000-04-18 │ 123.5  │ 126.88 │ 119.38 │ 126.88 │\n",
       "│ 2000-04-19 │ 126.19 │ 130.25 │ 119.75 │ 121.12 │\n",
       "│ 2000-04-20 │ 123.69 │ 124.75 │ 117.06 │ 118.88 │\n",
       "│ 2000-04-24 │ 115.0  │ 120.5  │ 114.75 │ 120.5  │\n",
       "│ 2000-04-25 │ 122.12 │ 128.75 │ 122.06 │ 128.31 │\n",
       "│ 2000-04-26 │ 126.62 │ 128.0  │ 120.0  │ 121.31 │\n",
       "│ 2000-04-27 │ 117.19 │ 127.0  │ 116.58 │ 126.75 │\n",
       "│ 2000-04-28 │ 127.12 │ 127.5  │ 121.31 │ 124.06 │"
      ]
     },
     "execution_count": 205,
     "metadata": {},
     "output_type": "execute_result"
    }
   ],
   "source": [
    "MarketData.ohlc[Date(2000, 03, 20):Day(1):Date(2000, 04,30)]"
   ]
  },
  {
   "cell_type": "code",
   "execution_count": 206,
   "metadata": {},
   "outputs": [
    {
     "data": {
      "text/plain": [
       "6×4 TimeArray{Float64,2,Date,Array{Float64,2}} 2000-03-20 to 2000-04-24\n",
       "│            │ Open   │ High   │ Low    │ Close  │\n",
       "├────────────┼────────┼────────┼────────┼────────┤\n",
       "│ 2000-03-20 │ 123.5  │ 126.25 │ 122.38 │ 123.0  │\n",
       "│ 2000-03-27 │ 137.62 │ 144.75 │ 136.88 │ 139.56 │\n",
       "│ 2000-04-03 │ 135.5  │ 139.5  │ 129.44 │ 133.31 │\n",
       "│ 2000-04-10 │ 131.69 │ 132.75 │ 124.75 │ 125.0  │\n",
       "│ 2000-04-17 │ 109.5  │ 123.94 │ 109.06 │ 123.88 │\n",
       "│ 2000-04-24 │ 115.0  │ 120.5  │ 114.75 │ 120.5  │"
      ]
     },
     "execution_count": 206,
     "metadata": {},
     "output_type": "execute_result"
    }
   ],
   "source": [
    "MarketData.ohlc[Date(2000, 03, 20):Dates.Week(1):Date(2000, 04,30)]"
   ]
  },
  {
   "cell_type": "code",
   "execution_count": 208,
   "metadata": {},
   "outputs": [
    {
     "data": {
      "text/plain": [
       "30×4 TimeArray{Float64,2,Date,Array{Float64,2}} 2000-03-20 to 2000-05-01\n",
       "│            │ Open   │ High   │ Low    │ Close  │\n",
       "├────────────┼────────┼────────┼────────┼────────┤\n",
       "│ 2000-03-20 │ 123.5  │ 126.25 │ 122.38 │ 123.0  │\n",
       "│ 2000-03-21 │ 122.56 │ 136.75 │ 121.62 │ 134.94 │\n",
       "│ 2000-03-22 │ 132.78 │ 144.38 │ 131.56 │ 144.19 │\n",
       "│ 2000-03-23 │ 142.0  │ 150.38 │ 140.0  │ 141.31 │\n",
       "│ 2000-03-24 │ 142.44 │ 143.94 │ 135.5  │ 138.69 │\n",
       "│ 2000-03-27 │ 137.62 │ 144.75 │ 136.88 │ 139.56 │\n",
       "│ 2000-03-28 │ 137.25 │ 142.0  │ 137.12 │ 139.12 │\n",
       "│ 2000-03-29 │ 139.38 │ 139.44 │ 133.83 │ 135.94 │\n",
       "│ 2000-03-30 │ 133.56 │ 137.69 │ 125.44 │ 125.75 │\n",
       "│ 2000-03-31 │ 127.44 │ 137.25 │ 126.0  │ 135.81 │\n",
       "│ 2000-04-03 │ 135.5  │ 139.5  │ 129.44 │ 133.31 │\n",
       "│ 2000-04-04 │ 132.62 │ 133.0  │ 116.75 │ 127.31 │\n",
       "   ⋮\n",
       "│ 2000-04-14 │ 109.31 │ 118.0  │ 109.0  │ 111.88 │\n",
       "│ 2000-04-17 │ 109.5  │ 123.94 │ 109.06 │ 123.88 │\n",
       "│ 2000-04-18 │ 123.5  │ 126.88 │ 119.38 │ 126.88 │\n",
       "│ 2000-04-19 │ 126.19 │ 130.25 │ 119.75 │ 121.12 │\n",
       "│ 2000-04-20 │ 123.69 │ 124.75 │ 117.06 │ 118.88 │\n",
       "│ 2000-04-24 │ 115.0  │ 120.5  │ 114.75 │ 120.5  │\n",
       "│ 2000-04-25 │ 122.12 │ 128.75 │ 122.06 │ 128.31 │\n",
       "│ 2000-04-26 │ 126.62 │ 128.0  │ 120.0  │ 121.31 │\n",
       "│ 2000-04-27 │ 117.19 │ 127.0  │ 116.58 │ 126.75 │\n",
       "│ 2000-04-28 │ 127.12 │ 127.5  │ 121.31 │ 124.06 │\n",
       "│ 2000-05-01 │ 124.88 │ 125.12 │ 121.88 │ 124.31 │"
      ]
     },
     "execution_count": 208,
     "metadata": {},
     "output_type": "execute_result"
    }
   ],
   "source": [
    "MarketData.ohlc[[Date(2000, 03, 20):Day(1):Date(2000, 04,30); Date(2000, 05, 01)]]"
   ]
  },
  {
   "cell_type": "code",
   "execution_count": 210,
   "metadata": {},
   "outputs": [
    {
     "data": {
      "text/plain": [
       "5×2 TimeArray{Float64,2,Date,Array{Float64,2}} 2000-03-20 to 2000-03-24\n",
       "│            │ High   │ Low    │\n",
       "├────────────┼────────┼────────┤\n",
       "│ 2000-03-20 │ 126.25 │ 122.38 │\n",
       "│ 2000-03-21 │ 136.75 │ 121.62 │\n",
       "│ 2000-03-22 │ 144.38 │ 131.56 │\n",
       "│ 2000-03-23 │ 150.38 │ 140.0  │\n",
       "│ 2000-03-24 │ 143.94 │ 135.5  │"
      ]
     },
     "execution_count": 210,
     "metadata": {},
     "output_type": "execute_result"
    }
   ],
   "source": [
    "MarketData.ohlc[:High, :Low][Date(2000, 03, 20):Day(1):Date(2000, 03,25)]"
   ]
  },
  {
   "cell_type": "code",
   "execution_count": 211,
   "metadata": {},
   "outputs": [
    {
     "data": {
      "text/plain": [
       "14×4 TimeArray{Float64,2,Date,Array{Float64,2}} 2000-01-05 to 2000-04-05\n",
       "│            │ Open   │ High   │ Low    │ Close  │\n",
       "├────────────┼────────┼────────┼────────┼────────┤\n",
       "│ 2000-01-05 │ 103.75 │ 110.56 │ 103.0  │ 104.0  │\n",
       "│ 2000-01-12 │ 95.0   │ 95.5   │ 86.5   │ 87.19  │\n",
       "│ 2000-01-19 │ 105.62 │ 108.75 │ 103.38 │ 106.56 │\n",
       "│ 2000-01-26 │ 110.0  │ 114.19 │ 109.75 │ 110.19 │\n",
       "│ 2000-02-02 │ 100.75 │ 102.12 │ 97.0   │ 98.81  │\n",
       "│ 2000-02-09 │ 114.12 │ 117.12 │ 112.44 │ 112.62 │\n",
       "│ 2000-02-16 │ 117.75 │ 118.12 │ 112.12 │ 114.12 │\n",
       "│ 2000-02-23 │ 113.23 │ 119.0  │ 111.0  │ 116.25 │\n",
       "│ 2000-03-01 │ 118.56 │ 132.06 │ 118.5  │ 130.31 │\n",
       "│ 2000-03-08 │ 122.88 │ 123.94 │ 118.56 │ 122.0  │\n",
       "│ 2000-03-15 │ 115.62 │ 120.25 │ 114.12 │ 116.25 │\n",
       "│ 2000-03-22 │ 132.78 │ 144.38 │ 131.56 │ 144.19 │\n",
       "│ 2000-03-29 │ 139.38 │ 139.44 │ 133.83 │ 135.94 │\n",
       "│ 2000-04-05 │ 126.47 │ 132.88 │ 124.0  │ 130.38 │"
      ]
     },
     "execution_count": 211,
     "metadata": {},
     "output_type": "execute_result"
    }
   ],
   "source": [
    "when(MarketData.ohlc[1:70], Dates.dayname, \"Wednesday\")"
   ]
  },
  {
   "cell_type": "code",
   "execution_count": 212,
   "metadata": {},
   "outputs": [
    {
     "data": {
      "text/plain": [
       "46×4 TimeArray{Float64,2,Date,Array{Float64,2}} 2000-08-01 to 2001-08-31\n",
       "│            │ Open  │ High  │ Low   │ Close │\n",
       "├────────────┼───────┼───────┼───────┼───────┤\n",
       "│ 2000-08-01 │ 50.31 │ 51.16 │ 49.25 │ 49.31 │\n",
       "│ 2000-08-02 │ 49.0  │ 49.94 │ 47.19 │ 47.25 │\n",
       "│ 2000-08-03 │ 45.56 │ 48.06 │ 44.25 │ 48.0  │\n",
       "│ 2000-08-04 │ 49.47 │ 51.25 │ 46.31 │ 47.38 │\n",
       "│ 2000-08-07 │ 47.88 │ 49.06 │ 47.19 │ 47.94 │\n",
       "│ 2000-08-08 │ 47.94 │ 48.0  │ 46.31 │ 46.75 │\n",
       "│ 2000-08-09 │ 48.12 │ 48.44 │ 47.25 │ 47.5  │\n",
       "│ 2000-08-10 │ 48.0  │ 48.44 │ 47.38 │ 47.56 │\n",
       "│ 2000-08-11 │ 46.84 │ 48.0  │ 45.56 │ 47.69 │\n",
       "│ 2000-08-14 │ 47.59 │ 47.69 │ 46.31 │ 47.06 │\n",
       "│ 2000-08-15 │ 47.25 │ 47.94 │ 46.5  │ 46.69 │\n",
       "│ 2000-08-16 │ 46.88 │ 49.0  │ 46.81 │ 48.5  │\n",
       "   ⋮\n",
       "│ 2001-08-17 │ 18.0  │ 18.45 │ 17.99 │ 18.07 │\n",
       "│ 2001-08-20 │ 18.14 │ 18.23 │ 17.81 │ 18.12 │\n",
       "│ 2001-08-21 │ 18.14 │ 18.14 │ 17.7  │ 17.92 │\n",
       "│ 2001-08-22 │ 17.94 │ 18.25 │ 17.61 │ 18.21 │\n",
       "│ 2001-08-23 │ 18.2  │ 18.34 │ 17.58 │ 17.81 │\n",
       "│ 2001-08-24 │ 18.0  │ 18.62 │ 17.65 │ 18.57 │\n",
       "│ 2001-08-27 │ 18.6  │ 19.3  │ 18.16 │ 18.92 │\n",
       "│ 2001-08-28 │ 18.9  │ 19.14 │ 18.4  │ 18.4  │\n",
       "│ 2001-08-29 │ 18.44 │ 18.83 │ 17.83 │ 17.83 │\n",
       "│ 2001-08-30 │ 17.74 │ 18.18 │ 17.28 │ 17.83 │\n",
       "│ 2001-08-31 │ 17.73 │ 18.6  │ 17.65 │ 18.55 │"
      ]
     },
     "execution_count": 212,
     "metadata": {},
     "output_type": "execute_result"
    }
   ],
   "source": [
    "when(MarketData.ohlc, Dates.monthname, \"August\")"
   ]
  },
  {
   "cell_type": "code",
   "execution_count": 213,
   "metadata": {},
   "outputs": [
    {
     "data": {
      "text/plain": [
       "445×4 TimeArray{Float64,2,Date,Array{Float64,2}} 2000-03-22 to 2001-12-31\n",
       "│            │ Open   │ High   │ Low    │ Close  │\n",
       "├────────────┼────────┼────────┼────────┼────────┤\n",
       "│ 2000-03-22 │ 132.78 │ 144.38 │ 131.56 │ 144.19 │\n",
       "│ 2000-03-23 │ 142.0  │ 150.38 │ 140.0  │ 141.31 │\n",
       "│ 2000-03-24 │ 142.44 │ 143.94 │ 135.5  │ 138.69 │\n",
       "│ 2000-03-27 │ 137.62 │ 144.75 │ 136.88 │ 139.56 │\n",
       "│ 2000-03-28 │ 137.25 │ 142.0  │ 137.12 │ 139.12 │\n",
       "│ 2000-03-29 │ 139.38 │ 139.44 │ 133.83 │ 135.94 │\n",
       "│ 2000-03-30 │ 133.56 │ 137.69 │ 125.44 │ 125.75 │\n",
       "│ 2000-03-31 │ 127.44 │ 137.25 │ 126.0  │ 135.81 │\n",
       "│ 2000-04-03 │ 135.5  │ 139.5  │ 129.44 │ 133.31 │\n",
       "│ 2000-04-04 │ 132.62 │ 133.0  │ 116.75 │ 127.31 │\n",
       "│ 2000-04-05 │ 126.47 │ 132.88 │ 124.0  │ 130.38 │\n",
       "│ 2000-04-06 │ 130.62 │ 134.5  │ 123.25 │ 125.19 │\n",
       "   ⋮\n",
       "│ 2001-12-14 │ 20.73  │ 20.83  │ 20.09  │ 20.39  │\n",
       "│ 2001-12-17 │ 20.4   │ 21.0   │ 20.19  │ 20.62  │\n",
       "│ 2001-12-18 │ 20.89  │ 21.33  │ 20.22  │ 21.01  │\n",
       "│ 2001-12-19 │ 20.58  │ 21.68  │ 20.47  │ 21.62  │\n",
       "│ 2001-12-20 │ 21.4   │ 21.47  │ 20.62  │ 20.67  │\n",
       "│ 2001-12-21 │ 21.01  │ 21.54  │ 20.8   │ 21.0   │\n",
       "│ 2001-12-24 │ 20.9   │ 21.45  │ 20.9   │ 21.36  │\n",
       "│ 2001-12-26 │ 21.35  │ 22.3   │ 21.14  │ 21.49  │\n",
       "│ 2001-12-27 │ 21.58  │ 22.25  │ 21.58  │ 22.07  │\n",
       "│ 2001-12-28 │ 21.97  │ 23.0   │ 21.96  │ 22.43  │\n",
       "│ 2001-12-31 │ 22.51  │ 22.66  │ 21.83  │ 21.9   │"
      ]
     },
     "execution_count": 213,
     "metadata": {},
     "output_type": "execute_result"
    }
   ],
   "source": [
    "from(MarketData.ohlc, Date(2000, 3, 22))"
   ]
  },
  {
   "cell_type": "code",
   "execution_count": 214,
   "metadata": {},
   "outputs": [
    {
     "data": {
      "text/plain": [
       "56×4 TimeArray{Float64,2,Date,Array{Float64,2}} 2000-01-03 to 2000-03-22\n",
       "│            │ Open   │ High   │ Low    │ Close  │\n",
       "├────────────┼────────┼────────┼────────┼────────┤\n",
       "│ 2000-01-03 │ 104.88 │ 112.5  │ 101.69 │ 111.94 │\n",
       "│ 2000-01-04 │ 108.25 │ 110.62 │ 101.19 │ 102.5  │\n",
       "│ 2000-01-05 │ 103.75 │ 110.56 │ 103.0  │ 104.0  │\n",
       "│ 2000-01-06 │ 106.12 │ 107.0  │ 95.0   │ 95.0   │\n",
       "│ 2000-01-07 │ 96.5   │ 101.0  │ 95.5   │ 99.5   │\n",
       "│ 2000-01-10 │ 102.0  │ 102.25 │ 94.75  │ 97.75  │\n",
       "│ 2000-01-11 │ 95.94  │ 99.38  │ 90.5   │ 92.75  │\n",
       "│ 2000-01-12 │ 95.0   │ 95.5   │ 86.5   │ 87.19  │\n",
       "│ 2000-01-13 │ 94.48  │ 98.75  │ 92.5   │ 96.75  │\n",
       "│ 2000-01-14 │ 100.0  │ 102.25 │ 99.38  │ 100.44 │\n",
       "│ 2000-01-18 │ 101.0  │ 106.0  │ 100.44 │ 103.94 │\n",
       "│ 2000-01-19 │ 105.62 │ 108.75 │ 103.38 │ 106.56 │\n",
       "   ⋮\n",
       "│ 2000-03-08 │ 122.88 │ 123.94 │ 118.56 │ 122.0  │\n",
       "│ 2000-03-09 │ 120.88 │ 125.0  │ 118.25 │ 122.25 │\n",
       "│ 2000-03-10 │ 121.69 │ 127.94 │ 121.0  │ 125.75 │\n",
       "│ 2000-03-13 │ 122.12 │ 126.5  │ 119.5  │ 121.31 │\n",
       "│ 2000-03-14 │ 121.22 │ 124.25 │ 114.0  │ 114.25 │\n",
       "│ 2000-03-15 │ 115.62 │ 120.25 │ 114.12 │ 116.25 │\n",
       "│ 2000-03-16 │ 117.31 │ 122.0  │ 114.5  │ 121.56 │\n",
       "│ 2000-03-17 │ 120.12 │ 125.0  │ 119.62 │ 125.0  │\n",
       "│ 2000-03-20 │ 123.5  │ 126.25 │ 122.38 │ 123.0  │\n",
       "│ 2000-03-21 │ 122.56 │ 136.75 │ 121.62 │ 134.94 │\n",
       "│ 2000-03-22 │ 132.78 │ 144.38 │ 131.56 │ 144.19 │"
      ]
     },
     "execution_count": 214,
     "metadata": {},
     "output_type": "execute_result"
    }
   ],
   "source": [
    "to(MarketData.ohlc, Date(2000, 3, 22))"
   ]
  },
  {
   "cell_type": "code",
   "execution_count": 215,
   "metadata": {},
   "outputs": [
    {
     "data": {
      "text/plain": [
       "7-element Array{Int64,1}:\n",
       "  55\n",
       "  74\n",
       " 119\n",
       " 254\n",
       " 260\n",
       " 271\n",
       " 302"
      ]
     },
     "execution_count": 215,
     "metadata": {},
     "output_type": "execute_result"
    }
   ],
   "source": [
    "findall(MarketData.ohlc[:Close] .>= MarketData.ohlc[:Open] .+ MarketData.ohlc[:Open] .* 0.1)"
   ]
  },
  {
   "cell_type": "code",
   "execution_count": 216,
   "metadata": {},
   "outputs": [
    {
     "data": {
      "text/plain": [
       "7-element Array{Date,1}:\n",
       " 2000-03-21\n",
       " 2000-04-17\n",
       " 2000-06-21\n",
       " 2001-01-03\n",
       " 2001-01-11\n",
       " 2001-01-29\n",
       " 2001-03-14"
      ]
     },
     "execution_count": 216,
     "metadata": {},
     "output_type": "execute_result"
    }
   ],
   "source": [
    "findwhen(MarketData.ohlc[:Close] .>= MarketData.ohlc[:Open] .+ MarketData.ohlc[:Open] .* 0.1)"
   ]
  },
  {
   "cell_type": "code",
   "execution_count": 218,
   "metadata": {},
   "outputs": [
    {
     "data": {
      "text/plain": [
       "8-element Array{Date,1}:\n",
       " 2018-11-08\n",
       " 2018-11-09\n",
       " 2018-11-10\n",
       " 2018-11-11\n",
       " 2018-11-12\n",
       " 2018-11-13\n",
       " 2018-11-14\n",
       " 2018-11-15"
      ]
     },
     "execution_count": 218,
     "metadata": {},
     "output_type": "execute_result"
    }
   ],
   "source": [
    "d1 = today():Day(1):today() + Week(1) |> collect"
   ]
  },
  {
   "cell_type": "code",
   "execution_count": 220,
   "metadata": {},
   "outputs": [
    {
     "data": {
      "text/plain": [
       "8×1 TimeArray{Float64,1,Date,Array{Float64,1}} 2018-11-08 to 2018-11-15\n",
       "│            │ V1     │\n",
       "├────────────┼────────┤\n",
       "│ 2018-11-08 │ 0.3418 │\n",
       "│ 2018-11-09 │ 0.5667 │\n",
       "│ 2018-11-10 │ 0.0854 │\n",
       "│ 2018-11-11 │ 0.2479 │\n",
       "│ 2018-11-12 │ 0.6284 │\n",
       "│ 2018-11-13 │ 0.8401 │\n",
       "│ 2018-11-14 │ 0.0315 │\n",
       "│ 2018-11-15 │ 0.5782 │"
      ]
     },
     "execution_count": 220,
     "metadata": {},
     "output_type": "execute_result"
    }
   ],
   "source": [
    "t1 = TimeArray(d1, rand(length(d1)), [:V1])"
   ]
  },
  {
   "cell_type": "code",
   "execution_count": 221,
   "metadata": {},
   "outputs": [
    {
     "data": {
      "text/plain": [
       "11-element Array{Date,1}:\n",
       " 2018-11-08\n",
       " 2018-11-09\n",
       " 2018-11-10\n",
       " 2018-11-11\n",
       " 2018-11-12\n",
       " 2018-11-13\n",
       " 2018-11-14\n",
       " 2018-11-15\n",
       " 2018-11-16\n",
       " 2018-11-17\n",
       " 2018-11-18"
      ]
     },
     "execution_count": 221,
     "metadata": {},
     "output_type": "execute_result"
    }
   ],
   "source": [
    "d2 = today():Day(1):today() + Day(10) |> collect"
   ]
  },
  {
   "cell_type": "code",
   "execution_count": 222,
   "metadata": {},
   "outputs": [
    {
     "data": {
      "text/plain": [
       "11×1 TimeArray{Float64,1,Date,Array{Float64,1}} 2018-11-08 to 2018-11-18\n",
       "│            │ V2     │\n",
       "├────────────┼────────┤\n",
       "│ 2018-11-08 │ 0.4855 │\n",
       "│ 2018-11-09 │ 0.8541 │\n",
       "│ 2018-11-10 │ 0.6346 │\n",
       "│ 2018-11-11 │ 0.9524 │\n",
       "│ 2018-11-12 │ 0.5075 │\n",
       "│ 2018-11-13 │ 0.9923 │\n",
       "│ 2018-11-14 │ 0.6896 │\n",
       "│ 2018-11-15 │ 0.1927 │\n",
       "│ 2018-11-16 │ 0.6022 │\n",
       "│ 2018-11-17 │ 0.0596 │\n",
       "│ 2018-11-18 │ 0.1224 │"
      ]
     },
     "execution_count": 222,
     "metadata": {},
     "output_type": "execute_result"
    }
   ],
   "source": [
    "t2 = TimeArray(d2, rand(length(d2)), [:V2])"
   ]
  },
  {
   "cell_type": "code",
   "execution_count": 223,
   "metadata": {},
   "outputs": [
    {
     "data": {
      "text/plain": [
       "8×2 TimeArray{Float64,2,Date,Array{Float64,2}} 2018-11-08 to 2018-11-15\n",
       "│            │ V1     │ V2     │\n",
       "├────────────┼────────┼────────┤\n",
       "│ 2018-11-08 │ 0.3418 │ 0.4855 │\n",
       "│ 2018-11-09 │ 0.5667 │ 0.8541 │\n",
       "│ 2018-11-10 │ 0.0854 │ 0.6346 │\n",
       "│ 2018-11-11 │ 0.2479 │ 0.9524 │\n",
       "│ 2018-11-12 │ 0.6284 │ 0.5075 │\n",
       "│ 2018-11-13 │ 0.8401 │ 0.9923 │\n",
       "│ 2018-11-14 │ 0.0315 │ 0.6896 │\n",
       "│ 2018-11-15 │ 0.5782 │ 0.1927 │"
      ]
     },
     "execution_count": 223,
     "metadata": {},
     "output_type": "execute_result"
    }
   ],
   "source": [
    "merge(t1, t2)"
   ]
  },
  {
   "cell_type": "code",
   "execution_count": 224,
   "metadata": {},
   "outputs": [
    {
     "data": {
      "text/plain": [
       "11×2 TimeArray{Float64,2,Date,Array{Float64,2}} 2018-11-08 to 2018-11-18\n",
       "│            │ V1     │ V2     │\n",
       "├────────────┼────────┼────────┤\n",
       "│ 2018-11-08 │ 0.3418 │ 0.4855 │\n",
       "│ 2018-11-09 │ 0.5667 │ 0.8541 │\n",
       "│ 2018-11-10 │ 0.0854 │ 0.6346 │\n",
       "│ 2018-11-11 │ 0.2479 │ 0.9524 │\n",
       "│ 2018-11-12 │ 0.6284 │ 0.5075 │\n",
       "│ 2018-11-13 │ 0.8401 │ 0.9923 │\n",
       "│ 2018-11-14 │ 0.0315 │ 0.6896 │\n",
       "│ 2018-11-15 │ 0.5782 │ 0.1927 │\n",
       "│ 2018-11-16 │ NaN    │ 0.6022 │\n",
       "│ 2018-11-17 │ NaN    │ 0.0596 │\n",
       "│ 2018-11-18 │ NaN    │ 0.1224 │"
      ]
     },
     "execution_count": 224,
     "metadata": {},
     "output_type": "execute_result"
    }
   ],
   "source": [
    "merge(t1, t2, :right)"
   ]
  },
  {
   "cell_type": "code",
   "execution_count": 225,
   "metadata": {},
   "outputs": [
    {
     "data": {
      "text/plain": [
       "8-element Array{Date,1}:\n",
       " 2018-11-22\n",
       " 2018-11-23\n",
       " 2018-11-24\n",
       " 2018-11-25\n",
       " 2018-11-26\n",
       " 2018-11-27\n",
       " 2018-11-28\n",
       " 2018-11-29"
      ]
     },
     "execution_count": 225,
     "metadata": {},
     "output_type": "execute_result"
    }
   ],
   "source": [
    "d3 = today() + Week(2):Day(1):today() + Week(3) |> collect"
   ]
  },
  {
   "cell_type": "code",
   "execution_count": 226,
   "metadata": {},
   "outputs": [
    {
     "data": {
      "text/plain": [
       "8×1 TimeArray{Float64,1,Date,Array{Float64,1}} 2018-11-22 to 2018-11-29\n",
       "│            │ V1     │\n",
       "├────────────┼────────┤\n",
       "│ 2018-11-22 │ 0.1828 │\n",
       "│ 2018-11-23 │ 0.5873 │\n",
       "│ 2018-11-24 │ 0.4082 │\n",
       "│ 2018-11-25 │ 0.3342 │\n",
       "│ 2018-11-26 │ 0.3527 │\n",
       "│ 2018-11-27 │ 0.2665 │\n",
       "│ 2018-11-28 │ 0.6121 │\n",
       "│ 2018-11-29 │ 0.5752 │"
      ]
     },
     "execution_count": 226,
     "metadata": {},
     "output_type": "execute_result"
    }
   ],
   "source": [
    "t3 = TimeArray(d3, rand(length(d3)), [:V1])"
   ]
  },
  {
   "cell_type": "code",
   "execution_count": 227,
   "metadata": {},
   "outputs": [
    {
     "data": {
      "text/plain": [
       "16×1 TimeArray{Float64,1,Date,Array{Float64,1}} 2018-11-08 to 2018-11-29\n",
       "│            │ V1     │\n",
       "├────────────┼────────┤\n",
       "│ 2018-11-08 │ 0.3418 │\n",
       "│ 2018-11-09 │ 0.5667 │\n",
       "│ 2018-11-10 │ 0.0854 │\n",
       "│ 2018-11-11 │ 0.2479 │\n",
       "│ 2018-11-12 │ 0.6284 │\n",
       "│ 2018-11-13 │ 0.8401 │\n",
       "│ 2018-11-14 │ 0.0315 │\n",
       "│ 2018-11-15 │ 0.5782 │\n",
       "│ 2018-11-22 │ 0.1828 │\n",
       "│ 2018-11-23 │ 0.5873 │\n",
       "│ 2018-11-24 │ 0.4082 │\n",
       "│ 2018-11-25 │ 0.3342 │\n",
       "│ 2018-11-26 │ 0.3527 │\n",
       "│ 2018-11-27 │ 0.2665 │\n",
       "│ 2018-11-28 │ 0.6121 │\n",
       "│ 2018-11-29 │ 0.5752 │"
      ]
     },
     "execution_count": 227,
     "metadata": {},
     "output_type": "execute_result"
    }
   ],
   "source": [
    "vcat(t1, t3)"
   ]
  },
  {
   "cell_type": "code",
   "execution_count": 228,
   "metadata": {},
   "outputs": [
    {
     "data": {
      "text/plain": [
       "31×1 TimeArray{Float64,1,Date,Array{Float64,1}} 2018-01-01 to 2018-01-31\n",
       "│            │ values │\n",
       "├────────────┼────────┤\n",
       "│ 2018-01-01 │ 0.4218 │\n",
       "│ 2018-01-02 │ 0.7129 │\n",
       "│ 2018-01-03 │ 0.2106 │\n",
       "│ 2018-01-04 │ 0.6044 │\n",
       "│ 2018-01-05 │ 0.8997 │\n",
       "│ 2018-01-06 │ 0.4531 │\n",
       "│ 2018-01-07 │ 0.4468 │\n",
       "│ 2018-01-08 │ 0.7467 │\n",
       "│ 2018-01-09 │ 0.7985 │\n",
       "│ 2018-01-10 │ 0.5579 │\n",
       "│ 2018-01-11 │ 0.1329 │\n",
       "│ 2018-01-12 │ 0.8857 │\n",
       "   ⋮\n",
       "│ 2018-01-21 │ 0.089  │\n",
       "│ 2018-01-22 │ 0.8486 │\n",
       "│ 2018-01-23 │ 0.0687 │\n",
       "│ 2018-01-24 │ 0.2033 │\n",
       "│ 2018-01-25 │ 0.3902 │\n",
       "│ 2018-01-26 │ 0.1009 │\n",
       "│ 2018-01-27 │ 0.3364 │\n",
       "│ 2018-01-28 │ 0.4976 │\n",
       "│ 2018-01-29 │ 0.3819 │\n",
       "│ 2018-01-30 │ 0.9458 │\n",
       "│ 2018-01-31 │ 0.0133 │"
      ]
     },
     "execution_count": 228,
     "metadata": {},
     "output_type": "execute_result"
    }
   ],
   "source": [
    "january = TimeArray(Date(2018, 1, 1):Day(1):Date(2018, 1, 31) |> collect, rand(31), [:values])"
   ]
  },
  {
   "cell_type": "code",
   "execution_count": 230,
   "metadata": {},
   "outputs": [],
   "source": [
    "using Statistics"
   ]
  },
  {
   "cell_type": "code",
   "execution_count": 231,
   "metadata": {},
   "outputs": [
    {
     "data": {
      "text/plain": [
       "5×1 TimeArray{Float64,1,Date,Array{Float64,1}} 2018-01-07 to 2018-01-31\n",
       "│            │ values │\n",
       "├────────────┼────────┤\n",
       "│ 2018-01-07 │ 0.5356 │\n",
       "│ 2018-01-14 │ 0.5607 │\n",
       "│ 2018-01-21 │ 0.4083 │\n",
       "│ 2018-01-28 │ 0.3494 │\n",
       "│ 2018-01-31 │ 0.447  │"
      ]
     },
     "execution_count": 231,
     "metadata": {},
     "output_type": "execute_result"
    }
   ],
   "source": [
    "collapse(january, week, last, mean)"
   ]
  },
  {
   "cell_type": "code",
   "execution_count": 232,
   "metadata": {},
   "outputs": [
    {
     "data": {
      "text/plain": [
       "5×1 TimeArray{Float64,1,Date,Array{Float64,1}} 2018-01-01 to 2018-01-29\n",
       "│            │ values │\n",
       "├────────────┼────────┤\n",
       "│ 2018-01-01 │ 0.4218 │\n",
       "│ 2018-01-08 │ 0.7467 │\n",
       "│ 2018-01-15 │ 0.7094 │\n",
       "│ 2018-01-22 │ 0.8486 │\n",
       "│ 2018-01-29 │ 0.3819 │"
      ]
     },
     "execution_count": 232,
     "metadata": {},
     "output_type": "execute_result"
    }
   ],
   "source": [
    "collapse(january, week, first)"
   ]
  },
  {
   "cell_type": "code",
   "execution_count": 234,
   "metadata": {},
   "outputs": [
    {
     "data": {
      "text/plain": [
       "7×1 TimeArray{Float64,1,Date,Array{Float64,1}} 2019-01-01 to 2019-01-07\n",
       "│            │ values │\n",
       "├────────────┼────────┤\n",
       "│ 2019-01-01 │ 0.4218 │\n",
       "│ 2019-01-02 │ 0.7129 │\n",
       "│ 2019-01-03 │ 0.2106 │\n",
       "│ 2019-01-04 │ 0.6044 │\n",
       "│ 2019-01-05 │ 0.8997 │\n",
       "│ 2019-01-06 │ 0.4531 │\n",
       "│ 2019-01-07 │ 0.4468 │"
      ]
     },
     "execution_count": 234,
     "metadata": {},
     "output_type": "execute_result"
    }
   ],
   "source": [
    "map(january[1:7]) do ts, values\n",
    "    ts += Year(1)\n",
    "    (ts, values)\n",
    "end"
   ]
  },
  {
   "cell_type": "code",
   "execution_count": null,
   "metadata": {},
   "outputs": [],
   "source": []
  }
 ],
 "metadata": {
  "kernelspec": {
   "display_name": "Julia 1.0.1",
   "language": "julia",
   "name": "julia-1.0"
  },
  "language_info": {
   "file_extension": ".jl",
   "mimetype": "application/julia",
   "name": "julia",
   "version": "1.0.1"
  }
 },
 "nbformat": 4,
 "nbformat_minor": 2
}
